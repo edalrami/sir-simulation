{
 "cells": [
  {
   "cell_type": "code",
   "execution_count": 1,
   "metadata": {},
   "outputs": [],
   "source": [
    "import pandas as pd\n",
    "import numpy as np\n",
    "from scipy.integrate import odeint\n",
    "import plotly.graph_objects as go\n",
    "from tqdm import tqdm\n",
    "from simulation import *"
   ]
  },
  {
   "cell_type": "code",
   "execution_count": 18,
   "metadata": {},
   "outputs": [
    {
     "name": "stderr",
     "output_type": "stream",
     "text": [
      "\n",
      "  0%|                                                                                           | 0/15 [00:00<?, ?it/s]"
     ]
    },
    {
     "ename": "KeyboardInterrupt",
     "evalue": "",
     "output_type": "error",
     "traceback": [
      "\u001b[1;31m---------------------------------------------------------------------------\u001b[0m",
      "\u001b[1;31mKeyboardInterrupt\u001b[0m                         Traceback (most recent call last)",
      "\u001b[1;32m<ipython-input-18-e79bab58be24>\u001b[0m in \u001b[0;36m<module>\u001b[1;34m\u001b[0m\n\u001b[1;32m----> 1\u001b[1;33m \u001b[0mrecords\u001b[0m \u001b[1;33m=\u001b[0m \u001b[0msimulation\u001b[0m\u001b[1;33m(\u001b[0m\u001b[0mlow\u001b[0m\u001b[1;33m=\u001b[0m\u001b[1;33m-\u001b[0m\u001b[1;36m25\u001b[0m\u001b[1;33m,\u001b[0m \u001b[0mhigh\u001b[0m\u001b[1;33m=\u001b[0m\u001b[1;36m25\u001b[0m\u001b[1;33m,\u001b[0m \u001b[0mn\u001b[0m\u001b[1;33m=\u001b[0m\u001b[1;36m60\u001b[0m\u001b[1;33m,\u001b[0m \u001b[0minfected_idx\u001b[0m\u001b[1;33m=\u001b[0m\u001b[1;33m{\u001b[0m\u001b[1;36m0\u001b[0m\u001b[1;33m:\u001b[0m\u001b[1;36m2\u001b[0m\u001b[1;33m,\u001b[0m \u001b[1;36m1\u001b[0m\u001b[1;33m:\u001b[0m\u001b[1;36m2\u001b[0m\u001b[1;33m,\u001b[0m \u001b[1;36m2\u001b[0m\u001b[1;33m:\u001b[0m\u001b[1;36m2\u001b[0m\u001b[1;33m}\u001b[0m\u001b[1;33m,\u001b[0m \u001b[0mtotal_step\u001b[0m\u001b[1;33m=\u001b[0m\u001b[1;36m15\u001b[0m\u001b[1;33m,\u001b[0m \u001b[0minfection\u001b[0m\u001b[1;33m=\u001b[0m\u001b[1;33m[\u001b[0m\u001b[1;36m2\u001b[0m\u001b[1;33m,\u001b[0m\u001b[1;36m3\u001b[0m\u001b[1;33m]\u001b[0m\u001b[1;33m,\u001b[0m \u001b[0mnon_im\u001b[0m\u001b[1;33m=\u001b[0m\u001b[1;33m[\u001b[0m\u001b[1;36m1\u001b[0m\u001b[1;33m]\u001b[0m\u001b[1;33m,\u001b[0m \u001b[0minfection_threshold\u001b[0m\u001b[1;33m=\u001b[0m\u001b[1;36m6\u001b[0m\u001b[1;33m,\u001b[0m \u001b[0mrw_low\u001b[0m\u001b[1;33m=\u001b[0m\u001b[1;36m5\u001b[0m\u001b[1;33m,\u001b[0m \u001b[0mrw_high\u001b[0m\u001b[1;33m=\u001b[0m\u001b[1;36m5\u001b[0m\u001b[1;33m,\u001b[0m \u001b[0msd_threshold\u001b[0m\u001b[1;33m=\u001b[0m\u001b[1;36m3\u001b[0m\u001b[1;33m)\u001b[0m\u001b[1;33m\u001b[0m\u001b[0m\n\u001b[0m",
      "\u001b[1;32m~\\Desktop\\projects\\sir-dash\\simulation.py\u001b[0m in \u001b[0;36msimulation\u001b[1;34m(low, high, n, infected_idx, total_step, infection, non_im, infection_threshold, rw_low, rw_high, sd_threshold, default_val)\u001b[0m\n\u001b[0;32m    130\u001b[0m         \u001b[0mstep_record\u001b[0m\u001b[1;33m[\u001b[0m\u001b[0mi\u001b[0m\u001b[1;33m]\u001b[0m \u001b[1;33m=\u001b[0m \u001b[0mnew_data\u001b[0m\u001b[1;33m\u001b[0m\u001b[0m\n\u001b[0;32m    131\u001b[0m         \u001b[1;31m# random walk with social distancing\u001b[0m\u001b[1;33m\u001b[0m\u001b[1;33m\u001b[0m\u001b[0m\n\u001b[1;32m--> 132\u001b[1;33m         \u001b[0mnew_data\u001b[0m \u001b[1;33m=\u001b[0m \u001b[0msocial_distancing\u001b[0m\u001b[1;33m(\u001b[0m\u001b[0mnew_data\u001b[0m\u001b[1;33m,\u001b[0m \u001b[0mrw_low\u001b[0m\u001b[1;33m,\u001b[0m \u001b[0mrw_high\u001b[0m\u001b[1;33m,\u001b[0m \u001b[0msd_threshold\u001b[0m\u001b[1;33m)\u001b[0m\u001b[1;33m\u001b[0m\u001b[0m\n\u001b[0m\u001b[0;32m    133\u001b[0m         \u001b[0minitial_data\u001b[0m \u001b[1;33m=\u001b[0m \u001b[0mnew_data\u001b[0m\u001b[1;33m\u001b[0m\u001b[0m\n\u001b[0;32m    134\u001b[0m \u001b[1;33m\u001b[0m\u001b[0m\n",
      "\u001b[1;32m~\\Desktop\\projects\\sir-dash\\simulation.py\u001b[0m in \u001b[0;36msocial_distancing\u001b[1;34m(in_df, low, high, threshold)\u001b[0m\n\u001b[0;32m     92\u001b[0m     \u001b[1;32mwhile\u001b[0m \u001b[1;32mTrue\u001b[0m\u001b[1;33m:\u001b[0m\u001b[1;33m\u001b[0m\u001b[0m\n\u001b[0;32m     93\u001b[0m         \u001b[0mnew_data\u001b[0m \u001b[1;33m=\u001b[0m \u001b[0mrandom_walk\u001b[0m\u001b[1;33m(\u001b[0m\u001b[0min_df\u001b[0m\u001b[1;33m,\u001b[0m \u001b[0mlow\u001b[0m\u001b[1;33m,\u001b[0m \u001b[0mhigh\u001b[0m\u001b[1;33m)\u001b[0m\u001b[1;33m\u001b[0m\u001b[0m\n\u001b[1;32m---> 94\u001b[1;33m         \u001b[1;32mif\u001b[0m \u001b[0mdistance_check\u001b[0m\u001b[1;33m(\u001b[0m\u001b[0mnew_data\u001b[0m\u001b[1;33m,\u001b[0m \u001b[0mthreshold\u001b[0m\u001b[1;33m)\u001b[0m\u001b[1;33m:\u001b[0m\u001b[1;33m\u001b[0m\u001b[0m\n\u001b[0m\u001b[0;32m     95\u001b[0m             \u001b[1;32mbreak\u001b[0m\u001b[1;33m\u001b[0m\u001b[0m\n\u001b[0;32m     96\u001b[0m \u001b[1;33m\u001b[0m\u001b[0m\n",
      "\u001b[1;32m~\\Desktop\\projects\\sir-dash\\simulation.py\u001b[0m in \u001b[0;36mdistance_check\u001b[1;34m(in_df, threshold)\u001b[0m\n\u001b[0;32m     84\u001b[0m \u001b[1;33m\u001b[0m\u001b[0m\n\u001b[0;32m     85\u001b[0m \u001b[1;32mdef\u001b[0m \u001b[0mdistance_check\u001b[0m\u001b[1;33m(\u001b[0m\u001b[0min_df\u001b[0m\u001b[1;33m,\u001b[0m \u001b[0mthreshold\u001b[0m\u001b[1;33m)\u001b[0m\u001b[1;33m:\u001b[0m\u001b[1;33m\u001b[0m\u001b[0m\n\u001b[1;32m---> 86\u001b[1;33m     \u001b[1;32mreturn\u001b[0m \u001b[0mall\u001b[0m\u001b[1;33m(\u001b[0m\u001b[1;33m[\u001b[0m\u001b[0mdistance_check_single\u001b[0m\u001b[1;33m(\u001b[0m\u001b[0min_df\u001b[0m\u001b[1;33m,\u001b[0m \u001b[0mj\u001b[0m\u001b[1;33m,\u001b[0m \u001b[0mi\u001b[0m\u001b[1;33m,\u001b[0m \u001b[0mthreshold\u001b[0m\u001b[1;33m)\u001b[0m \u001b[1;32mfor\u001b[0m \u001b[0mi\u001b[0m\u001b[1;33m,\u001b[0m\u001b[0mj\u001b[0m \u001b[1;32min\u001b[0m \u001b[0min_df\u001b[0m\u001b[1;33m.\u001b[0m\u001b[0miterrows\u001b[0m\u001b[1;33m(\u001b[0m\u001b[1;33m)\u001b[0m\u001b[1;33m]\u001b[0m\u001b[1;33m)\u001b[0m\u001b[1;33m\u001b[0m\u001b[0m\n\u001b[0m\u001b[0;32m     87\u001b[0m \u001b[1;33m\u001b[0m\u001b[0m\n\u001b[0;32m     88\u001b[0m \u001b[1;32mdef\u001b[0m \u001b[0msocial_distancing\u001b[0m\u001b[1;33m(\u001b[0m\u001b[0min_df\u001b[0m\u001b[1;33m,\u001b[0m \u001b[0mlow\u001b[0m\u001b[1;33m,\u001b[0m \u001b[0mhigh\u001b[0m\u001b[1;33m,\u001b[0m \u001b[0mthreshold\u001b[0m\u001b[1;33m)\u001b[0m\u001b[1;33m:\u001b[0m\u001b[1;33m\u001b[0m\u001b[0m\n",
      "\u001b[1;32m~\\Desktop\\projects\\sir-dash\\simulation.py\u001b[0m in \u001b[0;36m<listcomp>\u001b[1;34m(.0)\u001b[0m\n\u001b[0;32m     84\u001b[0m \u001b[1;33m\u001b[0m\u001b[0m\n\u001b[0;32m     85\u001b[0m \u001b[1;32mdef\u001b[0m \u001b[0mdistance_check\u001b[0m\u001b[1;33m(\u001b[0m\u001b[0min_df\u001b[0m\u001b[1;33m,\u001b[0m \u001b[0mthreshold\u001b[0m\u001b[1;33m)\u001b[0m\u001b[1;33m:\u001b[0m\u001b[1;33m\u001b[0m\u001b[0m\n\u001b[1;32m---> 86\u001b[1;33m     \u001b[1;32mreturn\u001b[0m \u001b[0mall\u001b[0m\u001b[1;33m(\u001b[0m\u001b[1;33m[\u001b[0m\u001b[0mdistance_check_single\u001b[0m\u001b[1;33m(\u001b[0m\u001b[0min_df\u001b[0m\u001b[1;33m,\u001b[0m \u001b[0mj\u001b[0m\u001b[1;33m,\u001b[0m \u001b[0mi\u001b[0m\u001b[1;33m,\u001b[0m \u001b[0mthreshold\u001b[0m\u001b[1;33m)\u001b[0m \u001b[1;32mfor\u001b[0m \u001b[0mi\u001b[0m\u001b[1;33m,\u001b[0m\u001b[0mj\u001b[0m \u001b[1;32min\u001b[0m \u001b[0min_df\u001b[0m\u001b[1;33m.\u001b[0m\u001b[0miterrows\u001b[0m\u001b[1;33m(\u001b[0m\u001b[1;33m)\u001b[0m\u001b[1;33m]\u001b[0m\u001b[1;33m)\u001b[0m\u001b[1;33m\u001b[0m\u001b[0m\n\u001b[0m\u001b[0;32m     87\u001b[0m \u001b[1;33m\u001b[0m\u001b[0m\n\u001b[0;32m     88\u001b[0m \u001b[1;32mdef\u001b[0m \u001b[0msocial_distancing\u001b[0m\u001b[1;33m(\u001b[0m\u001b[0min_df\u001b[0m\u001b[1;33m,\u001b[0m \u001b[0mlow\u001b[0m\u001b[1;33m,\u001b[0m \u001b[0mhigh\u001b[0m\u001b[1;33m,\u001b[0m \u001b[0mthreshold\u001b[0m\u001b[1;33m)\u001b[0m\u001b[1;33m:\u001b[0m\u001b[1;33m\u001b[0m\u001b[0m\n",
      "\u001b[1;32m~\\Desktop\\projects\\sir-dash\\simulation.py\u001b[0m in \u001b[0;36mdistance_check_single\u001b[1;34m(in_df, in_point, exclude, threshold)\u001b[0m\n\u001b[0;32m     79\u001b[0m     \"\"\"\n\u001b[0;32m     80\u001b[0m     \u001b[0min_array\u001b[0m \u001b[1;33m=\u001b[0m \u001b[0min_df\u001b[0m\u001b[1;33m[\u001b[0m\u001b[1;33m[\u001b[0m\u001b[1;34m'x'\u001b[0m\u001b[1;33m,\u001b[0m\u001b[1;34m'y'\u001b[0m\u001b[1;33m]\u001b[0m\u001b[1;33m]\u001b[0m\u001b[1;33m.\u001b[0m\u001b[0mvalues\u001b[0m\u001b[1;33m\u001b[0m\u001b[0m\n\u001b[1;32m---> 81\u001b[1;33m     \u001b[0mall_dist\u001b[0m \u001b[1;33m=\u001b[0m \u001b[0mnp\u001b[0m\u001b[1;33m.\u001b[0m\u001b[0msum\u001b[0m\u001b[1;33m(\u001b[0m\u001b[1;33m(\u001b[0m\u001b[0min_df\u001b[0m \u001b[1;33m-\u001b[0m \u001b[0min_point\u001b[0m\u001b[1;33m)\u001b[0m\u001b[1;33m**\u001b[0m\u001b[1;36m2\u001b[0m\u001b[1;33m,\u001b[0m \u001b[1;36m1\u001b[0m\u001b[1;33m)\u001b[0m\u001b[1;33m**\u001b[0m\u001b[1;36m0.5\u001b[0m\u001b[1;33m\u001b[0m\u001b[0m\n\u001b[0m\u001b[0;32m     82\u001b[0m     \u001b[0mall_dist\u001b[0m \u001b[1;33m=\u001b[0m \u001b[0mnp\u001b[0m\u001b[1;33m.\u001b[0m\u001b[0marray\u001b[0m\u001b[1;33m(\u001b[0m\u001b[1;33m[\u001b[0m\u001b[0mj\u001b[0m \u001b[1;32mfor\u001b[0m \u001b[0mi\u001b[0m\u001b[1;33m,\u001b[0m\u001b[0mj\u001b[0m \u001b[1;32min\u001b[0m \u001b[0menumerate\u001b[0m\u001b[1;33m(\u001b[0m\u001b[0mall_dist\u001b[0m\u001b[1;33m)\u001b[0m \u001b[1;32mif\u001b[0m \u001b[0mi\u001b[0m \u001b[1;33m!=\u001b[0m \u001b[0mexclude\u001b[0m\u001b[1;33m]\u001b[0m\u001b[1;33m)\u001b[0m\u001b[1;33m\u001b[0m\u001b[0m\n\u001b[0;32m     83\u001b[0m     \u001b[1;32mreturn\u001b[0m \u001b[0mall\u001b[0m\u001b[1;33m(\u001b[0m\u001b[0mall_dist\u001b[0m \u001b[1;33m>=\u001b[0m \u001b[0mthreshold\u001b[0m\u001b[1;33m)\u001b[0m\u001b[1;33m\u001b[0m\u001b[0m\n",
      "\u001b[1;32m~\\Anaconda3\\lib\\site-packages\\pandas\\core\\ops.py\u001b[0m in \u001b[0;36mf\u001b[1;34m(self, other, axis, level, fill_value)\u001b[0m\n\u001b[0;32m   1552\u001b[0m             return _combine_series_frame(self, other, na_op,\n\u001b[0;32m   1553\u001b[0m                                          \u001b[0mfill_value\u001b[0m\u001b[1;33m=\u001b[0m\u001b[0mfill_value\u001b[0m\u001b[1;33m,\u001b[0m \u001b[0maxis\u001b[0m\u001b[1;33m=\u001b[0m\u001b[0maxis\u001b[0m\u001b[1;33m,\u001b[0m\u001b[1;33m\u001b[0m\u001b[0m\n\u001b[1;32m-> 1554\u001b[1;33m                                          level=level, try_cast=True)\n\u001b[0m\u001b[0;32m   1555\u001b[0m         \u001b[1;32melse\u001b[0m\u001b[1;33m:\u001b[0m\u001b[1;33m\u001b[0m\u001b[0m\n\u001b[0;32m   1556\u001b[0m             \u001b[1;32mif\u001b[0m \u001b[0mfill_value\u001b[0m \u001b[1;32mis\u001b[0m \u001b[1;32mnot\u001b[0m \u001b[1;32mNone\u001b[0m\u001b[1;33m:\u001b[0m\u001b[1;33m\u001b[0m\u001b[0m\n",
      "\u001b[1;32m~\\Anaconda3\\lib\\site-packages\\pandas\\core\\ops.py\u001b[0m in \u001b[0;36m_combine_series_frame\u001b[1;34m(self, other, func, fill_value, axis, level, try_cast)\u001b[0m\n\u001b[0;32m   1437\u001b[0m         \u001b[1;31m# default axis is columns\u001b[0m\u001b[1;33m\u001b[0m\u001b[1;33m\u001b[0m\u001b[0m\n\u001b[0;32m   1438\u001b[0m         return self._combine_match_columns(other, func, level=level,\n\u001b[1;32m-> 1439\u001b[1;33m                                            try_cast=try_cast)\n\u001b[0m\u001b[0;32m   1440\u001b[0m \u001b[1;33m\u001b[0m\u001b[0m\n\u001b[0;32m   1441\u001b[0m \u001b[1;33m\u001b[0m\u001b[0m\n",
      "\u001b[1;32m~\\Anaconda3\\lib\\site-packages\\pandas\\core\\frame.py\u001b[0m in \u001b[0;36m_combine_match_columns\u001b[1;34m(self, other, func, level, try_cast)\u001b[0m\n\u001b[0;32m   4771\u001b[0m         new_data = left._data.eval(func=func, other=right,\n\u001b[0;32m   4772\u001b[0m                                    \u001b[0maxes\u001b[0m\u001b[1;33m=\u001b[0m\u001b[1;33m[\u001b[0m\u001b[0mleft\u001b[0m\u001b[1;33m.\u001b[0m\u001b[0mcolumns\u001b[0m\u001b[1;33m,\u001b[0m \u001b[0mself\u001b[0m\u001b[1;33m.\u001b[0m\u001b[0mindex\u001b[0m\u001b[1;33m]\u001b[0m\u001b[1;33m,\u001b[0m\u001b[1;33m\u001b[0m\u001b[0m\n\u001b[1;32m-> 4773\u001b[1;33m                                    try_cast=try_cast)\n\u001b[0m\u001b[0;32m   4774\u001b[0m         \u001b[1;32mreturn\u001b[0m \u001b[0mself\u001b[0m\u001b[1;33m.\u001b[0m\u001b[0m_constructor\u001b[0m\u001b[1;33m(\u001b[0m\u001b[0mnew_data\u001b[0m\u001b[1;33m)\u001b[0m\u001b[1;33m\u001b[0m\u001b[0m\n\u001b[0;32m   4775\u001b[0m \u001b[1;33m\u001b[0m\u001b[0m\n",
      "\u001b[1;32m~\\Anaconda3\\lib\\site-packages\\pandas\\core\\internals.py\u001b[0m in \u001b[0;36meval\u001b[1;34m(self, **kwargs)\u001b[0m\n\u001b[0;32m   3685\u001b[0m \u001b[1;33m\u001b[0m\u001b[0m\n\u001b[0;32m   3686\u001b[0m     \u001b[1;32mdef\u001b[0m \u001b[0meval\u001b[0m\u001b[1;33m(\u001b[0m\u001b[0mself\u001b[0m\u001b[1;33m,\u001b[0m \u001b[1;33m**\u001b[0m\u001b[0mkwargs\u001b[0m\u001b[1;33m)\u001b[0m\u001b[1;33m:\u001b[0m\u001b[1;33m\u001b[0m\u001b[0m\n\u001b[1;32m-> 3687\u001b[1;33m         \u001b[1;32mreturn\u001b[0m \u001b[0mself\u001b[0m\u001b[1;33m.\u001b[0m\u001b[0mapply\u001b[0m\u001b[1;33m(\u001b[0m\u001b[1;34m'eval'\u001b[0m\u001b[1;33m,\u001b[0m \u001b[1;33m**\u001b[0m\u001b[0mkwargs\u001b[0m\u001b[1;33m)\u001b[0m\u001b[1;33m\u001b[0m\u001b[0m\n\u001b[0m\u001b[0;32m   3688\u001b[0m \u001b[1;33m\u001b[0m\u001b[0m\n\u001b[0;32m   3689\u001b[0m     \u001b[1;32mdef\u001b[0m \u001b[0mquantile\u001b[0m\u001b[1;33m(\u001b[0m\u001b[0mself\u001b[0m\u001b[1;33m,\u001b[0m \u001b[1;33m**\u001b[0m\u001b[0mkwargs\u001b[0m\u001b[1;33m)\u001b[0m\u001b[1;33m:\u001b[0m\u001b[1;33m\u001b[0m\u001b[0m\n",
      "\u001b[1;32m~\\Anaconda3\\lib\\site-packages\\pandas\\core\\internals.py\u001b[0m in \u001b[0;36mapply\u001b[1;34m(self, f, axes, filter, do_integrity_check, consolidate, **kwargs)\u001b[0m\n\u001b[0;32m   3576\u001b[0m                     \u001b[0maxis\u001b[0m \u001b[1;33m=\u001b[0m \u001b[0mgetattr\u001b[0m\u001b[1;33m(\u001b[0m\u001b[0mobj\u001b[0m\u001b[1;33m,\u001b[0m \u001b[1;34m'_info_axis_number'\u001b[0m\u001b[1;33m,\u001b[0m \u001b[1;36m0\u001b[0m\u001b[1;33m)\u001b[0m\u001b[1;33m\u001b[0m\u001b[0m\n\u001b[0;32m   3577\u001b[0m                     kwargs[k] = obj.reindex(b_items, axis=axis,\n\u001b[1;32m-> 3578\u001b[1;33m                                             copy=align_copy)\n\u001b[0m\u001b[0;32m   3579\u001b[0m \u001b[1;33m\u001b[0m\u001b[0m\n\u001b[0;32m   3580\u001b[0m             \u001b[0mkwargs\u001b[0m\u001b[1;33m[\u001b[0m\u001b[1;34m'mgr'\u001b[0m\u001b[1;33m]\u001b[0m \u001b[1;33m=\u001b[0m \u001b[0mself\u001b[0m\u001b[1;33m\u001b[0m\u001b[0m\n",
      "\u001b[1;32m~\\Anaconda3\\lib\\site-packages\\pandas\\core\\series.py\u001b[0m in \u001b[0;36mreindex\u001b[1;34m(self, index, **kwargs)\u001b[0m\n\u001b[0;32m   3323\u001b[0m     \u001b[1;33m@\u001b[0m\u001b[0mAppender\u001b[0m\u001b[1;33m(\u001b[0m\u001b[0mgeneric\u001b[0m\u001b[1;33m.\u001b[0m\u001b[0m_shared_docs\u001b[0m\u001b[1;33m[\u001b[0m\u001b[1;34m'reindex'\u001b[0m\u001b[1;33m]\u001b[0m \u001b[1;33m%\u001b[0m \u001b[0m_shared_doc_kwargs\u001b[0m\u001b[1;33m)\u001b[0m\u001b[1;33m\u001b[0m\u001b[0m\n\u001b[0;32m   3324\u001b[0m     \u001b[1;32mdef\u001b[0m \u001b[0mreindex\u001b[0m\u001b[1;33m(\u001b[0m\u001b[0mself\u001b[0m\u001b[1;33m,\u001b[0m \u001b[0mindex\u001b[0m\u001b[1;33m=\u001b[0m\u001b[1;32mNone\u001b[0m\u001b[1;33m,\u001b[0m \u001b[1;33m**\u001b[0m\u001b[0mkwargs\u001b[0m\u001b[1;33m)\u001b[0m\u001b[1;33m:\u001b[0m\u001b[1;33m\u001b[0m\u001b[0m\n\u001b[1;32m-> 3325\u001b[1;33m         \u001b[1;32mreturn\u001b[0m \u001b[0msuper\u001b[0m\u001b[1;33m(\u001b[0m\u001b[0mSeries\u001b[0m\u001b[1;33m,\u001b[0m \u001b[0mself\u001b[0m\u001b[1;33m)\u001b[0m\u001b[1;33m.\u001b[0m\u001b[0mreindex\u001b[0m\u001b[1;33m(\u001b[0m\u001b[0mindex\u001b[0m\u001b[1;33m=\u001b[0m\u001b[0mindex\u001b[0m\u001b[1;33m,\u001b[0m \u001b[1;33m**\u001b[0m\u001b[0mkwargs\u001b[0m\u001b[1;33m)\u001b[0m\u001b[1;33m\u001b[0m\u001b[0m\n\u001b[0m\u001b[0;32m   3326\u001b[0m \u001b[1;33m\u001b[0m\u001b[0m\n\u001b[0;32m   3327\u001b[0m     def drop(self, labels=None, axis=0, index=None, columns=None,\n",
      "\u001b[1;32m~\\Anaconda3\\lib\\site-packages\\pandas\\core\\generic.py\u001b[0m in \u001b[0;36mreindex\u001b[1;34m(self, *args, **kwargs)\u001b[0m\n\u001b[0;32m   3687\u001b[0m         \u001b[1;31m# perform the reindex on the axes\u001b[0m\u001b[1;33m\u001b[0m\u001b[1;33m\u001b[0m\u001b[0m\n\u001b[0;32m   3688\u001b[0m         return self._reindex_axes(axes, level, limit, tolerance, method,\n\u001b[1;32m-> 3689\u001b[1;33m                                   fill_value, copy).__finalize__(self)\n\u001b[0m\u001b[0;32m   3690\u001b[0m \u001b[1;33m\u001b[0m\u001b[0m\n\u001b[0;32m   3691\u001b[0m     def _reindex_axes(self, axes, level, limit, tolerance, method, fill_value,\n",
      "\u001b[1;32m~\\Anaconda3\\lib\\site-packages\\pandas\\core\\generic.py\u001b[0m in \u001b[0;36m_reindex_axes\u001b[1;34m(self, axes, level, limit, tolerance, method, fill_value, copy)\u001b[0m\n\u001b[0;32m   3705\u001b[0m             obj = obj._reindex_with_indexers({axis: [new_index, indexer]},\n\u001b[0;32m   3706\u001b[0m                                              \u001b[0mfill_value\u001b[0m\u001b[1;33m=\u001b[0m\u001b[0mfill_value\u001b[0m\u001b[1;33m,\u001b[0m\u001b[1;33m\u001b[0m\u001b[0m\n\u001b[1;32m-> 3707\u001b[1;33m                                              copy=copy, allow_dups=False)\n\u001b[0m\u001b[0;32m   3708\u001b[0m \u001b[1;33m\u001b[0m\u001b[0m\n\u001b[0;32m   3709\u001b[0m         \u001b[1;32mreturn\u001b[0m \u001b[0mobj\u001b[0m\u001b[1;33m\u001b[0m\u001b[0m\n",
      "\u001b[1;32m~\\Anaconda3\\lib\\site-packages\\pandas\\core\\generic.py\u001b[0m in \u001b[0;36m_reindex_with_indexers\u001b[1;34m(self, reindexers, fill_value, copy, allow_dups)\u001b[0m\n\u001b[0;32m   3808\u001b[0m                                                 \u001b[0mfill_value\u001b[0m\u001b[1;33m=\u001b[0m\u001b[0mfill_value\u001b[0m\u001b[1;33m,\u001b[0m\u001b[1;33m\u001b[0m\u001b[0m\n\u001b[0;32m   3809\u001b[0m                                                 \u001b[0mallow_dups\u001b[0m\u001b[1;33m=\u001b[0m\u001b[0mallow_dups\u001b[0m\u001b[1;33m,\u001b[0m\u001b[1;33m\u001b[0m\u001b[0m\n\u001b[1;32m-> 3810\u001b[1;33m                                                 copy=copy)\n\u001b[0m\u001b[0;32m   3811\u001b[0m \u001b[1;33m\u001b[0m\u001b[0m\n\u001b[0;32m   3812\u001b[0m         \u001b[1;32mif\u001b[0m \u001b[0mcopy\u001b[0m \u001b[1;32mand\u001b[0m \u001b[0mnew_data\u001b[0m \u001b[1;32mis\u001b[0m \u001b[0mself\u001b[0m\u001b[1;33m.\u001b[0m\u001b[0m_data\u001b[0m\u001b[1;33m:\u001b[0m\u001b[1;33m\u001b[0m\u001b[0m\n",
      "\u001b[1;32m~\\Anaconda3\\lib\\site-packages\\pandas\\core\\internals.py\u001b[0m in \u001b[0;36mreindex_indexer\u001b[1;34m(self, new_axis, indexer, axis, fill_value, allow_dups, copy)\u001b[0m\n\u001b[0;32m   4419\u001b[0m         \u001b[1;32mif\u001b[0m \u001b[0maxis\u001b[0m \u001b[1;33m==\u001b[0m \u001b[1;36m0\u001b[0m\u001b[1;33m:\u001b[0m\u001b[1;33m\u001b[0m\u001b[0m\n\u001b[0;32m   4420\u001b[0m             new_blocks = self._slice_take_blocks_ax0(indexer,\n\u001b[1;32m-> 4421\u001b[1;33m                                                      fill_tuple=(fill_value,))\n\u001b[0m\u001b[0;32m   4422\u001b[0m         \u001b[1;32melse\u001b[0m\u001b[1;33m:\u001b[0m\u001b[1;33m\u001b[0m\u001b[0m\n\u001b[0;32m   4423\u001b[0m             new_blocks = [blk.take_nd(indexer, axis=axis, fill_tuple=(\n",
      "\u001b[1;32m~\\Anaconda3\\lib\\site-packages\\pandas\\core\\internals.py\u001b[0m in \u001b[0;36m_slice_take_blocks_ax0\u001b[1;34m(self, slice_or_indexer, fill_tuple)\u001b[0m\n\u001b[0;32m   4458\u001b[0m                 return [blk.take_nd(slobj, axis=0,\n\u001b[0;32m   4459\u001b[0m                                     \u001b[0mnew_mgr_locs\u001b[0m\u001b[1;33m=\u001b[0m\u001b[0mslice\u001b[0m\u001b[1;33m(\u001b[0m\u001b[1;36m0\u001b[0m\u001b[1;33m,\u001b[0m \u001b[0msllen\u001b[0m\u001b[1;33m)\u001b[0m\u001b[1;33m,\u001b[0m\u001b[1;33m\u001b[0m\u001b[0m\n\u001b[1;32m-> 4460\u001b[1;33m                                     fill_tuple=fill_tuple)]\n\u001b[0m\u001b[0;32m   4461\u001b[0m \u001b[1;33m\u001b[0m\u001b[0m\n\u001b[0;32m   4462\u001b[0m         \u001b[1;32mif\u001b[0m \u001b[0msl_type\u001b[0m \u001b[1;32min\u001b[0m \u001b[1;33m(\u001b[0m\u001b[1;34m'slice'\u001b[0m\u001b[1;33m,\u001b[0m \u001b[1;34m'mask'\u001b[0m\u001b[1;33m)\u001b[0m\u001b[1;33m:\u001b[0m\u001b[1;33m\u001b[0m\u001b[0m\n",
      "\u001b[1;32m~\\Anaconda3\\lib\\site-packages\\pandas\\core\\internals.py\u001b[0m in \u001b[0;36mtake_nd\u001b[1;34m(self, indexer, axis, new_mgr_locs, fill_tuple)\u001b[0m\n\u001b[0;32m   1256\u001b[0m             \u001b[0mfill_value\u001b[0m \u001b[1;33m=\u001b[0m \u001b[0mfill_tuple\u001b[0m\u001b[1;33m[\u001b[0m\u001b[1;36m0\u001b[0m\u001b[1;33m]\u001b[0m\u001b[1;33m\u001b[0m\u001b[0m\n\u001b[0;32m   1257\u001b[0m             new_values = algos.take_nd(values, indexer, axis=axis,\n\u001b[1;32m-> 1258\u001b[1;33m                                        allow_fill=True, fill_value=fill_value)\n\u001b[0m\u001b[0;32m   1259\u001b[0m \u001b[1;33m\u001b[0m\u001b[0m\n\u001b[0;32m   1260\u001b[0m         \u001b[1;32mif\u001b[0m \u001b[0mnew_mgr_locs\u001b[0m \u001b[1;32mis\u001b[0m \u001b[1;32mNone\u001b[0m\u001b[1;33m:\u001b[0m\u001b[1;33m\u001b[0m\u001b[0m\n",
      "\u001b[1;32m~\\Anaconda3\\lib\\site-packages\\pandas\\core\\algorithms.py\u001b[0m in \u001b[0;36mtake_nd\u001b[1;34m(arr, indexer, axis, out, fill_value, mask_info, allow_fill)\u001b[0m\n\u001b[0;32m   1657\u001b[0m     func = _get_take_nd_function(arr.ndim, arr.dtype, out.dtype, axis=axis,\n\u001b[0;32m   1658\u001b[0m                                  mask_info=mask_info)\n\u001b[1;32m-> 1659\u001b[1;33m     \u001b[0mfunc\u001b[0m\u001b[1;33m(\u001b[0m\u001b[0marr\u001b[0m\u001b[1;33m,\u001b[0m \u001b[0mindexer\u001b[0m\u001b[1;33m,\u001b[0m \u001b[0mout\u001b[0m\u001b[1;33m,\u001b[0m \u001b[0mfill_value\u001b[0m\u001b[1;33m)\u001b[0m\u001b[1;33m\u001b[0m\u001b[0m\n\u001b[0m\u001b[0;32m   1660\u001b[0m \u001b[1;33m\u001b[0m\u001b[0m\n\u001b[0;32m   1661\u001b[0m     \u001b[1;32mif\u001b[0m \u001b[0mflip_order\u001b[0m\u001b[1;33m:\u001b[0m\u001b[1;33m\u001b[0m\u001b[0m\n",
      "\u001b[1;31mKeyboardInterrupt\u001b[0m: "
     ]
    }
   ],
   "source": [
    "records = simulation(low=-25, high=25, n=60, infected_idx={0:2, 1:2, 2:2}, total_step=15, infection=[2,3], non_im=[1], infection_threshold=6, rw_low=5, rw_high=5, sd_threshold=3)"
   ]
  },
  {
   "cell_type": "code",
   "execution_count": 12,
   "metadata": {
    "scrolled": true
   },
   "outputs": [],
   "source": [
    "df = pd.DataFrame(columns=['x','y','status','step'])\n",
    "for frame in records.keys():\n",
    "    temp = records[frame].copy()\n",
    "    df = pd.concat([df, temp])"
   ]
  },
  {
   "cell_type": "code",
   "execution_count": 13,
   "metadata": {
    "scrolled": true
   },
   "outputs": [
    {
     "data": {
      "text/html": [
       "<div>\n",
       "<style scoped>\n",
       "    .dataframe tbody tr th:only-of-type {\n",
       "        vertical-align: middle;\n",
       "    }\n",
       "\n",
       "    .dataframe tbody tr th {\n",
       "        vertical-align: top;\n",
       "    }\n",
       "\n",
       "    .dataframe thead th {\n",
       "        text-align: right;\n",
       "    }\n",
       "</style>\n",
       "<table border=\"1\" class=\"dataframe\">\n",
       "  <thead>\n",
       "    <tr style=\"text-align: right;\">\n",
       "      <th></th>\n",
       "      <th>x</th>\n",
       "      <th>y</th>\n",
       "      <th>status</th>\n",
       "      <th>step</th>\n",
       "    </tr>\n",
       "  </thead>\n",
       "  <tbody>\n",
       "    <tr>\n",
       "      <th>0</th>\n",
       "      <td>-2.680311</td>\n",
       "      <td>-28.343659</td>\n",
       "      <td>2</td>\n",
       "      <td>0</td>\n",
       "    </tr>\n",
       "    <tr>\n",
       "      <th>1</th>\n",
       "      <td>11.850360</td>\n",
       "      <td>2.166686</td>\n",
       "      <td>2</td>\n",
       "      <td>0</td>\n",
       "    </tr>\n",
       "    <tr>\n",
       "      <th>2</th>\n",
       "      <td>-25.190671</td>\n",
       "      <td>-17.835922</td>\n",
       "      <td>2</td>\n",
       "      <td>0</td>\n",
       "    </tr>\n",
       "    <tr>\n",
       "      <th>3</th>\n",
       "      <td>-48.401473</td>\n",
       "      <td>-27.558264</td>\n",
       "      <td>1</td>\n",
       "      <td>0</td>\n",
       "    </tr>\n",
       "    <tr>\n",
       "      <th>4</th>\n",
       "      <td>19.849296</td>\n",
       "      <td>42.549524</td>\n",
       "      <td>1</td>\n",
       "      <td>0</td>\n",
       "    </tr>\n",
       "  </tbody>\n",
       "</table>\n",
       "</div>"
      ],
      "text/plain": [
       "           x          y status step\n",
       "0  -2.680311 -28.343659      2    0\n",
       "1  11.850360   2.166686      2    0\n",
       "2 -25.190671 -17.835922      2    0\n",
       "3 -48.401473 -27.558264      1    0\n",
       "4  19.849296  42.549524      1    0"
      ]
     },
     "execution_count": 13,
     "metadata": {},
     "output_type": "execute_result"
    }
   ],
   "source": [
    "df.head()"
   ]
  },
  {
   "cell_type": "code",
   "execution_count": 19,
   "metadata": {},
   "outputs": [],
   "source": [
    "def generate_bounded_random_walk(n, lower_bound, upper_bound, std):\n",
    "    start = np.random.uniform(lower_bound, upper_bound)\n",
    "    end = np.random.uniform(lower_bound, upper_bound)\n",
    "\n",
    "    bounds = upper_bound - lower_bound\n",
    "\n",
    "    #Generate Random Walk\n",
    "    rand = (std * (np.random.random(n) - 0.5)).cumsum()\n",
    "    #trend line of random walk\n",
    "    rand_trend = np.linspace(rand[0], rand[-1], n)\n",
    "    #rand_trend's deviation from rand\n",
    "    rand_deltas = (rand - rand_trend)\n",
    "    rand_deltas /= np.max([1, (rand_deltas.max()-rand_deltas.min())/bounds])\n",
    "    \n",
    "    #Connect start and end points on a trend line with n points\n",
    "    trend_line = np.linspace(start, end, n)\n",
    "    \n",
    "    #trend line deviation from upper and lower bounds\n",
    "    upper_bound_delta = upper_bound - trend_line\n",
    "    lower_bound_delta = lower_bound - trend_line\n",
    "\n",
    "    #Fold deviations back within boundary\n",
    "    upper_slips_mask = (rand_deltas-upper_bound_delta) >= 0\n",
    "    upper_deltas =  rand_deltas - upper_bound_delta\n",
    "    rand_deltas[upper_slips_mask] = (upper_bound_delta - upper_deltas)[upper_slips_mask]\n",
    "\n",
    "    lower_slips_mask = (lower_bound_delta-rand_deltas) >= 0\n",
    "    lower_deltas =  lower_bound_delta - rand_deltas\n",
    "    rand_deltas[lower_slips_mask] = (lower_bound_delta + lower_deltas)[lower_slips_mask]\n",
    "    \n",
    "\n",
    "    r_walk = trend_line + rand_deltas\n",
    "    \n",
    "    return r_walk"
   ]
  },
  {
   "cell_type": "code",
   "execution_count": 34,
   "metadata": {},
   "outputs": [
    {
     "data": {
      "text/plain": [
       "['blue', 'blue', 'blue', 'red', 'red']"
      ]
     },
     "execution_count": 34,
     "metadata": {},
     "output_type": "execute_result"
    }
   ],
   "source": [
    "[\"blue\"]*3 + [\"red\"]*2"
   ]
  },
  {
   "cell_type": "code",
   "execution_count": 69,
   "metadata": {},
   "outputs": [],
   "source": [
    "def generate_points(n=10, steps=15, std=10, no_infected=1, no_recovered=0, no_asymp=1):\n",
    "\n",
    "    all_points = []\n",
    "    infected_points = []\n",
    "    contagious_steps = 3\n",
    "    contagious_asymp_steps = 3\n",
    "    id_ = 0\n",
    "    \n",
    "    for i in tqdm(range(no_infected)):\n",
    "        id_=id_+1\n",
    "        x_inf = generate_bounded_random_walk(steps, lower_bound=-20, upper_bound =20, std=10)\n",
    "        y_inf = generate_bounded_random_walk(steps, lower_bound=-20, upper_bound =20, std=10)\n",
    "        step_labels = np.array(range(1,steps+1,1))\n",
    "        status = [3]*contagious_steps + [4]*(steps-contagious_steps)\n",
    "        point_label = [id_]*steps\n",
    "        \n",
    "        inf_data = np.array([x_inf, y_inf, step_labels, status, point_label]).T\n",
    "        infected_points.append(inf_data)\n",
    "        all_points.append(inf_data)\n",
    "        \n",
    "    for j in tqdm(range(no_asymp)):\n",
    "        id_=id_+1\n",
    "        x_asymp = generate_bounded_random_walk(steps, lower_bound=-20, upper_bound =20, std=10)\n",
    "        y_asymp = generate_bounded_random_walk(steps, lower_bound=-20, upper_bound =20, std=10)\n",
    "        step_labels = np.array(range(1,steps+1,1))\n",
    "        status = [2]*contagious_asymp_steps + [3]*contagious_steps + [4]*(steps-contagious_asymp_steps-contagious_steps)\n",
    "        point_label = [id_]*steps\n",
    "        \n",
    "        asymp_data = np.array([x_inf, y_inf, step_labels, status, point_label]).T\n",
    "        infected_points.append(asymp_data)\n",
    "        all_points.append(asymp_data)\n",
    "    \n",
    "    for k in tqdm(range(n-no_infected-no_asymp)):\n",
    "        id_=id_+1\n",
    "        x_position = generate_bounded_random_walk(steps, lower_bound=-20, upper_bound =20, std=10)\n",
    "        y_position = generate_bounded_random_walk(steps, lower_bound=-20, upper_bound =20, std=10)\n",
    "        step_labels = np.array(range(1,steps+1,1))\n",
    "        status = [0]*steps\n",
    "        point_label = [id_]*steps\n",
    "        \n",
    "        point_data = np.array([x_position, y_position, step_labels, status, point_label]).T\n",
    "        all_points.append(point_data)\n",
    "        \n",
    "        \n",
    "    results = pd.DataFrame(columns=['x','y', 'step', 'status', 'point_id'])\n",
    "    for i in range(len(all_points)):\n",
    "        temp = pd.DataFrame(all_points[i])\n",
    "        temp.columns = ['x','y', 'step', 'status', 'point_id']\n",
    "        results = pd.concat([results,temp])\n",
    "    return results"
   ]
  },
  {
   "cell_type": "code",
   "execution_count": 70,
   "metadata": {},
   "outputs": [
    {
     "name": "stderr",
     "output_type": "stream",
     "text": [
      "\n",
      "\n",
      "  0%|                                                                                            | 0/1 [00:00<?, ?it/s]\n",
      "\n",
      "100%|███████████████████████████████████████████████████████████████████████████████████| 1/1 [00:00<00:00, 501.41it/s]\n",
      "\n",
      "  0%|                                                                                            | 0/1 [00:00<?, ?it/s]\n",
      "\n",
      "100%|███████████████████████████████████████████████████████████████████████████████████| 1/1 [00:00<00:00, 501.17it/s]\n",
      "\n",
      "  0%|                                                                                            | 0/8 [00:00<?, ?it/s]\n",
      "\n",
      "100%|██████████████████████████████████████████████████████████████████████████████████| 8/8 [00:00<00:00, 1604.25it/s]"
     ]
    }
   ],
   "source": [
    "my_points = generate_points(steps=15, std=10)"
   ]
  },
  {
   "cell_type": "code",
   "execution_count": 71,
   "metadata": {},
   "outputs": [
    {
     "data": {
      "text/html": [
       "<div>\n",
       "<style scoped>\n",
       "    .dataframe tbody tr th:only-of-type {\n",
       "        vertical-align: middle;\n",
       "    }\n",
       "\n",
       "    .dataframe tbody tr th {\n",
       "        vertical-align: top;\n",
       "    }\n",
       "\n",
       "    .dataframe thead th {\n",
       "        text-align: right;\n",
       "    }\n",
       "</style>\n",
       "<table border=\"1\" class=\"dataframe\">\n",
       "  <thead>\n",
       "    <tr style=\"text-align: right;\">\n",
       "      <th></th>\n",
       "      <th>x</th>\n",
       "      <th>y</th>\n",
       "      <th>step</th>\n",
       "      <th>status</th>\n",
       "      <th>point_id</th>\n",
       "    </tr>\n",
       "  </thead>\n",
       "  <tbody>\n",
       "    <tr>\n",
       "      <th>0</th>\n",
       "      <td>3.570015</td>\n",
       "      <td>-2.903762</td>\n",
       "      <td>1.0</td>\n",
       "      <td>3.0</td>\n",
       "      <td>1.0</td>\n",
       "    </tr>\n",
       "    <tr>\n",
       "      <th>1</th>\n",
       "      <td>3.146417</td>\n",
       "      <td>-5.934754</td>\n",
       "      <td>2.0</td>\n",
       "      <td>3.0</td>\n",
       "      <td>1.0</td>\n",
       "    </tr>\n",
       "    <tr>\n",
       "      <th>2</th>\n",
       "      <td>-1.684682</td>\n",
       "      <td>-7.818942</td>\n",
       "      <td>3.0</td>\n",
       "      <td>3.0</td>\n",
       "      <td>1.0</td>\n",
       "    </tr>\n",
       "    <tr>\n",
       "      <th>3</th>\n",
       "      <td>0.775378</td>\n",
       "      <td>-10.931322</td>\n",
       "      <td>4.0</td>\n",
       "      <td>4.0</td>\n",
       "      <td>1.0</td>\n",
       "    </tr>\n",
       "    <tr>\n",
       "      <th>4</th>\n",
       "      <td>4.350419</td>\n",
       "      <td>-7.920798</td>\n",
       "      <td>5.0</td>\n",
       "      <td>4.0</td>\n",
       "      <td>1.0</td>\n",
       "    </tr>\n",
       "    <tr>\n",
       "      <th>5</th>\n",
       "      <td>4.670646</td>\n",
       "      <td>-6.502782</td>\n",
       "      <td>6.0</td>\n",
       "      <td>4.0</td>\n",
       "      <td>1.0</td>\n",
       "    </tr>\n",
       "    <tr>\n",
       "      <th>6</th>\n",
       "      <td>7.435236</td>\n",
       "      <td>-6.409088</td>\n",
       "      <td>7.0</td>\n",
       "      <td>4.0</td>\n",
       "      <td>1.0</td>\n",
       "    </tr>\n",
       "    <tr>\n",
       "      <th>7</th>\n",
       "      <td>6.651748</td>\n",
       "      <td>-2.298876</td>\n",
       "      <td>8.0</td>\n",
       "      <td>4.0</td>\n",
       "      <td>1.0</td>\n",
       "    </tr>\n",
       "    <tr>\n",
       "      <th>8</th>\n",
       "      <td>3.402439</td>\n",
       "      <td>-5.414493</td>\n",
       "      <td>9.0</td>\n",
       "      <td>4.0</td>\n",
       "      <td>1.0</td>\n",
       "    </tr>\n",
       "    <tr>\n",
       "      <th>9</th>\n",
       "      <td>-1.582946</td>\n",
       "      <td>-6.760416</td>\n",
       "      <td>10.0</td>\n",
       "      <td>4.0</td>\n",
       "      <td>1.0</td>\n",
       "    </tr>\n",
       "    <tr>\n",
       "      <th>10</th>\n",
       "      <td>-1.912219</td>\n",
       "      <td>-9.069413</td>\n",
       "      <td>11.0</td>\n",
       "      <td>4.0</td>\n",
       "      <td>1.0</td>\n",
       "    </tr>\n",
       "    <tr>\n",
       "      <th>11</th>\n",
       "      <td>-7.008647</td>\n",
       "      <td>-8.034155</td>\n",
       "      <td>12.0</td>\n",
       "      <td>4.0</td>\n",
       "      <td>1.0</td>\n",
       "    </tr>\n",
       "    <tr>\n",
       "      <th>12</th>\n",
       "      <td>-2.877352</td>\n",
       "      <td>-8.835859</td>\n",
       "      <td>13.0</td>\n",
       "      <td>4.0</td>\n",
       "      <td>1.0</td>\n",
       "    </tr>\n",
       "    <tr>\n",
       "      <th>13</th>\n",
       "      <td>-4.586363</td>\n",
       "      <td>-6.058267</td>\n",
       "      <td>14.0</td>\n",
       "      <td>4.0</td>\n",
       "      <td>1.0</td>\n",
       "    </tr>\n",
       "    <tr>\n",
       "      <th>14</th>\n",
       "      <td>-3.437831</td>\n",
       "      <td>-2.553758</td>\n",
       "      <td>15.0</td>\n",
       "      <td>4.0</td>\n",
       "      <td>1.0</td>\n",
       "    </tr>\n",
       "    <tr>\n",
       "      <th>0</th>\n",
       "      <td>3.570015</td>\n",
       "      <td>-2.903762</td>\n",
       "      <td>1.0</td>\n",
       "      <td>2.0</td>\n",
       "      <td>2.0</td>\n",
       "    </tr>\n",
       "    <tr>\n",
       "      <th>1</th>\n",
       "      <td>3.146417</td>\n",
       "      <td>-5.934754</td>\n",
       "      <td>2.0</td>\n",
       "      <td>2.0</td>\n",
       "      <td>2.0</td>\n",
       "    </tr>\n",
       "    <tr>\n",
       "      <th>2</th>\n",
       "      <td>-1.684682</td>\n",
       "      <td>-7.818942</td>\n",
       "      <td>3.0</td>\n",
       "      <td>2.0</td>\n",
       "      <td>2.0</td>\n",
       "    </tr>\n",
       "    <tr>\n",
       "      <th>3</th>\n",
       "      <td>0.775378</td>\n",
       "      <td>-10.931322</td>\n",
       "      <td>4.0</td>\n",
       "      <td>3.0</td>\n",
       "      <td>2.0</td>\n",
       "    </tr>\n",
       "    <tr>\n",
       "      <th>4</th>\n",
       "      <td>4.350419</td>\n",
       "      <td>-7.920798</td>\n",
       "      <td>5.0</td>\n",
       "      <td>3.0</td>\n",
       "      <td>2.0</td>\n",
       "    </tr>\n",
       "    <tr>\n",
       "      <th>5</th>\n",
       "      <td>4.670646</td>\n",
       "      <td>-6.502782</td>\n",
       "      <td>6.0</td>\n",
       "      <td>3.0</td>\n",
       "      <td>2.0</td>\n",
       "    </tr>\n",
       "    <tr>\n",
       "      <th>6</th>\n",
       "      <td>7.435236</td>\n",
       "      <td>-6.409088</td>\n",
       "      <td>7.0</td>\n",
       "      <td>4.0</td>\n",
       "      <td>2.0</td>\n",
       "    </tr>\n",
       "    <tr>\n",
       "      <th>7</th>\n",
       "      <td>6.651748</td>\n",
       "      <td>-2.298876</td>\n",
       "      <td>8.0</td>\n",
       "      <td>4.0</td>\n",
       "      <td>2.0</td>\n",
       "    </tr>\n",
       "    <tr>\n",
       "      <th>8</th>\n",
       "      <td>3.402439</td>\n",
       "      <td>-5.414493</td>\n",
       "      <td>9.0</td>\n",
       "      <td>4.0</td>\n",
       "      <td>2.0</td>\n",
       "    </tr>\n",
       "    <tr>\n",
       "      <th>9</th>\n",
       "      <td>-1.582946</td>\n",
       "      <td>-6.760416</td>\n",
       "      <td>10.0</td>\n",
       "      <td>4.0</td>\n",
       "      <td>2.0</td>\n",
       "    </tr>\n",
       "    <tr>\n",
       "      <th>10</th>\n",
       "      <td>-1.912219</td>\n",
       "      <td>-9.069413</td>\n",
       "      <td>11.0</td>\n",
       "      <td>4.0</td>\n",
       "      <td>2.0</td>\n",
       "    </tr>\n",
       "    <tr>\n",
       "      <th>11</th>\n",
       "      <td>-7.008647</td>\n",
       "      <td>-8.034155</td>\n",
       "      <td>12.0</td>\n",
       "      <td>4.0</td>\n",
       "      <td>2.0</td>\n",
       "    </tr>\n",
       "    <tr>\n",
       "      <th>12</th>\n",
       "      <td>-2.877352</td>\n",
       "      <td>-8.835859</td>\n",
       "      <td>13.0</td>\n",
       "      <td>4.0</td>\n",
       "      <td>2.0</td>\n",
       "    </tr>\n",
       "    <tr>\n",
       "      <th>13</th>\n",
       "      <td>-4.586363</td>\n",
       "      <td>-6.058267</td>\n",
       "      <td>14.0</td>\n",
       "      <td>4.0</td>\n",
       "      <td>2.0</td>\n",
       "    </tr>\n",
       "    <tr>\n",
       "      <th>14</th>\n",
       "      <td>-3.437831</td>\n",
       "      <td>-2.553758</td>\n",
       "      <td>15.0</td>\n",
       "      <td>4.0</td>\n",
       "      <td>2.0</td>\n",
       "    </tr>\n",
       "  </tbody>\n",
       "</table>\n",
       "</div>"
      ],
      "text/plain": [
       "           x          y  step  status  point_id\n",
       "0   3.570015  -2.903762   1.0     3.0       1.0\n",
       "1   3.146417  -5.934754   2.0     3.0       1.0\n",
       "2  -1.684682  -7.818942   3.0     3.0       1.0\n",
       "3   0.775378 -10.931322   4.0     4.0       1.0\n",
       "4   4.350419  -7.920798   5.0     4.0       1.0\n",
       "5   4.670646  -6.502782   6.0     4.0       1.0\n",
       "6   7.435236  -6.409088   7.0     4.0       1.0\n",
       "7   6.651748  -2.298876   8.0     4.0       1.0\n",
       "8   3.402439  -5.414493   9.0     4.0       1.0\n",
       "9  -1.582946  -6.760416  10.0     4.0       1.0\n",
       "10 -1.912219  -9.069413  11.0     4.0       1.0\n",
       "11 -7.008647  -8.034155  12.0     4.0       1.0\n",
       "12 -2.877352  -8.835859  13.0     4.0       1.0\n",
       "13 -4.586363  -6.058267  14.0     4.0       1.0\n",
       "14 -3.437831  -2.553758  15.0     4.0       1.0\n",
       "0   3.570015  -2.903762   1.0     2.0       2.0\n",
       "1   3.146417  -5.934754   2.0     2.0       2.0\n",
       "2  -1.684682  -7.818942   3.0     2.0       2.0\n",
       "3   0.775378 -10.931322   4.0     3.0       2.0\n",
       "4   4.350419  -7.920798   5.0     3.0       2.0\n",
       "5   4.670646  -6.502782   6.0     3.0       2.0\n",
       "6   7.435236  -6.409088   7.0     4.0       2.0\n",
       "7   6.651748  -2.298876   8.0     4.0       2.0\n",
       "8   3.402439  -5.414493   9.0     4.0       2.0\n",
       "9  -1.582946  -6.760416  10.0     4.0       2.0\n",
       "10 -1.912219  -9.069413  11.0     4.0       2.0\n",
       "11 -7.008647  -8.034155  12.0     4.0       2.0\n",
       "12 -2.877352  -8.835859  13.0     4.0       2.0\n",
       "13 -4.586363  -6.058267  14.0     4.0       2.0\n",
       "14 -3.437831  -2.553758  15.0     4.0       2.0"
      ]
     },
     "execution_count": 71,
     "metadata": {},
     "output_type": "execute_result"
    }
   ],
   "source": [
    "my_points.head(30)"
   ]
  },
  {
   "cell_type": "code",
   "execution_count": 16,
   "metadata": {
    "scrolled": false
   },
   "outputs": [],
   "source": [
    "import plotly.express as px\n",
    "fig2 = px.scatter(df, \n",
    "                  x=\"x\", \n",
    "                  y=\"y\", \n",
    "                  color=\"status\", \n",
    "                  color_continuous_scale=\"Bluered\", \n",
    "                  animation_frame=\"step\",  \n",
    "                  range_x=[-65,65], \n",
    "                  range_y=[-65,65])"
   ]
  },
  {
   "cell_type": "code",
   "execution_count": 17,
   "metadata": {
    "scrolled": false
   },
   "outputs": [
    {
     "data": {
      "application/vnd.plotly.v1+json": {
       "config": {
        "plotlyServerURL": "https://plot.ly"
       },
       "data": [
        {
         "hoverlabel": {
          "namelength": 0
         },
         "hovertemplate": "status=2<br>step=0<br>x=%{x}<br>y=%{y}",
         "legendgroup": "status=2",
         "marker": {
          "color": "#636efa",
          "symbol": "circle"
         },
         "mode": "markers",
         "name": "status=2",
         "showlegend": true,
         "type": "scatter",
         "x": [
          -2.680310742571571,
          11.850359535521008,
          -25.190670703046802
         ],
         "xaxis": "x",
         "y": [
          -28.343658511041546,
          2.166686309338793,
          -17.835922180279795
         ],
         "yaxis": "y"
        },
        {
         "hoverlabel": {
          "namelength": 0
         },
         "hovertemplate": "status=1<br>step=0<br>x=%{x}<br>y=%{y}",
         "legendgroup": "status=1",
         "marker": {
          "color": "#EF553B",
          "symbol": "circle"
         },
         "mode": "markers",
         "name": "status=1",
         "showlegend": true,
         "type": "scatter",
         "x": [
          -48.40147294962102,
          19.849295899693814,
          -38.0974817376684,
          -23.783913354572217,
          -15.851623466706542,
          45.91660011039144,
          -8.636939490433846,
          21.376387557490546,
          -21.85342750189656,
          18.934736072175824,
          8.093544010000272,
          27.700136072850583,
          -22.090029878221205,
          48.821441199150655,
          46.41486534419738,
          29.306533942039707,
          -17.73836722718893,
          30.946354757035365,
          -1.6936835615581813,
          -18.370614940152596,
          18.547278932419104,
          -45.16040822054153,
          -6.384030133914678,
          -41.82767947656559,
          37.863980138536206,
          -38.19289958131188,
          29.99159964635335,
          -23.00392454676663,
          47.586829942388746,
          -39.74288773290826,
          -18.902965888004974,
          -48.63589274315929,
          39.31605950662809,
          16.78906246569673,
          -18.985119596666788,
          42.25911723382772,
          2.28815367447919,
          12.599458283468756,
          -4.160245736164157,
          29.82081230013104,
          -20.76392586118271,
          38.01943983129334,
          -39.741098997878964,
          -8.968863466255797,
          -30.143399999684362,
          38.87690216825442,
          14.849975638718803,
          -49.484750249948405,
          44.66800484150491,
          15.750769757624383,
          -28.31589365414797,
          42.12719045655902,
          43.19011702680942,
          37.65062385793291,
          -31.190499287287633,
          42.75017799214906,
          -43.35287316439735
         ],
         "xaxis": "x",
         "y": [
          -27.558263856618915,
          42.54952396112202,
          -4.599226683617552,
          5.642635203718484,
          -5.994538930917706,
          12.28367643195164,
          -33.28676565360931,
          -25.1211038570741,
          -6.270153355176809,
          37.37654665759702,
          -18.323786155601105,
          25.43699014282575,
          23.086488184599602,
          -23.09463361182319,
          -21.412760522157992,
          37.23606176249528,
          2.419677809683826,
          7.5815127002671545,
          13.010674556439817,
          40.9123156844237,
          36.357745323025384,
          -0.8570570807453919,
          -33.54208759506601,
          -15.163499486910858,
          35.702311021301824,
          12.196932234308413,
          -30.5952053165773,
          40.22363346635588,
          1.9954757081652872,
          -17.872820126041454,
          24.975441932417496,
          4.9992861370025565,
          -42.89552609990408,
          -25.34081811858424,
          -13.062723317555381,
          -5.566834739773654,
          8.425466585746733,
          37.67572038469174,
          -42.81573775078803,
          0.8280179305889845,
          30.00143988791902,
          -41.82317839012507,
          36.73289541624193,
          -39.89594040164123,
          34.78704652362798,
          -16.7000179310429,
          8.699351789488766,
          -15.800477189723281,
          20.561019973115506,
          47.06370023160058,
          -38.865044143823766,
          4.94409195107707,
          -13.510505209297143,
          -19.497073236285566,
          -18.989073253081035,
          -31.905258238540025,
          5.797396881525543
         ],
         "yaxis": "y"
        }
       ],
       "frames": [
        {
         "data": [
          {
           "hoverlabel": {
            "namelength": 0
           },
           "hovertemplate": "status=2<br>step=0<br>x=%{x}<br>y=%{y}",
           "legendgroup": "status=2",
           "marker": {
            "color": "#636efa",
            "symbol": "circle"
           },
           "mode": "markers",
           "name": "status=2",
           "showlegend": true,
           "type": "scatter",
           "x": [
            -2.680310742571571,
            11.850359535521008,
            -25.190670703046802
           ],
           "xaxis": "x",
           "y": [
            -28.343658511041546,
            2.166686309338793,
            -17.835922180279795
           ],
           "yaxis": "y"
          },
          {
           "hoverlabel": {
            "namelength": 0
           },
           "hovertemplate": "status=1<br>step=0<br>x=%{x}<br>y=%{y}",
           "legendgroup": "status=1",
           "marker": {
            "color": "#EF553B",
            "symbol": "circle"
           },
           "mode": "markers",
           "name": "status=1",
           "showlegend": true,
           "type": "scatter",
           "x": [
            -48.40147294962102,
            19.849295899693814,
            -38.0974817376684,
            -23.783913354572217,
            -15.851623466706542,
            45.91660011039144,
            -8.636939490433846,
            21.376387557490546,
            -21.85342750189656,
            18.934736072175824,
            8.093544010000272,
            27.700136072850583,
            -22.090029878221205,
            48.821441199150655,
            46.41486534419738,
            29.306533942039707,
            -17.73836722718893,
            30.946354757035365,
            -1.6936835615581813,
            -18.370614940152596,
            18.547278932419104,
            -45.16040822054153,
            -6.384030133914678,
            -41.82767947656559,
            37.863980138536206,
            -38.19289958131188,
            29.99159964635335,
            -23.00392454676663,
            47.586829942388746,
            -39.74288773290826,
            -18.902965888004974,
            -48.63589274315929,
            39.31605950662809,
            16.78906246569673,
            -18.985119596666788,
            42.25911723382772,
            2.28815367447919,
            12.599458283468756,
            -4.160245736164157,
            29.82081230013104,
            -20.76392586118271,
            38.01943983129334,
            -39.741098997878964,
            -8.968863466255797,
            -30.143399999684362,
            38.87690216825442,
            14.849975638718803,
            -49.484750249948405,
            44.66800484150491,
            15.750769757624383,
            -28.31589365414797,
            42.12719045655902,
            43.19011702680942,
            37.65062385793291,
            -31.190499287287633,
            42.75017799214906,
            -43.35287316439735
           ],
           "xaxis": "x",
           "y": [
            -27.558263856618915,
            42.54952396112202,
            -4.599226683617552,
            5.642635203718484,
            -5.994538930917706,
            12.28367643195164,
            -33.28676565360931,
            -25.1211038570741,
            -6.270153355176809,
            37.37654665759702,
            -18.323786155601105,
            25.43699014282575,
            23.086488184599602,
            -23.09463361182319,
            -21.412760522157992,
            37.23606176249528,
            2.419677809683826,
            7.5815127002671545,
            13.010674556439817,
            40.9123156844237,
            36.357745323025384,
            -0.8570570807453919,
            -33.54208759506601,
            -15.163499486910858,
            35.702311021301824,
            12.196932234308413,
            -30.5952053165773,
            40.22363346635588,
            1.9954757081652872,
            -17.872820126041454,
            24.975441932417496,
            4.9992861370025565,
            -42.89552609990408,
            -25.34081811858424,
            -13.062723317555381,
            -5.566834739773654,
            8.425466585746733,
            37.67572038469174,
            -42.81573775078803,
            0.8280179305889845,
            30.00143988791902,
            -41.82317839012507,
            36.73289541624193,
            -39.89594040164123,
            34.78704652362798,
            -16.7000179310429,
            8.699351789488766,
            -15.800477189723281,
            20.561019973115506,
            47.06370023160058,
            -38.865044143823766,
            4.94409195107707,
            -13.510505209297143,
            -19.497073236285566,
            -18.989073253081035,
            -31.905258238540025,
            5.797396881525543
           ],
           "yaxis": "y"
          }
         ],
         "name": "0"
        },
        {
         "data": [
          {
           "hoverlabel": {
            "namelength": 0
           },
           "hovertemplate": "status=2<br>step=1<br>x=%{x}<br>y=%{y}",
           "legendgroup": "status=2",
           "marker": {
            "color": "#636efa",
            "symbol": "circle"
           },
           "mode": "markers",
           "name": "status=2",
           "showlegend": true,
           "type": "scatter",
           "x": [
            -2.680310742571571,
            11.850359535521008,
            -25.190670703046802
           ],
           "xaxis": "x",
           "y": [
            -28.343658511041546,
            2.166686309338793,
            -17.835922180279795
           ],
           "yaxis": "y"
          },
          {
           "hoverlabel": {
            "namelength": 0
           },
           "hovertemplate": "status=1<br>step=1<br>x=%{x}<br>y=%{y}",
           "legendgroup": "status=1",
           "marker": {
            "color": "#EF553B",
            "symbol": "circle"
           },
           "mode": "markers",
           "name": "status=1",
           "showlegend": true,
           "type": "scatter",
           "x": [
            -48.40147294962102,
            19.849295899693814,
            -38.0974817376684,
            -23.783913354572217,
            -15.851623466706542,
            45.91660011039144,
            -8.636939490433846,
            21.376387557490546,
            -21.85342750189656,
            18.934736072175824,
            8.093544010000272,
            27.700136072850583,
            -22.090029878221205,
            48.821441199150655,
            46.41486534419738,
            29.306533942039707,
            -17.73836722718893,
            30.946354757035365,
            -1.6936835615581813,
            -18.370614940152596,
            18.547278932419104,
            -45.16040822054153,
            -6.384030133914678,
            -41.82767947656559,
            37.863980138536206,
            -38.19289958131188,
            29.99159964635335,
            -23.00392454676663,
            47.586829942388746,
            -39.74288773290826,
            -18.902965888004974,
            -48.63589274315929,
            39.31605950662809,
            16.78906246569673,
            -18.985119596666788,
            42.25911723382772,
            2.28815367447919,
            12.599458283468756,
            -4.160245736164157,
            29.82081230013104,
            -20.76392586118271,
            38.01943983129334,
            -39.741098997878964,
            -8.968863466255797,
            -30.143399999684362,
            38.87690216825442,
            14.849975638718803,
            -49.484750249948405,
            44.66800484150491,
            15.750769757624383,
            -28.31589365414797,
            42.12719045655902,
            43.19011702680942,
            37.65062385793291,
            -31.190499287287633,
            42.75017799214906,
            -43.35287316439735
           ],
           "xaxis": "x",
           "y": [
            -27.558263856618915,
            42.54952396112202,
            -4.599226683617552,
            5.642635203718484,
            -5.994538930917706,
            12.28367643195164,
            -33.28676565360931,
            -25.1211038570741,
            -6.270153355176809,
            37.37654665759702,
            -18.323786155601105,
            25.43699014282575,
            23.086488184599602,
            -23.09463361182319,
            -21.412760522157992,
            37.23606176249528,
            2.419677809683826,
            7.5815127002671545,
            13.010674556439817,
            40.9123156844237,
            36.357745323025384,
            -0.8570570807453919,
            -33.54208759506601,
            -15.163499486910858,
            35.702311021301824,
            12.196932234308413,
            -30.5952053165773,
            40.22363346635588,
            1.9954757081652872,
            -17.872820126041454,
            24.975441932417496,
            4.9992861370025565,
            -42.89552609990408,
            -25.34081811858424,
            -13.062723317555381,
            -5.566834739773654,
            8.425466585746733,
            37.67572038469174,
            -42.81573775078803,
            0.8280179305889845,
            30.00143988791902,
            -41.82317839012507,
            36.73289541624193,
            -39.89594040164123,
            34.78704652362798,
            -16.7000179310429,
            8.699351789488766,
            -15.800477189723281,
            20.561019973115506,
            47.06370023160058,
            -38.865044143823766,
            4.94409195107707,
            -13.510505209297143,
            -19.497073236285566,
            -18.989073253081035,
            -31.905258238540025,
            5.797396881525543
           ],
           "yaxis": "y"
          }
         ],
         "name": "1"
        },
        {
         "data": [
          {
           "hoverlabel": {
            "namelength": 0
           },
           "hovertemplate": "status=2<br>step=2<br>x=%{x}<br>y=%{y}",
           "legendgroup": "status=2",
           "marker": {
            "color": "#636efa",
            "symbol": "circle"
           },
           "mode": "markers",
           "name": "status=2",
           "showlegend": true,
           "type": "scatter",
           "x": [
            -2.8031643441896836,
            8.4604739317956,
            -24.552601325249203,
            -4.490398071742904
           ],
           "xaxis": "x",
           "y": [
            -27.689429021754304,
            -1.0953296940200365,
            -22.79178461234076,
            -32.17623342246925
           ],
           "yaxis": "y"
          },
          {
           "hoverlabel": {
            "namelength": 0
           },
           "hovertemplate": "status=1<br>step=2<br>x=%{x}<br>y=%{y}",
           "legendgroup": "status=1",
           "marker": {
            "color": "#EF553B",
            "symbol": "circle"
           },
           "mode": "markers",
           "name": "status=1",
           "showlegend": true,
           "type": "scatter",
           "x": [
            -47.171527192206625,
            23.053989845853756,
            -37.731333028844304,
            -24.388323860392624,
            -11.992485529256697,
            43.63329933275552,
            -5.227829060128354,
            20.597519536149598,
            -25.334795181789477,
            14.565942736414314,
            12.207553174959733,
            29.84009770785102,
            -22.189204737646406,
            45.53137394994912,
            41.4202532813425,
            26.9729128034199,
            -15.175597592323765,
            29.276547390608165,
            -3.352690491522423,
            -14.116644446641748,
            13.719560729497651,
            -44.563335967050676,
            -42.28015811725767,
            37.4210545309038,
            -42.504555009361695,
            27.7299657754076,
            -21.536505685097683,
            50.508711088273046,
            -40.3481211031895,
            -22.83645754849654,
            -53.22788863766863,
            37.867105523668535,
            15.561860299851258,
            -16.502037125217708,
            46.70871128134686,
            1.6927444779570262,
            10.879037812462013,
            -3.0159030975340047,
            29.35593980497458,
            -17.998546170770968,
            34.8552285028048,
            -42.15571801654586,
            -9.02738080954592,
            -34.44398562260086,
            38.826306168337396,
            9.95575825160243,
            -48.04187687904003,
            48.08156849143954,
            13.025959896318977,
            -33.22965582663269,
            40.15337580107298,
            42.50070946941271,
            37.72348562723189,
            -32.52676682327499,
            44.21075024026287,
            -42.41387451596983
           ],
           "xaxis": "x",
           "y": [
            -31.385946157161975,
            43.742652203757764,
            -8.686042653854091,
            5.735155748348143,
            -8.070434240145685,
            11.90036646986245,
            -37.74974683994949,
            -22.829889908448088,
            -1.553921808862265,
            39.57922195072606,
            -18.100427878760144,
            23.96720150051907,
            18.775432026234547,
            -20.575719569968875,
            -16.482581433543654,
            33.14861506825082,
            5.2061120435302515,
            4.209134648446562,
            11.294642451015033,
            40.65541383612865,
            34.00560740029032,
            -4.122054456214547,
            -15.584366128480795,
            35.32433501373746,
            15.352504074183136,
            -32.8862468426893,
            43.45307159689694,
            -2.3158552525186504,
            -20.33144131396646,
            23.33254939047195,
            1.041257987489741,
            -43.878214951414165,
            -20.620342591302382,
            -16.870406955070997,
            -3.390586378739348,
            8.232932382388825,
            37.18654286930756,
            -43.54931264302176,
            -0.2239350019930928,
            28.560776139789827,
            -40.00606361232245,
            37.86218788410051,
            -36.03759014589029,
            37.014364754430844,
            -13.319148021289653,
            8.480320559069563,
            -16.485402844381092,
            18.13213674579434,
            48.34289065123678,
            -43.4298080057447,
            5.733060704116006,
            -12.841448752556131,
            -21.121852529509386,
            -14.449059725410432,
            -31.52970842730649,
            6.432307403410326
           ],
           "yaxis": "y"
          }
         ],
         "name": "2"
        },
        {
         "data": [
          {
           "hoverlabel": {
            "namelength": 0
           },
           "hovertemplate": "status=2<br>step=3<br>x=%{x}<br>y=%{y}",
           "legendgroup": "status=2",
           "marker": {
            "color": "#636efa",
            "symbol": "circle"
           },
           "mode": "markers",
           "name": "status=2",
           "showlegend": true,
           "type": "scatter",
           "x": [
            -0.2474958477359115,
            6.38364204834878,
            -24.35719274870985,
            -5.954667699634152,
            -3.5771850464379575
           ],
           "xaxis": "x",
           "y": [
            -25.78141645686299,
            -2.3794208099673444,
            -26.084827689731075,
            -39.98135779350987,
            -35.86163117117463
           ],
           "yaxis": "y"
          },
          {
           "hoverlabel": {
            "namelength": 0
           },
           "hovertemplate": "status=1<br>step=3<br>x=%{x}<br>y=%{y}",
           "legendgroup": "status=1",
           "marker": {
            "color": "#EF553B",
            "symbol": "circle"
           },
           "mode": "markers",
           "name": "status=1",
           "showlegend": true,
           "type": "scatter",
           "x": [
            -49.54227117135001,
            19.62295736378777,
            -34.13493941481916,
            -26.9769950949615,
            -14.70932410484669,
            39.20221986978832,
            19.605675333466813,
            -27.51394799099777,
            19.38178213566223,
            8.00447166368339,
            28.832291449613493,
            -21.422084229315207,
            46.266707234192424,
            40.00404737637485,
            28.026212115760565,
            -15.359067971559035,
            31.20116848174488,
            -3.052253074215555,
            -15.65518201943791,
            9.55154357364994,
            -40.34078566986281,
            -40.20902950909051,
            34.60771783156119,
            -38.83045197093493,
            23.450063437383527,
            -23.207010245656242,
            47.46832274123564,
            -42.600770824573644,
            -21.99011277623986,
            -58.198251262351214,
            36.608316086690905,
            12.039799548853448,
            -21.046227334279067,
            45.43061173717875,
            3.730380853148656,
            7.738134474866896,
            -5.317555013246815,
            24.827944436449258,
            -17.703204192046897,
            38.34302154274792,
            -45.70171078204965,
            -12.01482210449346,
            -38.939920926806025,
            34.314396024967174,
            9.367888505340588,
            -46.78112826951563,
            49.3092619290366,
            17.05950380670132,
            -37.06459943677682,
            43.51512915722667,
            42.21660071740335,
            34.94609589503231,
            -28.81785043974646,
            48.6933308720537,
            -39.03880110092513
           ],
           "xaxis": "x",
           "y": [
            -29.139052240882386,
            46.35014402689777,
            -5.5138706737800405,
            2.236656422423982,
            -8.708158380813092,
            10.995728469361076,
            -20.11904552297737,
            -6.549661539122625,
            43.29712086619476,
            -22.80532376143454,
            25.19365573020433,
            23.718414955775998,
            -24.533442416892562,
            -15.67129697082039,
            32.59240633558328,
            6.466820902452793,
            3.318414966326382,
            11.057991406923472,
            45.647614598977725,
            33.62309197877842,
            -2.8265216121432157,
            -12.883076531873932,
            33.70112582069096,
            18.520358182996425,
            -31.100891003247526,
            44.74444148712535,
            -0.40557159953545074,
            -18.92765058660014,
            19.89251547162522,
            -0.14398613742900412,
            -39.92702479821669,
            -19.905318087032967,
            -18.622829946018534,
            -2.966708509630803,
            10.943366373561332,
            37.24847312687386,
            -45.862325595358875,
            4.074249501135212,
            26.802008883187845,
            -43.91091682443985,
            42.11234137422436,
            -35.29483359606445,
            38.49133224912815,
            -17.469216352933593,
            11.493355207958365,
            -21.385691757260858,
            19.136368452905515,
            50.908494548250744,
            -41.66851555308217,
            8.765589419149194,
            -11.586822978427422,
            -25.44958702757226,
            -10.842749599207922,
            -28.75470450708121,
            5.375846952572189
           ],
           "yaxis": "y"
          }
         ],
         "name": "3"
        },
        {
         "data": [
          {
           "hoverlabel": {
            "namelength": 0
           },
           "hovertemplate": "status=2<br>step=4<br>x=%{x}<br>y=%{y}",
           "legendgroup": "status=2",
           "marker": {
            "color": "#636efa",
            "symbol": "circle"
           },
           "mode": "markers",
           "name": "status=2",
           "showlegend": true,
           "type": "scatter",
           "x": [
            -2.2410888631093497,
            6.7305094072742255,
            -20.32254962338793,
            -8.684363854390106,
            -6.1332229138843966,
            -25.34236442273422,
            -13.756606407431498
           ],
           "xaxis": "x",
           "y": [
            -25.59759967878077,
            0.6125004094594981,
            -23.196356843318956,
            -37.07943410204093,
            -32.73174058881834,
            -22.358975700021517,
            -36.12096081812159
           ],
           "yaxis": "y"
          },
          {
           "hoverlabel": {
            "namelength": 0
           },
           "hovertemplate": "status=1<br>step=4<br>x=%{x}<br>y=%{y}",
           "legendgroup": "status=1",
           "marker": {
            "color": "#EF553B",
            "symbol": "circle"
           },
           "mode": "markers",
           "name": "status=1",
           "showlegend": true,
           "type": "scatter",
           "x": [
            -54.12946717200551,
            17.45367731467586,
            -37.69941220224299,
            -31.086702681014348,
            -10.049591432100431,
            40.911523338525434,
            18.189238661978585,
            -28.88164613962136,
            16.158401377072458,
            6.349746531023631,
            32.309538666941755,
            -19.6944809717274,
            49.112744016658766,
            40.14862990059768,
            31.22437307373049,
            -13.339461481602335,
            29.46155664364248,
            -3.1808697625729287,
            -10.784309900050795,
            8.86099545184721,
            -43.06802851531239,
            -36.4485476230881,
            35.06183669734401,
            -36.150147572829056,
            24.788229829805303,
            -23.101697524039388,
            51.16751064859751,
            -39.57886030782322,
            -22.300676608285553,
            -62.70232409114331,
            38.077621278633956,
            7.708279195176622,
            41.33136500130035,
            1.050812092503648,
            8.983366944274879,
            -6.915891917477672,
            19.834101311075102,
            -21.240927381700587,
            37.63864065511719,
            -45.54274692691697,
            -40.468968606088055,
            30.006683448553694,
            11.74474107116836,
            -50.38259759065046,
            53.545453386055755,
            15.361747096568928,
            -35.34050705356981,
            42.8210350983024,
            43.8774924129292,
            37.57111832215844,
            -27.687253199487678,
            52.748353047740764,
            -39.38033262533079
           ],
           "xaxis": "x",
           "y": [
            -28.22791417374341,
            47.55499029833758,
            -8.390548340363347,
            -0.21650597660385174,
            -3.8441187505108747,
            15.079766113835307,
            -19.290066893551135,
            -3.3710647105841147,
            43.17970272202706,
            -20.731601530416675,
            26.04887646451865,
            19.655598136053243,
            -22.20527722039783,
            -15.98514874214235,
            32.70969486670532,
            3.2692749732421693,
            7.210523388036218,
            14.215574182293592,
            41.546326989440445,
            38.46865213739133,
            -7.544886978662464,
            -12.68962331624191,
            32.161439196735344,
            23.343599558174937,
            -26.31010789694851,
            40.16080943028423,
            1.5599675395616313,
            -16.43568017025187,
            18.075846961118486,
            -0.041199635525104306,
            -37.48446994707922,
            -24.470703960161075,
            -1.0039368138753932,
            11.447116743343127,
            41.94060883344939,
            -48.38176570450159,
            -0.49998706708907314,
            30.403587260207832,
            -42.74996745900428,
            44.61641171380163,
            34.014921299753276,
            -13.463361590875754,
            9.82454864302704,
            -24.416099353082544,
            17.80808565140834,
            52.66270314131572,
            -42.06054850756694,
            7.076336747149846,
            -13.753723160677408,
            -28.99518025323978,
            -7.834158080649116,
            -24.17285681924666,
            0.9392705851901302
           ],
           "yaxis": "y"
          }
         ],
         "name": "4"
        },
        {
         "data": [
          {
           "hoverlabel": {
            "namelength": 0
           },
           "hovertemplate": "status=2<br>step=5<br>x=%{x}<br>y=%{y}",
           "legendgroup": "status=2",
           "marker": {
            "color": "#636efa",
            "symbol": "circle"
           },
           "mode": "markers",
           "name": "status=2",
           "showlegend": true,
           "type": "scatter",
           "x": [
            -0.12438405784104045,
            7.142986432111875,
            -19.543721128581137,
            -8.751835732768383,
            -9.085071094270731,
            -24.0452675505519,
            -11.408470876173263,
            -15.714887436752662
           ],
           "xaxis": "x",
           "y": [
            -27.738055678177354,
            -2.602425587423263,
            -24.185264379497102,
            -41.02441270762883,
            -29.71562012261846,
            -23.796253050307303,
            -45.0831065023618,
            -32.99552081217445
           ],
           "yaxis": "y"
          },
          {
           "hoverlabel": {
            "namelength": 0
           },
           "hovertemplate": "status=1<br>step=5<br>x=%{x}<br>y=%{y}",
           "legendgroup": "status=1",
           "marker": {
            "color": "#EF553B",
            "symbol": "circle"
           },
           "mode": "markers",
           "name": "status=1",
           "showlegend": true,
           "type": "scatter",
           "x": [
            -53.4164144640733,
            13.630644535638217,
            -42.376739756901976,
            -26.51566804571135,
            -9.85988747332027,
            39.37347948935547,
            22.78025966358293,
            -30.749571268937107,
            17.535510997691176,
            2.8765945343024724,
            34.916716907784426,
            -17.899364635935306,
            49.23441534507992,
            41.353476693172986,
            26.728784186878897,
            -13.282275741732409,
            25.251021276406444,
            -3.638137860753244,
            -11.06540472690605,
            6.786715859626849,
            -39.200320535146155,
            -36.263495521535575,
            36.01370088306596,
            -36.47633887104126,
            20.620956120314034,
            -21.99318392142185,
            51.553689890372894,
            -42.12516031149694,
            -21.273437639989115,
            -65.41343157958126,
            40.87826959096361,
            6.487951580500083,
            39.67658005458838,
            -3.2673198590596995,
            6.001151015029205,
            18.979325515135127,
            -21.265462630873166,
            38.408823601728564,
            -46.057047821075415,
            -43.29233496301713,
            28.6189802796685,
            7.261369098969596,
            -45.8306775617778,
            56.32775069778883,
            14.362111406140535,
            -30.92431935437648,
            45.94695159853976,
            46.10283929892992,
            36.52045910933071,
            -32.01985348321105,
            55.67558017312371,
            -37.76858441153688
           ],
           "xaxis": "x",
           "y": [
            -31.09815293633617,
            46.442280138966424,
            -10.248905756667998,
            4.477634408678677,
            -5.738718236203353,
            13.571260006001552,
            -21.969072810896254,
            -0.9810085779461595,
            39.56463207305741,
            -17.999086806740156,
            30.256904711747726,
            22.178205988797217,
            -24.996952234733612,
            -17.378737000587723,
            34.96919711659034,
            -0.6069172253904971,
            8.060804364306165,
            17.702354876206677,
            45.47781698377189,
            33.693328703218135,
            -11.240104184533289,
            -16.64143105166389,
            36.07770458428109,
            21.544105636225947,
            -24.41371287648925,
            37.43708219049746,
            0.44962004654280063,
            -13.95967685909163,
            15.413727580581835,
            0.3119264355389424,
            -34.79921604300895,
            -24.16460517110194,
            -4.236819883345804,
            10.2777635995872,
            44.32147421113115,
            -2.7848815986369457,
            34.05186097473149,
            -45.61478889263776,
            48.577778316902574,
            37.03423788555801,
            -14.92127610776531,
            8.917920808843409,
            -19.47643414041127,
            17.681642578043455,
            54.59352523733613,
            -41.46067500320762,
            4.635617231058653,
            -15.385882045326191,
            -29.464989084875967,
            -4.573375240853297,
            -22.19482284654638,
            3.8602640726640702
           ],
           "yaxis": "y"
          }
         ],
         "name": "5"
        },
        {
         "data": [
          {
           "hoverlabel": {
            "namelength": 0
           },
           "hovertemplate": "status=2<br>step=6<br>x=%{x}<br>y=%{y}",
           "legendgroup": "status=2",
           "marker": {
            "color": "#636efa",
            "symbol": "circle"
           },
           "mode": "markers",
           "name": "status=2",
           "showlegend": true,
           "type": "scatter",
           "x": [
            1.2266864419332473,
            9.994520979241504,
            -21.966053495927707,
            -8.743762399434896,
            -4.173251685485374,
            -27.481033054687146,
            -12.602846970724054,
            -20.134530209442396
           ],
           "xaxis": "x",
           "y": [
            -27.546161594984053,
            -5.496901711906356,
            -22.21672345582664,
            -36.09011104890514,
            -33.12344502378467,
            -24.190433874372612,
            -42.2153737502141,
            -33.843774238277184
           ],
           "yaxis": "y"
          },
          {
           "hoverlabel": {
            "namelength": 0
           },
           "hovertemplate": "status=1<br>step=6<br>x=%{x}<br>y=%{y}",
           "legendgroup": "status=1",
           "marker": {
            "color": "#EF553B",
            "symbol": "circle"
           },
           "mode": "markers",
           "name": "status=1",
           "showlegend": true,
           "type": "scatter",
           "x": [
            -54.07927089346171,
            13.300921932833752,
            -45.45631173868133,
            -26.536247040804493,
            -14.578252736254766,
            42.02864160528417,
            23.31050337918474,
            -34.85102566727115,
            21.64234945518841,
            3.4309377670430043,
            35.76184324420859,
            -13.712258492281126,
            46.57321795455665,
            43.195177995974426,
            28.545698643363856,
            -9.923417424521707,
            20.885912645773917,
            -4.8604479847644475,
            -14.81099718948579,
            7.651900412142358,
            -36.7110987756656,
            -35.73170491159026,
            31.983669564781724,
            -34.5604473270128,
            16.591437813562514,
            -25.907879182766223,
            51.594213001265366,
            -41.85827234876827,
            -19.089889104826508,
            -61.20522827480288,
            43.90578067884634,
            9.646846914696468,
            36.791590052703775,
            -3.232604444766441,
            3.50813196832667,
            18.246146170923836,
            -20.10340122922214,
            40.90739417912275,
            -50.12127792211256,
            -41.86920880362744,
            33.07672943672564,
            3.2146227122089703,
            -49.33562000597554,
            60.53987761853323,
            13.824607863231414,
            -35.611664847973444,
            45.36192734839153,
            50.264458965687616,
            38.62945108315923,
            -27.441195886408643,
            57.90976613405719,
            -36.876616478215915
           ],
           "xaxis": "x",
           "y": [
            -30.92591415836764,
            42.095610300666856,
            -14.593565621404151,
            4.023202591009563,
            -7.52433769346398,
            8.626503714419387,
            -18.214674272643606,
            3.6430497359534826,
            41.02691453322707,
            -20.715419268938543,
            27.15987077162706,
            23.402923686239507,
            -23.57057003799143,
            -21.29756526353293,
            31.87099594117412,
            -1.2022676990045094,
            7.720775044726865,
            21.72364663974408,
            48.09372421451499,
            33.51153892823844,
            -14.075761873210528,
            -17.519611034631822,
            31.81765754334754,
            22.482145549915582,
            -23.928350507400822,
            37.433316619549856,
            0.9455038922100556,
            -13.307675100656182,
            14.708361276320069,
            -3.2830043917440968,
            -38.385452729773206,
            -26.395644044721095,
            -2.3747393682087647,
            6.140098328704735,
            47.27321203890331,
            0.715066724622214,
            33.90257320055374,
            -41.545717929608685,
            47.337146146438315,
            36.04295002309675,
            -13.483980974484314,
            11.234103419436224,
            -16.432913015341107,
            15.469121217432058,
            57.453026705201694,
            -41.27546112704685,
            5.0729672001311075,
            -10.525532309455466,
            -25.823489153221395,
            -9.51478987150319,
            -20.099348836023324,
            0.7342605426495374
           ],
           "yaxis": "y"
          }
         ],
         "name": "6"
        },
        {
         "data": [
          {
           "hoverlabel": {
            "namelength": 0
           },
           "hovertemplate": "status=2<br>step=7<br>x=%{x}<br>y=%{y}",
           "legendgroup": "status=2",
           "marker": {
            "color": "#636efa",
            "symbol": "circle"
           },
           "mode": "markers",
           "name": "status=2",
           "showlegend": true,
           "type": "scatter",
           "x": [
            1.9573317794834564,
            10.309409169373087,
            -17.15951636041866,
            -8.476053611596337,
            -5.204397479941884,
            -32.06891601578842,
            -30.427895922408407,
            -9.087864108155216,
            14.69696536066567,
            -18.792977627060306
           ],
           "xaxis": "x",
           "y": [
            -31.76526905680328,
            -4.555542023430047,
            -26.043622650084984,
            -33.88326703208589,
            -32.87852129077186,
            -22.45407866053281,
            -25.728340665135462,
            -44.36877114840908,
            -0.47227014887775365,
            -29.595712318188447
           ],
           "yaxis": "y"
          },
          {
           "hoverlabel": {
            "namelength": 0
           },
           "hovertemplate": "status=1<br>step=7<br>x=%{x}<br>y=%{y}",
           "legendgroup": "status=1",
           "marker": {
            "color": "#EF553B",
            "symbol": "circle"
           },
           "mode": "markers",
           "name": "status=1",
           "showlegend": true,
           "type": "scatter",
           "x": [
            -49.6509144474824,
            14.750451410315735,
            -44.29118671946217,
            -24.1409260453859,
            -18.27921600597321,
            45.19550097891016,
            19.673619650865287,
            -32.94631421198101,
            23.182792207022935,
            1.6805081278273706,
            31.98585395012103,
            -15.551258288873477,
            43.347710676405356,
            40.08771635124034,
            27.613615317364143,
            -12.906967274095782,
            22.110975058005394,
            -6.9769413028297045,
            -11.71831213642468,
            10.914030434709986,
            -33.39703922970291,
            29.00934565513996,
            -30.17602208377931,
            15.480632016486435,
            -24.432319944991725,
            51.35539308620794,
            -40.30784243173592,
            -18.325328645785547,
            -60.78648436055095,
            40.39808268684009,
            4.771958457788122,
            32.76756997007214,
            -7.194219610077056,
            7.848474731362725,
            -16.65739170824986,
            44.47057818214223,
            -51.60301294160686,
            -41.75897421243024,
            35.93807060629913,
            2.0496387111764687,
            -48.82857992467229,
            63.58121260102276,
            10.879444660408735,
            -30.70240580715263,
            49.68909723837666,
            50.35817484252803,
            39.741908227310226,
            -24.993109189438695,
            61.76942382484508,
            -33.25477012612606
           ],
           "xaxis": "x",
           "y": [
            -33.17138140220218,
            40.51569850419856,
            -16.35186755131952,
            6.812098459142032,
            -4.270803843364849,
            3.7764918050563483,
            -21.30537118140686,
            5.750478927022241,
            43.38764706862501,
            -19.831630725964487,
            26.531560693504645,
            25.44127777966046,
            -22.684402431307763,
            -24.68411526294429,
            29.99681674864053,
            -4.819450763871315,
            6.699362185717556,
            22.226613093761177,
            44.326120538312146,
            31.70199157935915,
            -12.395566092706272,
            33.213285421405075,
            23.31230672114271,
            -21.922972898650247,
            38.632131712025995,
            -1.5236438120310147,
            -10.591136248623737,
            18.263421753076464,
            -3.725446442794559,
            -37.008471305340464,
            -26.09398110825905,
            -0.7056119362467461,
            1.1959611947392075,
            50.65519659751961,
            37.676054934673516,
            -41.690153020211824,
            51.52406294223462,
            31.793434679240196,
            -8.708027925957197,
            14.797087356265287,
            -20.14338206414361,
            16.970171774459416,
            57.122437547805596,
            -43.928171906554326,
            8.645154817660881,
            -14.297293284807001,
            -21.224452451591343,
            -10.277262942853188,
            -22.948175274665356,
            -2.049067529685816
           ],
           "yaxis": "y"
          }
         ],
         "name": "7"
        },
        {
         "data": [
          {
           "hoverlabel": {
            "namelength": 0
           },
           "hovertemplate": "status=2<br>step=8<br>x=%{x}<br>y=%{y}",
           "legendgroup": "status=2",
           "marker": {
            "color": "#636efa",
            "symbol": "circle"
           },
           "mode": "markers",
           "name": "status=2",
           "showlegend": true,
           "type": "scatter",
           "x": [
            0.9140961459260533,
            6.5169107949100695,
            -12.330202534161247,
            -8.46882807715771,
            -4.530472191790093,
            -32.46384076440606,
            -26.73092636644488,
            -9.587658322241387,
            13.873557710584146,
            -18.228146241144458
           ],
           "xaxis": "x",
           "y": [
            -34.22345473110884,
            -4.649094591945942,
            -21.858591462104357,
            -32.30230739014491,
            -35.15354174892942,
            -20.11705752313764,
            -28.29639985430238,
            -42.21335510160309,
            -3.9641999620448196,
            -26.97598001617616
           ],
           "yaxis": "y"
          },
          {
           "hoverlabel": {
            "namelength": 0
           },
           "hovertemplate": "status=1<br>step=8<br>x=%{x}<br>y=%{y}",
           "legendgroup": "status=1",
           "marker": {
            "color": "#EF553B",
            "symbol": "circle"
           },
           "mode": "markers",
           "name": "status=1",
           "showlegend": true,
           "type": "scatter",
           "x": [
            -47.82889507316867,
            17.333991041044378,
            -45.58074883451873,
            -25.044332305838708,
            -20.971447226730568,
            46.75642559931524,
            24.425572552221148,
            -32.28500306934846,
            23.57159429382502,
            0.04439957409180462,
            35.204550078517315,
            -18.518887689868276,
            43.587605870307335,
            38.15855677883154,
            29.860237189734157,
            -17.179438539724988,
            23.218463472652214,
            -4.681061793790645,
            -13.294266963453417,
            14.33341229679933,
            -29.73944253866275,
            28.10544569376247,
            -34.29487416959683,
            15.756700879753742,
            -19.5481339400408,
            54.320758572859866,
            -37.32819930801555,
            -21.374751868402125,
            -59.39491682613401,
            41.4035578338565,
            4.515189720602656,
            29.356541504299926,
            -7.881446843545526,
            3.2972630175476634,
            -18.32239460474268,
            40.55764871560907,
            -55.836848797335826,
            -45.709409681373025,
            34.06211738924881,
            1.4626360872249347,
            -46.80063186440982,
            68.1752352831663,
            8.362688641537593,
            -35.31893401969255,
            53.48803388340366,
            47.354971105074085,
            39.528399071500345,
            -20.58947968013956,
            58.65902401302293,
            -33.13586771403222
           ],
           "xaxis": "x",
           "y": [
            -35.888605246943385,
            39.89840723166737,
            -13.934539294802203,
            9.288625189687046,
            -4.7440590632381525,
            8.658671212155006,
            -20.01867605937209,
            8.256378641599731,
            42.46439553186425,
            -15.648862100744864,
            28.2347439374829,
            26.454502709404057,
            -20.693637282305595,
            -20.845615082646493,
            30.92973689495129,
            -9.325152224934117,
            2.891788944783599,
            24.863178890066838,
            47.447550559444,
            27.32596779519979,
            -10.826830849743326,
            36.42370247866266,
            25.585677553533685,
            -24.85269309674844,
            36.98593011275009,
            -3.033808582332264,
            -9.569494393655564,
            20.944548860432704,
            0.5999979595074976,
            -34.674301435157176,
            -26.148236537190545,
            -3.4529117326682623,
            1.9974232248558055,
            49.00344340350493,
            42.632076153712,
            -39.589147701755465,
            55.358537183909434,
            34.496179936933636,
            -10.78002397071774,
            14.306217505088775,
            -23.29368484384518,
            16.353973991048505,
            59.29638287333376,
            -45.742380677089415,
            4.287258779767089,
            -10.357491009032731,
            -25.373007161550547,
            -9.110284591122717,
            -18.126875814454266,
            -4.923344818762686
           ],
           "yaxis": "y"
          }
         ],
         "name": "8"
        },
        {
         "data": [
          {
           "hoverlabel": {
            "namelength": 0
           },
           "hovertemplate": "status=2<br>step=9<br>x=%{x}<br>y=%{y}",
           "legendgroup": "status=2",
           "marker": {
            "color": "#636efa",
            "symbol": "circle"
           },
           "mode": "markers",
           "name": "status=2",
           "showlegend": true,
           "type": "scatter",
           "x": [
            2.079777059097382,
            8.49258660214537,
            -7.476002199356843,
            -5.2423577687776355,
            -3.8535464711856813,
            -27.275115895934256,
            -5.589605680236608,
            -32.18908479926131,
            -0.09363275821376615,
            -26.992004829499347,
            -4.588147932085752,
            11.611079980969686,
            -22.307579997256877
           ],
           "xaxis": "x",
           "y": [
            -31.81048942186058,
            -6.660165368043305,
            -19.585636340719066,
            -29.866374829591713,
            -16.298443126121487,
            -15.53990343604888,
            -38.678128181063386,
            -15.416208267064848,
            -27.877610395827258,
            -28.093798406179587,
            -46.825049671818164,
            -8.830306795282198,
            -30.16293888540042
           ],
           "yaxis": "y"
          },
          {
           "hoverlabel": {
            "namelength": 0
           },
           "hovertemplate": "status=1<br>step=9<br>x=%{x}<br>y=%{y}",
           "legendgroup": "status=1",
           "marker": {
            "color": "#EF553B",
            "symbol": "circle"
           },
           "mode": "markers",
           "name": "status=1",
           "showlegend": true,
           "type": "scatter",
           "x": [
            -44.15159899013099,
            12.353137520843957,
            -49.6157554752146,
            -20.062513149511446,
            -20.64002049828132,
            43.847189853660566,
            22.53290072429652,
            -28.898290142289138,
            24.92399778692733,
            33.7222341177027,
            -19.32621899999309,
            45.64917182034435,
            38.93437378786232,
            29.915682797211723,
            -14.937069175906654,
            28.109127371355385,
            0.10419418230581279,
            -9.009460712467193,
            17.83457451530753,
            29.434900141965564,
            -36.52273504045743,
            15.889774789933359,
            -14.742825591714293,
            53.82941928465947,
            -41.71605495283215,
            -16.441149948872244,
            -63.869426006158164,
            41.854123839843,
            25.30877259946768,
            -6.675319066730592,
            3.943712800521506,
            -23.1567215701807,
            43.133623825194,
            -56.33958913177053,
            -43.22389400830191,
            35.27310917523837,
            1.0347382095661146,
            -47.40178328794118,
            64.79696864926233,
            11.588144339175644,
            -33.682406375542755,
            54.357394912727656,
            42.78818235978401,
            44.48571920596241,
            -24.490122171210878,
            62.39225697264623,
            -29.095680529033352
           ],
           "xaxis": "x",
           "y": [
            -35.58007412797561,
            40.790708077953745,
            -17.029917034821846,
            5.63831707930456,
            -6.9202467590867,
            4.836496563384474,
            -24.124661648922753,
            10.189927876957945,
            39.181906950623734,
            24.946992339125877,
            23.7113105569825,
            -25.078616688858133,
            -21.837837180197823,
            28.6554999368981,
            -5.203368587318394,
            -1.8257302064912926,
            28.284754083090704,
            49.69336057810512,
            26.13456737611209,
            40.217854965064056,
            29.329451403626365,
            -23.194914673477246,
            36.54915373111042,
            -1.287634224667399,
            -14.166494771849404,
            25.456285268506214,
            5.01590834579167,
            -30.88277782735934,
            0.5232613960308434,
            2.3625179438593493,
            46.87130648044929,
            46.47495945422493,
            -36.65905814203599,
            52.418750646764636,
            32.223853648387895,
            -7.463039090356396,
            13.424969080134272,
            -25.733053866409083,
            12.768121031421249,
            54.99787407131628,
            -49.79832096049043,
            4.096888943542306,
            -6.245972636350283,
            -28.491605002886445,
            -10.645490552008166,
            -20.07492306261327,
            0.07473770388308232
           ],
           "yaxis": "y"
          }
         ],
         "name": "9"
        },
        {
         "data": [
          {
           "hoverlabel": {
            "namelength": 0
           },
           "hovertemplate": "status=2<br>step=10<br>x=%{x}<br>y=%{y}",
           "legendgroup": "status=2",
           "marker": {
            "color": "#636efa",
            "symbol": "circle"
           },
           "mode": "markers",
           "name": "status=2",
           "showlegend": true,
           "type": "scatter",
           "x": [
            0.20826174727763958,
            8.022881652747715,
            -3.448011798123513,
            -23.832904789271012,
            -8.713434293911284,
            -2.26415320475018,
            -23.157893807321507,
            -3.2752513134059384,
            -28.82580588293804,
            -5.0083833107745175,
            -29.710923462996206,
            -1.5758767386056416,
            9.295080537639706,
            -26.796254829723722,
            -26.01975690103314
           ],
           "xaxis": "x",
           "y": [
            -35.51276011144132,
            -1.8901209159236725,
            -20.527050586029173,
            -11.65316259045056,
            -26.09341407309181,
            -15.135645779320784,
            -16.28992288670692,
            -37.91243355929057,
            -11.55070081393069,
            -26.30628520353294,
            -30.360165103031996,
            -46.6714135482225,
            -7.280890603955822,
            -32.48172316825215,
            -7.803426443655029
           ],
           "yaxis": "y"
          },
          {
           "hoverlabel": {
            "namelength": 0
           },
           "hovertemplate": "status=1<br>step=10<br>x=%{x}<br>y=%{y}",
           "legendgroup": "status=1",
           "marker": {
            "color": "#EF553B",
            "symbol": "circle"
           },
           "mode": "markers",
           "name": "status=1",
           "showlegend": true,
           "type": "scatter",
           "x": [
            -43.41569767678614,
            12.607285736929725,
            -47.64143767323707,
            -18.683196326415704,
            40.94524379231493,
            27.49088039992218,
            -32.56094378581936,
            28.709652464115944,
            36.589040496199274,
            -23.582390737714114,
            46.91561365925192,
            38.33734369690782,
            30.657925915759225,
            -18.0961444062809,
            29.40070107973588,
            -1.6749898950624607,
            -5.050666670829671,
            20.623567559790228,
            27.533956748075944,
            -36.01147407459762,
            14.024394252068543,
            -10.544842493289702,
            56.717601822179006,
            -41.7870747116768,
            -13.47954689870801,
            -64.65971626475113,
            41.86470211567568,
            25.261555576712716,
            -9.49320372262418,
            5.5674502541518205,
            -18.351016340783733,
            47.93260310042797,
            -59.39086636661725,
            -44.74211425566013,
            30.685329246866743,
            -2.874618041945132,
            -48.21990326175625,
            65.1682357719469,
            6.9825437849908445,
            -33.2432323056891,
            56.801480042064256,
            42.64493307795352,
            42.80407392150559,
            65.95085919936449,
            -28.15465693901988
           ],
           "xaxis": "x",
           "y": [
            -33.08231389380401,
            43.759034624437035,
            -20.75617845501764,
            7.767495475961434,
            1.0785222340694345,
            -19.91111606979949,
            11.460765988178146,
            40.57510797961437,
            28.992794715896245,
            26.01774369994776,
            -23.095461368690124,
            -17.46375029806399,
            32.047518452972,
            -8.795877138202808,
            0.4396130859702376,
            30.62266086397383,
            54.53463405727709,
            25.623131901827783,
            44.74945996477947,
            30.775129359684485,
            -18.580286288908976,
            40.79877836774355,
            -1.9894954477004871,
            -10.4633380787733,
            27.346609508390635,
            4.201259882860195,
            -29.51114438444379,
            0.46373442906219164,
            5.722454062627899,
            49.07190325070303,
            45.18679268622808,
            -41.016333339796546,
            49.35708263010561,
            27.484359815778816,
            -11.130715175378016,
            18.18158625348354,
            -29.316339470370917,
            11.869495800010807,
            57.97610635463665,
            -54.09024741859936,
            8.16190704829738,
            -10.009383421274972,
            -33.457378704198355,
            -15.17422776636189,
            -0.26246408745330196
           ],
           "yaxis": "y"
          }
         ],
         "name": "10"
        },
        {
         "data": [
          {
           "hoverlabel": {
            "namelength": 0
           },
           "hovertemplate": "status=2<br>step=11<br>x=%{x}<br>y=%{y}",
           "legendgroup": "status=2",
           "marker": {
            "color": "#636efa",
            "symbol": "circle"
           },
           "mode": "markers",
           "name": "status=2",
           "showlegend": true,
           "type": "scatter",
           "x": [
            -3.9265671668688578,
            12.0127785463941,
            -8.150882808455615,
            -25.623209887361604,
            -6.469923252183745,
            -3.976126206272969,
            -18.36601633399531,
            -21.615405618087586,
            -6.838852390854248,
            -33.70403646498837,
            14.3180120614883,
            -9.282229442029736,
            -32.146471256127825,
            -4.316601947197832,
            13.890459084031816,
            -26.502818717699405,
            -26.97662458222903,
            -26.94114826865092
           ],
           "xaxis": "x",
           "y": [
            -36.3540986563864,
            1.592074559484887,
            -20.416857803869064,
            -11.37462637399021,
            -24.00325715339641,
            -20.039838623289597,
            -13.79546693693305,
            -18.511639632719582,
            -39.005764026978376,
            -6.711890736358097,
            -17.74544017160734,
            -27.001469667200634,
            -30.77597117444089,
            -46.0679646796713,
            -11.837030290377836,
            -29.804892218405683,
            -6.463077333780738,
            -0.8784060319357199
           ],
           "yaxis": "y"
          },
          {
           "hoverlabel": {
            "namelength": 0
           },
           "hovertemplate": "status=1<br>step=11<br>x=%{x}<br>y=%{y}",
           "legendgroup": "status=1",
           "marker": {
            "color": "#EF553B",
            "symbol": "circle"
           },
           "mode": "markers",
           "name": "status=1",
           "showlegend": true,
           "type": "scatter",
           "x": [
            -47.7660736265181,
            7.992827455544145,
            -45.33226703042754,
            -17.68591388491214,
            36.26194935429546,
            31.546260162955896,
            -29.809873838203487,
            27.409781653014647,
            36.34112362753271,
            -23.279232969254,
            42.953429434962985,
            36.8185472260954,
            35.01829532875254,
            32.8542833788693,
            -5.042810752254554,
            -3.877321903837621,
            20.79890697677202,
            23.912797906808812,
            -33.13096050581795,
            -7.367846300567955,
            57.75580431518428,
            -44.46215478249928,
            -12.646059491331435,
            -64.68939487146474,
            43.9017795535317,
            29.58036841684196,
            -6.465733415743204,
            0.695148372844016,
            -21.861290670305472,
            50.26403882008483,
            -58.85288992147182,
            -44.76934380954141,
            26.176939657621315,
            1.1204760797777809,
            -49.764642445377966,
            62.928172511924885,
            4.623422549874618,
            -28.6898398885726,
            57.312571324578926,
            44.35461174358773,
            38.089241141824516,
            64.41725694920707
           ],
           "xaxis": "x",
           "y": [
            -34.29979288473097,
            39.10580546328561,
            -22.02239345016854,
            6.024663449937499,
            5.382408809329987,
            -21.01095550258618,
            15.53239281891425,
            44.69114702580828,
            31.168140303390373,
            28.833499560977145,
            -23.46575583987998,
            -18.645853261407495,
            36.332746742106835,
            1.8627138786263453,
            29.600371789064553,
            58.612518543175995,
            27.43138958701124,
            44.20617324818023,
            31.793049554363215,
            36.87251787834567,
            0.002874767918151555,
            -8.006144547643043,
            28.405923472111667,
            2.320162913689628,
            -28.730073181539897,
            -3.2598757809182364,
            7.052317161824069,
            48.86086737635289,
            47.026733682339085,
            -45.48918455955147,
            49.79466940459625,
            24.402544634605384,
            -10.790259941416789,
            19.253737916640773,
            -29.406264202846234,
            13.346029246963491,
            54.122581306980756,
            -51.01345862931207,
            9.973008619248704,
            -6.67686053504155,
            -33.68809924155822,
            -19.80961827899599
           ],
           "yaxis": "y"
          }
         ],
         "name": "11"
        },
        {
         "data": [
          {
           "hoverlabel": {
            "namelength": 0
           },
           "hovertemplate": "status=2<br>step=12<br>x=%{x}<br>y=%{y}",
           "legendgroup": "status=2",
           "marker": {
            "color": "#636efa",
            "symbol": "circle"
           },
           "mode": "markers",
           "name": "status=2",
           "showlegend": true,
           "type": "scatter",
           "x": [
            -6.238300918238343,
            13.220770941149102,
            -3.3866719913560495,
            -25.654567599977504,
            -8.143235784083988,
            -0.33584293858781145,
            -17.942097454280606,
            -19.584318963243536,
            -5.657660657708224,
            -30.25005600469941,
            9.79595228709884,
            -11.650331890850126,
            -29.657996701681036,
            -1.1379659088878178,
            11.556022499548973,
            -23.598753258498427,
            -23.17548339839253,
            -29.6594774460859
           ],
           "xaxis": "x",
           "y": [
            -40.48629336890834,
            2.936886327206974,
            -19.958225889344714,
            -7.106956630513695,
            -25.82666763276931,
            -22.77667505651913,
            -13.371275218563504,
            -18.420925748077927,
            -36.496571440674956,
            -11.570736232057284,
            -17.631376787942372,
            -27.959429052232252,
            -27.51261000781911,
            -41.2462643912549,
            -8.911087873095985,
            -27.746656467672498,
            -9.610708633603624,
            3.2700049530931423
           ],
           "yaxis": "y"
          },
          {
           "hoverlabel": {
            "namelength": 0
           },
           "hovertemplate": "status=1<br>step=12<br>x=%{x}<br>y=%{y}",
           "legendgroup": "status=1",
           "marker": {
            "color": "#EF553B",
            "symbol": "circle"
           },
           "mode": "markers",
           "name": "status=1",
           "showlegend": true,
           "type": "scatter",
           "x": [
            -51.969976297895535,
            5.6785035759597315,
            -45.29965001479382,
            -16.071402545914086,
            39.35687294207693,
            34.13682701579182,
            -27.727365132829426,
            28.12224521316298,
            40.84847258178713,
            -24.703616770661785,
            43.95117958569451,
            37.45738325259407,
            30.50089108062054,
            30.699757120928403,
            -4.331934503011963,
            -3.3917949159290917,
            16.416960401346994,
            19.44984527295184,
            -33.17451175935909,
            -7.760166639911736,
            52.79248029026914,
            -41.35832944596601,
            -15.76315533293062,
            -61.9286531579099,
            48.07032291133685,
            32.59768924749386,
            -5.030569955109119,
            3.145835043889007,
            -19.277890717201636,
            49.33616145939721,
            -57.805696445866076,
            -43.717884097018484,
            29.489779682239533,
            4.941330016569543,
            -50.02684340319453,
            63.257211823232815,
            9.58177354404882,
            -27.983156457606178,
            58.083946144234716,
            47.38699108701287,
            42.463483796047825,
            59.76087836046102
           ],
           "xaxis": "x",
           "y": [
            -36.6703613239114,
            37.87035494314911,
            -20.966220495601803,
            3.165699265346164,
            1.1859684592166195,
            -20.18999437137495,
            14.753862439403921,
            45.208473452969365,
            35.95438250872603,
            25.13795268342418,
            -20.81341460897558,
            -21.51340896377141,
            38.2527398218011,
            -3.0999443463041154,
            33.02086689251539,
            58.93457016695915,
            29.70016609484385,
            41.221197637959044,
            30.92343239042578,
            41.45242870447859,
            -1.9954891268317279,
            -10.40943414932786,
            24.140019745521577,
            4.654798414113167,
            -29.50141782038002,
            0.6024043938078538,
            10.519676935544384,
            44.045497729071144,
            51.09720542435292,
            -49.701812476905815,
            49.917245564246485,
            24.600264265147352,
            -15.75129634341817,
            23.681124310973075,
            -30.888717416191888,
            9.555012862587308,
            49.18955387340246,
            -55.08045511457665,
            12.016046246192108,
            -3.7434561231632912,
            -38.529798739378776,
            -16.66254206907061
           ],
           "yaxis": "y"
          }
         ],
         "name": "12"
        },
        {
         "data": [
          {
           "hoverlabel": {
            "namelength": 0
           },
           "hovertemplate": "status=2<br>step=13<br>x=%{x}<br>y=%{y}",
           "legendgroup": "status=2",
           "marker": {
            "color": "#636efa",
            "symbol": "circle"
           },
           "mode": "markers",
           "name": "status=2",
           "showlegend": true,
           "type": "scatter",
           "x": [
            -7.058499628085932,
            11.533389444806733,
            -0.6804812601200023,
            -21.017712152649395,
            -8.30010831308336,
            3.9984471621275226,
            -19.305279081730173,
            -22.894053602350233,
            -3.1378808144688595,
            -34.972561814007776,
            7.352962384774194,
            -7.428635090384775,
            -27.32931149866691,
            -3.04039006659798,
            15.826196319837884,
            -26.541201068424343,
            -19.132603383443602,
            -26.59690162966613
           ],
           "xaxis": "x",
           "y": [
            -42.475368168406,
            4.719812090284989,
            -17.02990573565654,
            -3.0406529003178626,
            -23.57161867472865,
            -19.863631070565077,
            -18.112076557200417,
            -16.8917925608025,
            -38.55917932967851,
            -10.868328481532812,
            -15.096585562187567,
            -30.54231949227501,
            -24.10324701346392,
            -45.81421907996722,
            -13.162543076774263,
            -27.393097996086595,
            -5.922441978288013,
            2.5069400035351466
           ],
           "yaxis": "y"
          },
          {
           "hoverlabel": {
            "namelength": 0
           },
           "hovertemplate": "status=1<br>step=13<br>x=%{x}<br>y=%{y}",
           "legendgroup": "status=1",
           "marker": {
            "color": "#EF553B",
            "symbol": "circle"
           },
           "mode": "markers",
           "name": "status=1",
           "showlegend": true,
           "type": "scatter",
           "x": [
            -52.48819345999923,
            6.59951610520642,
            -44.5294419313595,
            -19.026200448088424,
            37.581488505680404,
            37.858583423247055,
            -29.24524772515143,
            28.45040844417539,
            37.1645458636941,
            -24.651330716840427,
            46.03370491082593,
            41.96720459297049,
            32.93140824742412,
            29.809879115429233,
            -3.8648305646316308,
            -2.8585952160016523,
            12.479655855171504,
            24.304630252149245,
            -37.5944417206415,
            -3.8017957255252206,
            57.697524883707025,
            -46.30987943592427,
            -14.701497736619714,
            -59.73475063422906,
            49.05949278840418,
            34.879903318973575,
            -2.719671206450249,
            1.6383987568846003,
            -15.453535728666305,
            49.21589078547858,
            -60.676164106507464,
            -45.22654683654301,
            32.62564599655738,
            8.314729772079444,
            -54.058136292471296,
            60.570397139020386,
            7.619164146390988,
            -32.60361602810485,
            58.90498675191918,
            48.56710551810001,
            40.9477710370247,
            59.37224673992812
           ],
           "xaxis": "x",
           "y": [
            -40.879774627262314,
            40.09143842343414,
            -24.177001515552096,
            6.904886119026182,
            -0.9668182392092097,
            -18.390857313457715,
            10.507757975379775,
            40.213608291184165,
            37.1920796274523,
            22.757489760383187,
            -25.52781522472163,
            -24.23871718851478,
            34.34986160295114,
            -5.052811663599314,
            31.796787941632868,
            61.81045256539707,
            28.14851577422613,
            39.81958588769585,
            27.920218574994678,
            39.00622768414992,
            -5.621334093565642,
            -5.52654381800701,
            22.78528142906467,
            6.608175399908268,
            -34.2923382622457,
            3.415647828838,
            10.016915598152279,
            39.202140277863236,
            55.5013091518408,
            -47.2765451377088,
            49.63232446622704,
            24.65094378826361,
            -11.77795504033767,
            19.446808848951964,
            -32.29206071272331,
            9.149635618686212,
            51.97653159048487,
            -54.341498103854725,
            11.939259432730832,
            0.1738213390589607,
            -40.44659029050966,
            -16.20838877234857
           ],
           "yaxis": "y"
          }
         ],
         "name": "13"
        },
        {
         "data": [
          {
           "hoverlabel": {
            "namelength": 0
           },
           "hovertemplate": "status=2<br>step=14<br>x=%{x}<br>y=%{y}",
           "legendgroup": "status=2",
           "marker": {
            "color": "#636efa",
            "symbol": "circle"
           },
           "mode": "markers",
           "name": "status=2",
           "showlegend": true,
           "type": "scatter",
           "x": [
            -10.53940211096332,
            11.089244598769614,
            0.7665417330868003,
            -23.195308819297683,
            -12.65565321936966,
            -0.5315242934913582,
            -19.712089837808257,
            -21.27533897873483,
            1.6175744621086885,
            -39.95013319304126,
            3.354690444273886,
            -11.610981595521046,
            -30.680225280206663,
            -0.9693605490220243,
            12.382262819617841,
            -26.199534067185457,
            -23.101825241402597,
            -27.67411492064344
           ],
           "xaxis": "x",
           "y": [
            -45.84062716350478,
            0.8632884478503233,
            -12.708725549100128,
            -1.7751388395822438,
            -19.24055234447222,
            -20.02325243908753,
            -19.63389604880899,
            -14.047273560617889,
            -38.045785009698136,
            -12.288196012411872,
            -19.678348629335527,
            -25.854232574882516,
            -23.84512163665874,
            -41.24950585345603,
            -18.131760190796868,
            -30.202235025754984,
            -5.761943055243632,
            6.575135781898591
           ],
           "yaxis": "y"
          },
          {
           "hoverlabel": {
            "namelength": 0
           },
           "hovertemplate": "status=1<br>step=14<br>x=%{x}<br>y=%{y}",
           "legendgroup": "status=1",
           "marker": {
            "color": "#EF553B",
            "symbol": "circle"
           },
           "mode": "markers",
           "name": "status=1",
           "showlegend": true,
           "type": "scatter",
           "x": [
            -47.91146581529493,
            8.090993251213122,
            -42.98292151544326,
            -14.699604656767079,
            40.621005581424306,
            40.44690476918637,
            -33.23445092494121,
            25.38178984214874,
            35.54404978883763,
            -24.520981257136285,
            49.23868789308729,
            41.652411643827996,
            28.167811943297657,
            27.31161432112931,
            -2.889693898662631,
            -2.3440668708475707,
            8.710319450130514,
            26.469993545825282,
            -37.11803479572764,
            -3.538116830034437,
            58.62076858764855,
            -51.172280915523956,
            -15.914704916864645,
            -59.76138635231902,
            44.504618456670435,
            35.847785703418474,
            -1.5976263227419363,
            0.09201397544273826,
            -17.225067932708303,
            47.92834980459001,
            -55.86657250132864,
            -44.220382970143106,
            32.34299368647331,
            6.934173854123496,
            -54.89869060350567,
            56.929041217703315,
            12.449316518831033,
            -28.786754884425015,
            56.476212618828306,
            48.3219901167946,
            45.70658433464829,
            58.88988854762865
           ],
           "xaxis": "x",
           "y": [
            -41.080959830935406,
            41.66472819941655,
            -24.23903737497595,
            3.4053289105283455,
            -3.871700571168989,
            -13.440755763759057,
            14.0422019690472,
            39.74116455531636,
            39.6705305325944,
            27.145345192717443,
            -25.654272708714032,
            -20.11714972728312,
            38.619131502041114,
            -4.7065798412411315,
            32.03104413703401,
            62.61386053954806,
            23.1821697881003,
            43.041073061538235,
            25.402691466604256,
            38.09966420978008,
            -1.2126097216590352,
            -5.546946622941329,
            26.45548140153718,
            7.430958625131753,
            -37.04892833196341,
            6.491428970279665,
            7.741891541913697,
            37.36153540549546,
            53.306207467959844,
            -46.98671141912656,
            46.10253908930362,
            22.923242878314657,
            -16.078584093147807,
            16.737394834737056,
            -32.680942679891004,
            13.02590214313118,
            52.92045913307041,
            -52.34278963829678,
            9.345411514631442,
            -3.8494807227362315,
            -40.45295898782486,
            -16.193882524127986
           ],
           "yaxis": "y"
          }
         ],
         "name": "14"
        },
        {
         "data": [
          {
           "hoverlabel": {
            "namelength": 0
           },
           "hovertemplate": "status=2<br>step=15<br>x=%{x}<br>y=%{y}",
           "legendgroup": "status=2",
           "marker": {
            "color": "#636efa",
            "symbol": "circle"
           },
           "mode": "markers",
           "name": "status=2",
           "showlegend": true,
           "type": "scatter",
           "x": [
            -13.80599011719144,
            7.020373895361516,
            -2.4087443271342894,
            -28.140748962755918,
            -14.63285403428509,
            -3.7884284972605027,
            -21.00886535260352,
            -21.967374117621667,
            5.336087173227558,
            -41.139994710860435,
            6.235285147546458,
            -12.034704002967402,
            -31.176126370521487,
            -2.8725045302466463,
            13.081721182302818,
            -21.466563332455657,
            -24.22168042650891,
            -26.269371090443705
           ],
           "xaxis": "x",
           "y": [
            -48.92713120095712,
            -3.3031653203027327,
            -12.276095684517905,
            -5.136093981691416,
            -15.147126994295853,
            -16.195879882151687,
            -23.05282957921991,
            -17.503865998115778,
            -42.93660770952131,
            -7.8279223051115725,
            -18.374215306909925,
            -21.18898808770315,
            -19.996424604323963,
            -40.07808151670233,
            -14.13242738610788,
            -26.5610455595462,
            -4.583518604976121,
            3.5381142671841355
           ],
           "yaxis": "y"
          },
          {
           "hoverlabel": {
            "namelength": 0
           },
           "hovertemplate": "status=1<br>step=15<br>x=%{x}<br>y=%{y}",
           "legendgroup": "status=1",
           "marker": {
            "color": "#EF553B",
            "symbol": "circle"
           },
           "mode": "markers",
           "name": "status=1",
           "showlegend": true,
           "type": "scatter",
           "x": [
            -50.10782786475325,
            5.445116392686569,
            -39.532205287914515,
            -16.34756259510577,
            40.70357741700342,
            44.153358868487956,
            -32.99634119915593,
            21.674500614808903,
            38.297909150066324,
            -27.38818667545078,
            52.82225204855178,
            41.97250472686091,
            27.300645414855303,
            27.21752649474865,
            0.6730661697732883,
            -4.887318526771837,
            6.792862086572239,
            28.582246743196237,
            -37.877132697455735,
            -5.833474977589885,
            63.54547963481728,
            -53.123840324220055,
            -18.256398560479543,
            -58.72921248548549,
            42.28390259207152,
            39.32081004782291,
            3.2894279366836923,
            -2.384552942899853,
            -15.961546587039368,
            44.05624489980595,
            -54.6495457398603,
            -46.71644620436905,
            35.621100506229034,
            11.456702289037196,
            -56.86877115993455,
            61.48575038889403,
            7.6776092444943655,
            -27.35913599516165,
            57.95330999870448,
            48.70772563919354,
            49.785722529791975,
            59.52767019663583
           ],
           "xaxis": "x",
           "y": [
            -45.61260204950352,
            38.68932562525606,
            -28.59317207135887,
            0.759813446391584,
            -1.6354616844186909,
            -11.086881701812551,
            17.355061701002942,
            44.41950394478547,
            39.83598530348121,
            25.31387207308033,
            -21.602309889549588,
            -18.561978831059704,
            35.10476088083195,
            -1.5249306127172115,
            36.832340789098325,
            63.25974558636096,
            24.516285043418833,
            38.74180095071287,
            22.39138010280778,
            34.16145139478599,
            -5.966058015964279,
            -8.613184762109888,
            30.59382990538111,
            3.2109544721707364,
            -32.52949872069146,
            8.418465510324836,
            9.105129199201425,
            34.98327973472994,
            54.188715703100755,
            -48.44172975794496,
            47.050252307561294,
            24.32009699260823,
            -20.7496313049882,
            21.543253178488985,
            -36.690763995749776,
            15.735271062721747,
            50.7201261708084,
            -51.65955002111919,
            8.569391843499528,
            -3.3001398005838913,
            -37.72075398222377,
            -20.344341218593325
           ],
           "yaxis": "y"
          }
         ],
         "name": "15"
        }
       ],
       "layout": {
        "coloraxis": {
         "showscale": false
        },
        "height": 600,
        "legend": {
         "tracegroupgap": 0
        },
        "margin": {
         "t": 60
        },
        "sliders": [
         {
          "active": 0,
          "currentvalue": {
           "prefix": "Day="
          },
          "len": 0.9,
          "pad": {
           "b": 10,
           "t": 60
          },
          "steps": [
           {
            "args": [
             [
              "0"
             ],
             {
              "frame": {
               "duration": 0,
               "redraw": false
              },
              "fromcurrent": true,
              "mode": "immediate",
              "transition": {
               "duration": 0,
               "easing": "linear"
              }
             }
            ],
            "label": "0",
            "method": "animate"
           },
           {
            "args": [
             [
              "1"
             ],
             {
              "frame": {
               "duration": 0,
               "redraw": false
              },
              "fromcurrent": true,
              "mode": "immediate",
              "transition": {
               "duration": 0,
               "easing": "linear"
              }
             }
            ],
            "label": "1",
            "method": "animate"
           },
           {
            "args": [
             [
              "2"
             ],
             {
              "frame": {
               "duration": 0,
               "redraw": false
              },
              "fromcurrent": true,
              "mode": "immediate",
              "transition": {
               "duration": 0,
               "easing": "linear"
              }
             }
            ],
            "label": "2",
            "method": "animate"
           },
           {
            "args": [
             [
              "3"
             ],
             {
              "frame": {
               "duration": 0,
               "redraw": false
              },
              "fromcurrent": true,
              "mode": "immediate",
              "transition": {
               "duration": 0,
               "easing": "linear"
              }
             }
            ],
            "label": "3",
            "method": "animate"
           },
           {
            "args": [
             [
              "4"
             ],
             {
              "frame": {
               "duration": 0,
               "redraw": false
              },
              "fromcurrent": true,
              "mode": "immediate",
              "transition": {
               "duration": 0,
               "easing": "linear"
              }
             }
            ],
            "label": "4",
            "method": "animate"
           },
           {
            "args": [
             [
              "5"
             ],
             {
              "frame": {
               "duration": 0,
               "redraw": false
              },
              "fromcurrent": true,
              "mode": "immediate",
              "transition": {
               "duration": 0,
               "easing": "linear"
              }
             }
            ],
            "label": "5",
            "method": "animate"
           },
           {
            "args": [
             [
              "6"
             ],
             {
              "frame": {
               "duration": 0,
               "redraw": false
              },
              "fromcurrent": true,
              "mode": "immediate",
              "transition": {
               "duration": 0,
               "easing": "linear"
              }
             }
            ],
            "label": "6",
            "method": "animate"
           },
           {
            "args": [
             [
              "7"
             ],
             {
              "frame": {
               "duration": 0,
               "redraw": false
              },
              "fromcurrent": true,
              "mode": "immediate",
              "transition": {
               "duration": 0,
               "easing": "linear"
              }
             }
            ],
            "label": "7",
            "method": "animate"
           },
           {
            "args": [
             [
              "8"
             ],
             {
              "frame": {
               "duration": 0,
               "redraw": false
              },
              "fromcurrent": true,
              "mode": "immediate",
              "transition": {
               "duration": 0,
               "easing": "linear"
              }
             }
            ],
            "label": "8",
            "method": "animate"
           },
           {
            "args": [
             [
              "9"
             ],
             {
              "frame": {
               "duration": 0,
               "redraw": false
              },
              "fromcurrent": true,
              "mode": "immediate",
              "transition": {
               "duration": 0,
               "easing": "linear"
              }
             }
            ],
            "label": "9",
            "method": "animate"
           },
           {
            "args": [
             [
              "10"
             ],
             {
              "frame": {
               "duration": 0,
               "redraw": false
              },
              "fromcurrent": true,
              "mode": "immediate",
              "transition": {
               "duration": 0,
               "easing": "linear"
              }
             }
            ],
            "label": "10",
            "method": "animate"
           },
           {
            "args": [
             [
              "11"
             ],
             {
              "frame": {
               "duration": 0,
               "redraw": false
              },
              "fromcurrent": true,
              "mode": "immediate",
              "transition": {
               "duration": 0,
               "easing": "linear"
              }
             }
            ],
            "label": "11",
            "method": "animate"
           },
           {
            "args": [
             [
              "12"
             ],
             {
              "frame": {
               "duration": 0,
               "redraw": false
              },
              "fromcurrent": true,
              "mode": "immediate",
              "transition": {
               "duration": 0,
               "easing": "linear"
              }
             }
            ],
            "label": "12",
            "method": "animate"
           },
           {
            "args": [
             [
              "13"
             ],
             {
              "frame": {
               "duration": 0,
               "redraw": false
              },
              "fromcurrent": true,
              "mode": "immediate",
              "transition": {
               "duration": 0,
               "easing": "linear"
              }
             }
            ],
            "label": "13",
            "method": "animate"
           },
           {
            "args": [
             [
              "14"
             ],
             {
              "frame": {
               "duration": 0,
               "redraw": false
              },
              "fromcurrent": true,
              "mode": "immediate",
              "transition": {
               "duration": 0,
               "easing": "linear"
              }
             }
            ],
            "label": "14",
            "method": "animate"
           },
           {
            "args": [
             [
              "15"
             ],
             {
              "frame": {
               "duration": 0,
               "redraw": false
              },
              "fromcurrent": true,
              "mode": "immediate",
              "transition": {
               "duration": 0,
               "easing": "linear"
              }
             }
            ],
            "label": "15",
            "method": "animate"
           }
          ],
          "x": 0.1,
          "xanchor": "left",
          "y": 0,
          "yanchor": "top"
         }
        ],
        "template": {
         "data": {
          "bar": [
           {
            "error_x": {
             "color": "#2a3f5f"
            },
            "error_y": {
             "color": "#2a3f5f"
            },
            "marker": {
             "line": {
              "color": "#E5ECF6",
              "width": 0.5
             }
            },
            "type": "bar"
           }
          ],
          "barpolar": [
           {
            "marker": {
             "line": {
              "color": "#E5ECF6",
              "width": 0.5
             }
            },
            "type": "barpolar"
           }
          ],
          "carpet": [
           {
            "aaxis": {
             "endlinecolor": "#2a3f5f",
             "gridcolor": "white",
             "linecolor": "white",
             "minorgridcolor": "white",
             "startlinecolor": "#2a3f5f"
            },
            "baxis": {
             "endlinecolor": "#2a3f5f",
             "gridcolor": "white",
             "linecolor": "white",
             "minorgridcolor": "white",
             "startlinecolor": "#2a3f5f"
            },
            "type": "carpet"
           }
          ],
          "choropleth": [
           {
            "colorbar": {
             "outlinewidth": 0,
             "ticks": ""
            },
            "type": "choropleth"
           }
          ],
          "contour": [
           {
            "colorbar": {
             "outlinewidth": 0,
             "ticks": ""
            },
            "colorscale": [
             [
              0,
              "#0d0887"
             ],
             [
              0.1111111111111111,
              "#46039f"
             ],
             [
              0.2222222222222222,
              "#7201a8"
             ],
             [
              0.3333333333333333,
              "#9c179e"
             ],
             [
              0.4444444444444444,
              "#bd3786"
             ],
             [
              0.5555555555555556,
              "#d8576b"
             ],
             [
              0.6666666666666666,
              "#ed7953"
             ],
             [
              0.7777777777777778,
              "#fb9f3a"
             ],
             [
              0.8888888888888888,
              "#fdca26"
             ],
             [
              1,
              "#f0f921"
             ]
            ],
            "type": "contour"
           }
          ],
          "contourcarpet": [
           {
            "colorbar": {
             "outlinewidth": 0,
             "ticks": ""
            },
            "type": "contourcarpet"
           }
          ],
          "heatmap": [
           {
            "colorbar": {
             "outlinewidth": 0,
             "ticks": ""
            },
            "colorscale": [
             [
              0,
              "#0d0887"
             ],
             [
              0.1111111111111111,
              "#46039f"
             ],
             [
              0.2222222222222222,
              "#7201a8"
             ],
             [
              0.3333333333333333,
              "#9c179e"
             ],
             [
              0.4444444444444444,
              "#bd3786"
             ],
             [
              0.5555555555555556,
              "#d8576b"
             ],
             [
              0.6666666666666666,
              "#ed7953"
             ],
             [
              0.7777777777777778,
              "#fb9f3a"
             ],
             [
              0.8888888888888888,
              "#fdca26"
             ],
             [
              1,
              "#f0f921"
             ]
            ],
            "type": "heatmap"
           }
          ],
          "heatmapgl": [
           {
            "colorbar": {
             "outlinewidth": 0,
             "ticks": ""
            },
            "colorscale": [
             [
              0,
              "#0d0887"
             ],
             [
              0.1111111111111111,
              "#46039f"
             ],
             [
              0.2222222222222222,
              "#7201a8"
             ],
             [
              0.3333333333333333,
              "#9c179e"
             ],
             [
              0.4444444444444444,
              "#bd3786"
             ],
             [
              0.5555555555555556,
              "#d8576b"
             ],
             [
              0.6666666666666666,
              "#ed7953"
             ],
             [
              0.7777777777777778,
              "#fb9f3a"
             ],
             [
              0.8888888888888888,
              "#fdca26"
             ],
             [
              1,
              "#f0f921"
             ]
            ],
            "type": "heatmapgl"
           }
          ],
          "histogram": [
           {
            "marker": {
             "colorbar": {
              "outlinewidth": 0,
              "ticks": ""
             }
            },
            "type": "histogram"
           }
          ],
          "histogram2d": [
           {
            "colorbar": {
             "outlinewidth": 0,
             "ticks": ""
            },
            "colorscale": [
             [
              0,
              "#0d0887"
             ],
             [
              0.1111111111111111,
              "#46039f"
             ],
             [
              0.2222222222222222,
              "#7201a8"
             ],
             [
              0.3333333333333333,
              "#9c179e"
             ],
             [
              0.4444444444444444,
              "#bd3786"
             ],
             [
              0.5555555555555556,
              "#d8576b"
             ],
             [
              0.6666666666666666,
              "#ed7953"
             ],
             [
              0.7777777777777778,
              "#fb9f3a"
             ],
             [
              0.8888888888888888,
              "#fdca26"
             ],
             [
              1,
              "#f0f921"
             ]
            ],
            "type": "histogram2d"
           }
          ],
          "histogram2dcontour": [
           {
            "colorbar": {
             "outlinewidth": 0,
             "ticks": ""
            },
            "colorscale": [
             [
              0,
              "#0d0887"
             ],
             [
              0.1111111111111111,
              "#46039f"
             ],
             [
              0.2222222222222222,
              "#7201a8"
             ],
             [
              0.3333333333333333,
              "#9c179e"
             ],
             [
              0.4444444444444444,
              "#bd3786"
             ],
             [
              0.5555555555555556,
              "#d8576b"
             ],
             [
              0.6666666666666666,
              "#ed7953"
             ],
             [
              0.7777777777777778,
              "#fb9f3a"
             ],
             [
              0.8888888888888888,
              "#fdca26"
             ],
             [
              1,
              "#f0f921"
             ]
            ],
            "type": "histogram2dcontour"
           }
          ],
          "mesh3d": [
           {
            "colorbar": {
             "outlinewidth": 0,
             "ticks": ""
            },
            "type": "mesh3d"
           }
          ],
          "parcoords": [
           {
            "line": {
             "colorbar": {
              "outlinewidth": 0,
              "ticks": ""
             }
            },
            "type": "parcoords"
           }
          ],
          "scatter": [
           {
            "marker": {
             "colorbar": {
              "outlinewidth": 0,
              "ticks": ""
             }
            },
            "type": "scatter"
           }
          ],
          "scatter3d": [
           {
            "line": {
             "colorbar": {
              "outlinewidth": 0,
              "ticks": ""
             }
            },
            "marker": {
             "colorbar": {
              "outlinewidth": 0,
              "ticks": ""
             }
            },
            "type": "scatter3d"
           }
          ],
          "scattercarpet": [
           {
            "marker": {
             "colorbar": {
              "outlinewidth": 0,
              "ticks": ""
             }
            },
            "type": "scattercarpet"
           }
          ],
          "scattergeo": [
           {
            "marker": {
             "colorbar": {
              "outlinewidth": 0,
              "ticks": ""
             }
            },
            "type": "scattergeo"
           }
          ],
          "scattergl": [
           {
            "marker": {
             "colorbar": {
              "outlinewidth": 0,
              "ticks": ""
             }
            },
            "type": "scattergl"
           }
          ],
          "scattermapbox": [
           {
            "marker": {
             "colorbar": {
              "outlinewidth": 0,
              "ticks": ""
             }
            },
            "type": "scattermapbox"
           }
          ],
          "scatterpolar": [
           {
            "marker": {
             "colorbar": {
              "outlinewidth": 0,
              "ticks": ""
             }
            },
            "type": "scatterpolar"
           }
          ],
          "scatterpolargl": [
           {
            "marker": {
             "colorbar": {
              "outlinewidth": 0,
              "ticks": ""
             }
            },
            "type": "scatterpolargl"
           }
          ],
          "scatterternary": [
           {
            "marker": {
             "colorbar": {
              "outlinewidth": 0,
              "ticks": ""
             }
            },
            "type": "scatterternary"
           }
          ],
          "surface": [
           {
            "colorbar": {
             "outlinewidth": 0,
             "ticks": ""
            },
            "colorscale": [
             [
              0,
              "#0d0887"
             ],
             [
              0.1111111111111111,
              "#46039f"
             ],
             [
              0.2222222222222222,
              "#7201a8"
             ],
             [
              0.3333333333333333,
              "#9c179e"
             ],
             [
              0.4444444444444444,
              "#bd3786"
             ],
             [
              0.5555555555555556,
              "#d8576b"
             ],
             [
              0.6666666666666666,
              "#ed7953"
             ],
             [
              0.7777777777777778,
              "#fb9f3a"
             ],
             [
              0.8888888888888888,
              "#fdca26"
             ],
             [
              1,
              "#f0f921"
             ]
            ],
            "type": "surface"
           }
          ],
          "table": [
           {
            "cells": {
             "fill": {
              "color": "#EBF0F8"
             },
             "line": {
              "color": "white"
             }
            },
            "header": {
             "fill": {
              "color": "#C8D4E3"
             },
             "line": {
              "color": "white"
             }
            },
            "type": "table"
           }
          ]
         },
         "layout": {
          "annotationdefaults": {
           "arrowcolor": "#2a3f5f",
           "arrowhead": 0,
           "arrowwidth": 1
          },
          "colorscale": {
           "diverging": [
            [
             0,
             "#8e0152"
            ],
            [
             0.1,
             "#c51b7d"
            ],
            [
             0.2,
             "#de77ae"
            ],
            [
             0.3,
             "#f1b6da"
            ],
            [
             0.4,
             "#fde0ef"
            ],
            [
             0.5,
             "#f7f7f7"
            ],
            [
             0.6,
             "#e6f5d0"
            ],
            [
             0.7,
             "#b8e186"
            ],
            [
             0.8,
             "#7fbc41"
            ],
            [
             0.9,
             "#4d9221"
            ],
            [
             1,
             "#276419"
            ]
           ],
           "sequential": [
            [
             0,
             "#0d0887"
            ],
            [
             0.1111111111111111,
             "#46039f"
            ],
            [
             0.2222222222222222,
             "#7201a8"
            ],
            [
             0.3333333333333333,
             "#9c179e"
            ],
            [
             0.4444444444444444,
             "#bd3786"
            ],
            [
             0.5555555555555556,
             "#d8576b"
            ],
            [
             0.6666666666666666,
             "#ed7953"
            ],
            [
             0.7777777777777778,
             "#fb9f3a"
            ],
            [
             0.8888888888888888,
             "#fdca26"
            ],
            [
             1,
             "#f0f921"
            ]
           ],
           "sequentialminus": [
            [
             0,
             "#0d0887"
            ],
            [
             0.1111111111111111,
             "#46039f"
            ],
            [
             0.2222222222222222,
             "#7201a8"
            ],
            [
             0.3333333333333333,
             "#9c179e"
            ],
            [
             0.4444444444444444,
             "#bd3786"
            ],
            [
             0.5555555555555556,
             "#d8576b"
            ],
            [
             0.6666666666666666,
             "#ed7953"
            ],
            [
             0.7777777777777778,
             "#fb9f3a"
            ],
            [
             0.8888888888888888,
             "#fdca26"
            ],
            [
             1,
             "#f0f921"
            ]
           ]
          },
          "colorway": [
           "#636efa",
           "#EF553B",
           "#00cc96",
           "#ab63fa",
           "#FFA15A",
           "#19d3f3",
           "#FF6692",
           "#B6E880",
           "#FF97FF",
           "#FECB52"
          ],
          "font": {
           "color": "#2a3f5f"
          },
          "geo": {
           "bgcolor": "white",
           "lakecolor": "white",
           "landcolor": "#E5ECF6",
           "showlakes": true,
           "showland": true,
           "subunitcolor": "white"
          },
          "hoverlabel": {
           "align": "left"
          },
          "hovermode": "closest",
          "mapbox": {
           "style": "light"
          },
          "paper_bgcolor": "white",
          "plot_bgcolor": "#E5ECF6",
          "polar": {
           "angularaxis": {
            "gridcolor": "white",
            "linecolor": "white",
            "ticks": ""
           },
           "bgcolor": "#E5ECF6",
           "radialaxis": {
            "gridcolor": "white",
            "linecolor": "white",
            "ticks": ""
           }
          },
          "scene": {
           "xaxis": {
            "backgroundcolor": "#E5ECF6",
            "gridcolor": "white",
            "gridwidth": 2,
            "linecolor": "white",
            "showbackground": true,
            "ticks": "",
            "zerolinecolor": "white"
           },
           "yaxis": {
            "backgroundcolor": "#E5ECF6",
            "gridcolor": "white",
            "gridwidth": 2,
            "linecolor": "white",
            "showbackground": true,
            "ticks": "",
            "zerolinecolor": "white"
           },
           "zaxis": {
            "backgroundcolor": "#E5ECF6",
            "gridcolor": "white",
            "gridwidth": 2,
            "linecolor": "white",
            "showbackground": true,
            "ticks": "",
            "zerolinecolor": "white"
           }
          },
          "shapedefaults": {
           "line": {
            "color": "#2a3f5f"
           }
          },
          "ternary": {
           "aaxis": {
            "gridcolor": "white",
            "linecolor": "white",
            "ticks": ""
           },
           "baxis": {
            "gridcolor": "white",
            "linecolor": "white",
            "ticks": ""
           },
           "bgcolor": "#E5ECF6",
           "caxis": {
            "gridcolor": "white",
            "linecolor": "white",
            "ticks": ""
           }
          },
          "title": {
           "x": 0.05
          },
          "xaxis": {
           "automargin": true,
           "gridcolor": "white",
           "linecolor": "white",
           "ticks": "",
           "zerolinecolor": "white",
           "zerolinewidth": 2
          },
          "yaxis": {
           "automargin": true,
           "gridcolor": "white",
           "linecolor": "white",
           "ticks": "",
           "zerolinecolor": "white",
           "zerolinewidth": 2
          }
         }
        },
        "title": {
         "text": "SIR Model"
        },
        "updatemenus": [
         {
          "buttons": [
           {
            "args": [
             null,
             {
              "frame": {
               "duration": 500,
               "redraw": true
              },
              "fromcurrent": true,
              "mode": "immediate",
              "transition": {
               "duration": 500,
               "easing": "linear"
              }
             }
            ],
            "label": "&#9654;",
            "method": "animate"
           },
           {
            "args": [
             [
              null
             ],
             {
              "frame": {
               "duration": 0,
               "redraw": false
              },
              "fromcurrent": true,
              "mode": "immediate",
              "transition": {
               "duration": 0,
               "easing": "linear"
              }
             }
            ],
            "label": "&#9724;",
            "method": "animate"
           }
          ],
          "direction": "left",
          "pad": {
           "r": 10,
           "t": 70
          },
          "showactive": false,
          "type": "buttons",
          "x": 0.1,
          "xanchor": "right",
          "y": 0,
          "yanchor": "top"
         }
        ],
        "xaxis": {
         "anchor": "y",
         "domain": [
          0,
          0.98
         ],
         "range": [
          -65,
          65
         ],
         "title": {
          "text": "x"
         }
        },
        "yaxis": {
         "anchor": "x",
         "domain": [
          0,
          1
         ],
         "range": [
          -65,
          65
         ],
         "title": {
          "text": "y"
         }
        }
       }
      },
      "text/html": [
       "<div>\n",
       "        \n",
       "        \n",
       "            <div id=\"9d7d5b3b-fb46-48aa-a65e-a7b6b64a47a3\" class=\"plotly-graph-div\" style=\"height:600px; width:100%;\"></div>\n",
       "            <script type=\"text/javascript\">\n",
       "                require([\"plotly\"], function(Plotly) {\n",
       "                    window.PLOTLYENV=window.PLOTLYENV || {};\n",
       "                    \n",
       "                if (document.getElementById(\"9d7d5b3b-fb46-48aa-a65e-a7b6b64a47a3\")) {\n",
       "                    Plotly.newPlot(\n",
       "                        '9d7d5b3b-fb46-48aa-a65e-a7b6b64a47a3',\n",
       "                        [{\"hoverlabel\": {\"namelength\": 0}, \"hovertemplate\": \"status=2<br>step=0<br>x=%{x}<br>y=%{y}\", \"legendgroup\": \"status=2\", \"marker\": {\"color\": \"#636efa\", \"symbol\": \"circle\"}, \"mode\": \"markers\", \"name\": \"status=2\", \"showlegend\": true, \"type\": \"scatter\", \"x\": [-2.680310742571571, 11.850359535521008, -25.190670703046802], \"xaxis\": \"x\", \"y\": [-28.343658511041546, 2.166686309338793, -17.835922180279795], \"yaxis\": \"y\"}, {\"hoverlabel\": {\"namelength\": 0}, \"hovertemplate\": \"status=1<br>step=0<br>x=%{x}<br>y=%{y}\", \"legendgroup\": \"status=1\", \"marker\": {\"color\": \"#EF553B\", \"symbol\": \"circle\"}, \"mode\": \"markers\", \"name\": \"status=1\", \"showlegend\": true, \"type\": \"scatter\", \"x\": [-48.40147294962102, 19.849295899693814, -38.0974817376684, -23.783913354572217, -15.851623466706542, 45.91660011039144, -8.636939490433846, 21.376387557490546, -21.85342750189656, 18.934736072175824, 8.093544010000272, 27.700136072850583, -22.090029878221205, 48.821441199150655, 46.41486534419738, 29.306533942039707, -17.73836722718893, 30.946354757035365, -1.6936835615581813, -18.370614940152596, 18.547278932419104, -45.16040822054153, -6.384030133914678, -41.82767947656559, 37.863980138536206, -38.19289958131188, 29.99159964635335, -23.00392454676663, 47.586829942388746, -39.74288773290826, -18.902965888004974, -48.63589274315929, 39.31605950662809, 16.78906246569673, -18.985119596666788, 42.25911723382772, 2.28815367447919, 12.599458283468756, -4.160245736164157, 29.82081230013104, -20.76392586118271, 38.01943983129334, -39.741098997878964, -8.968863466255797, -30.143399999684362, 38.87690216825442, 14.849975638718803, -49.484750249948405, 44.66800484150491, 15.750769757624383, -28.31589365414797, 42.12719045655902, 43.19011702680942, 37.65062385793291, -31.190499287287633, 42.75017799214906, -43.35287316439735], \"xaxis\": \"x\", \"y\": [-27.558263856618915, 42.54952396112202, -4.599226683617552, 5.642635203718484, -5.994538930917706, 12.28367643195164, -33.28676565360931, -25.1211038570741, -6.270153355176809, 37.37654665759702, -18.323786155601105, 25.43699014282575, 23.086488184599602, -23.09463361182319, -21.412760522157992, 37.23606176249528, 2.419677809683826, 7.5815127002671545, 13.010674556439817, 40.9123156844237, 36.357745323025384, -0.8570570807453919, -33.54208759506601, -15.163499486910858, 35.702311021301824, 12.196932234308413, -30.5952053165773, 40.22363346635588, 1.9954757081652872, -17.872820126041454, 24.975441932417496, 4.9992861370025565, -42.89552609990408, -25.34081811858424, -13.062723317555381, -5.566834739773654, 8.425466585746733, 37.67572038469174, -42.81573775078803, 0.8280179305889845, 30.00143988791902, -41.82317839012507, 36.73289541624193, -39.89594040164123, 34.78704652362798, -16.7000179310429, 8.699351789488766, -15.800477189723281, 20.561019973115506, 47.06370023160058, -38.865044143823766, 4.94409195107707, -13.510505209297143, -19.497073236285566, -18.989073253081035, -31.905258238540025, 5.797396881525543], \"yaxis\": \"y\"}],\n",
       "                        {\"coloraxis\": {\"showscale\": false}, \"height\": 600, \"legend\": {\"tracegroupgap\": 0}, \"margin\": {\"t\": 60}, \"sliders\": [{\"active\": 0, \"currentvalue\": {\"prefix\": \"Day=\"}, \"len\": 0.9, \"pad\": {\"b\": 10, \"t\": 60}, \"steps\": [{\"args\": [[\"0\"], {\"frame\": {\"duration\": 0, \"redraw\": false}, \"fromcurrent\": true, \"mode\": \"immediate\", \"transition\": {\"duration\": 0, \"easing\": \"linear\"}}], \"label\": \"0\", \"method\": \"animate\"}, {\"args\": [[\"1\"], {\"frame\": {\"duration\": 0, \"redraw\": false}, \"fromcurrent\": true, \"mode\": \"immediate\", \"transition\": {\"duration\": 0, \"easing\": \"linear\"}}], \"label\": \"1\", \"method\": \"animate\"}, {\"args\": [[\"2\"], {\"frame\": {\"duration\": 0, \"redraw\": false}, \"fromcurrent\": true, \"mode\": \"immediate\", \"transition\": {\"duration\": 0, \"easing\": \"linear\"}}], \"label\": \"2\", \"method\": \"animate\"}, {\"args\": [[\"3\"], {\"frame\": {\"duration\": 0, \"redraw\": false}, \"fromcurrent\": true, \"mode\": \"immediate\", \"transition\": {\"duration\": 0, \"easing\": \"linear\"}}], \"label\": \"3\", \"method\": \"animate\"}, {\"args\": [[\"4\"], {\"frame\": {\"duration\": 0, \"redraw\": false}, \"fromcurrent\": true, \"mode\": \"immediate\", \"transition\": {\"duration\": 0, \"easing\": \"linear\"}}], \"label\": \"4\", \"method\": \"animate\"}, {\"args\": [[\"5\"], {\"frame\": {\"duration\": 0, \"redraw\": false}, \"fromcurrent\": true, \"mode\": \"immediate\", \"transition\": {\"duration\": 0, \"easing\": \"linear\"}}], \"label\": \"5\", \"method\": \"animate\"}, {\"args\": [[\"6\"], {\"frame\": {\"duration\": 0, \"redraw\": false}, \"fromcurrent\": true, \"mode\": \"immediate\", \"transition\": {\"duration\": 0, \"easing\": \"linear\"}}], \"label\": \"6\", \"method\": \"animate\"}, {\"args\": [[\"7\"], {\"frame\": {\"duration\": 0, \"redraw\": false}, \"fromcurrent\": true, \"mode\": \"immediate\", \"transition\": {\"duration\": 0, \"easing\": \"linear\"}}], \"label\": \"7\", \"method\": \"animate\"}, {\"args\": [[\"8\"], {\"frame\": {\"duration\": 0, \"redraw\": false}, \"fromcurrent\": true, \"mode\": \"immediate\", \"transition\": {\"duration\": 0, \"easing\": \"linear\"}}], \"label\": \"8\", \"method\": \"animate\"}, {\"args\": [[\"9\"], {\"frame\": {\"duration\": 0, \"redraw\": false}, \"fromcurrent\": true, \"mode\": \"immediate\", \"transition\": {\"duration\": 0, \"easing\": \"linear\"}}], \"label\": \"9\", \"method\": \"animate\"}, {\"args\": [[\"10\"], {\"frame\": {\"duration\": 0, \"redraw\": false}, \"fromcurrent\": true, \"mode\": \"immediate\", \"transition\": {\"duration\": 0, \"easing\": \"linear\"}}], \"label\": \"10\", \"method\": \"animate\"}, {\"args\": [[\"11\"], {\"frame\": {\"duration\": 0, \"redraw\": false}, \"fromcurrent\": true, \"mode\": \"immediate\", \"transition\": {\"duration\": 0, \"easing\": \"linear\"}}], \"label\": \"11\", \"method\": \"animate\"}, {\"args\": [[\"12\"], {\"frame\": {\"duration\": 0, \"redraw\": false}, \"fromcurrent\": true, \"mode\": \"immediate\", \"transition\": {\"duration\": 0, \"easing\": \"linear\"}}], \"label\": \"12\", \"method\": \"animate\"}, {\"args\": [[\"13\"], {\"frame\": {\"duration\": 0, \"redraw\": false}, \"fromcurrent\": true, \"mode\": \"immediate\", \"transition\": {\"duration\": 0, \"easing\": \"linear\"}}], \"label\": \"13\", \"method\": \"animate\"}, {\"args\": [[\"14\"], {\"frame\": {\"duration\": 0, \"redraw\": false}, \"fromcurrent\": true, \"mode\": \"immediate\", \"transition\": {\"duration\": 0, \"easing\": \"linear\"}}], \"label\": \"14\", \"method\": \"animate\"}, {\"args\": [[\"15\"], {\"frame\": {\"duration\": 0, \"redraw\": false}, \"fromcurrent\": true, \"mode\": \"immediate\", \"transition\": {\"duration\": 0, \"easing\": \"linear\"}}], \"label\": \"15\", \"method\": \"animate\"}], \"x\": 0.1, \"xanchor\": \"left\", \"y\": 0, \"yanchor\": \"top\"}], \"template\": {\"data\": {\"bar\": [{\"error_x\": {\"color\": \"#2a3f5f\"}, \"error_y\": {\"color\": \"#2a3f5f\"}, \"marker\": {\"line\": {\"color\": \"#E5ECF6\", \"width\": 0.5}}, \"type\": \"bar\"}], \"barpolar\": [{\"marker\": {\"line\": {\"color\": \"#E5ECF6\", \"width\": 0.5}}, \"type\": \"barpolar\"}], \"carpet\": [{\"aaxis\": {\"endlinecolor\": \"#2a3f5f\", \"gridcolor\": \"white\", \"linecolor\": \"white\", \"minorgridcolor\": \"white\", \"startlinecolor\": \"#2a3f5f\"}, \"baxis\": {\"endlinecolor\": \"#2a3f5f\", \"gridcolor\": \"white\", \"linecolor\": \"white\", \"minorgridcolor\": \"white\", \"startlinecolor\": \"#2a3f5f\"}, \"type\": \"carpet\"}], \"choropleth\": [{\"colorbar\": {\"outlinewidth\": 0, \"ticks\": \"\"}, \"type\": \"choropleth\"}], \"contour\": [{\"colorbar\": {\"outlinewidth\": 0, \"ticks\": \"\"}, \"colorscale\": [[0.0, \"#0d0887\"], [0.1111111111111111, \"#46039f\"], [0.2222222222222222, \"#7201a8\"], [0.3333333333333333, \"#9c179e\"], [0.4444444444444444, \"#bd3786\"], [0.5555555555555556, \"#d8576b\"], [0.6666666666666666, \"#ed7953\"], [0.7777777777777778, \"#fb9f3a\"], [0.8888888888888888, \"#fdca26\"], [1.0, \"#f0f921\"]], \"type\": \"contour\"}], \"contourcarpet\": [{\"colorbar\": {\"outlinewidth\": 0, \"ticks\": \"\"}, \"type\": \"contourcarpet\"}], \"heatmap\": [{\"colorbar\": {\"outlinewidth\": 0, \"ticks\": \"\"}, \"colorscale\": [[0.0, \"#0d0887\"], [0.1111111111111111, \"#46039f\"], [0.2222222222222222, \"#7201a8\"], [0.3333333333333333, \"#9c179e\"], [0.4444444444444444, \"#bd3786\"], [0.5555555555555556, \"#d8576b\"], [0.6666666666666666, \"#ed7953\"], [0.7777777777777778, \"#fb9f3a\"], [0.8888888888888888, \"#fdca26\"], [1.0, \"#f0f921\"]], \"type\": \"heatmap\"}], \"heatmapgl\": [{\"colorbar\": {\"outlinewidth\": 0, \"ticks\": \"\"}, \"colorscale\": [[0.0, \"#0d0887\"], [0.1111111111111111, \"#46039f\"], [0.2222222222222222, \"#7201a8\"], [0.3333333333333333, \"#9c179e\"], [0.4444444444444444, \"#bd3786\"], [0.5555555555555556, \"#d8576b\"], [0.6666666666666666, \"#ed7953\"], [0.7777777777777778, \"#fb9f3a\"], [0.8888888888888888, \"#fdca26\"], [1.0, \"#f0f921\"]], \"type\": \"heatmapgl\"}], \"histogram\": [{\"marker\": {\"colorbar\": {\"outlinewidth\": 0, \"ticks\": \"\"}}, \"type\": \"histogram\"}], \"histogram2d\": [{\"colorbar\": {\"outlinewidth\": 0, \"ticks\": \"\"}, \"colorscale\": [[0.0, \"#0d0887\"], [0.1111111111111111, \"#46039f\"], [0.2222222222222222, \"#7201a8\"], [0.3333333333333333, \"#9c179e\"], [0.4444444444444444, \"#bd3786\"], [0.5555555555555556, \"#d8576b\"], [0.6666666666666666, \"#ed7953\"], [0.7777777777777778, \"#fb9f3a\"], [0.8888888888888888, \"#fdca26\"], [1.0, \"#f0f921\"]], \"type\": \"histogram2d\"}], \"histogram2dcontour\": [{\"colorbar\": {\"outlinewidth\": 0, \"ticks\": \"\"}, \"colorscale\": [[0.0, \"#0d0887\"], [0.1111111111111111, \"#46039f\"], [0.2222222222222222, \"#7201a8\"], [0.3333333333333333, \"#9c179e\"], [0.4444444444444444, \"#bd3786\"], [0.5555555555555556, \"#d8576b\"], [0.6666666666666666, \"#ed7953\"], [0.7777777777777778, \"#fb9f3a\"], [0.8888888888888888, \"#fdca26\"], [1.0, \"#f0f921\"]], \"type\": \"histogram2dcontour\"}], \"mesh3d\": [{\"colorbar\": {\"outlinewidth\": 0, \"ticks\": \"\"}, \"type\": \"mesh3d\"}], \"parcoords\": [{\"line\": {\"colorbar\": {\"outlinewidth\": 0, \"ticks\": \"\"}}, \"type\": \"parcoords\"}], \"scatter\": [{\"marker\": {\"colorbar\": {\"outlinewidth\": 0, \"ticks\": \"\"}}, \"type\": \"scatter\"}], \"scatter3d\": [{\"line\": {\"colorbar\": {\"outlinewidth\": 0, \"ticks\": \"\"}}, \"marker\": {\"colorbar\": {\"outlinewidth\": 0, \"ticks\": \"\"}}, \"type\": \"scatter3d\"}], \"scattercarpet\": [{\"marker\": {\"colorbar\": {\"outlinewidth\": 0, \"ticks\": \"\"}}, \"type\": \"scattercarpet\"}], \"scattergeo\": [{\"marker\": {\"colorbar\": {\"outlinewidth\": 0, \"ticks\": \"\"}}, \"type\": \"scattergeo\"}], \"scattergl\": [{\"marker\": {\"colorbar\": {\"outlinewidth\": 0, \"ticks\": \"\"}}, \"type\": \"scattergl\"}], \"scattermapbox\": [{\"marker\": {\"colorbar\": {\"outlinewidth\": 0, \"ticks\": \"\"}}, \"type\": \"scattermapbox\"}], \"scatterpolar\": [{\"marker\": {\"colorbar\": {\"outlinewidth\": 0, \"ticks\": \"\"}}, \"type\": \"scatterpolar\"}], \"scatterpolargl\": [{\"marker\": {\"colorbar\": {\"outlinewidth\": 0, \"ticks\": \"\"}}, \"type\": \"scatterpolargl\"}], \"scatterternary\": [{\"marker\": {\"colorbar\": {\"outlinewidth\": 0, \"ticks\": \"\"}}, \"type\": \"scatterternary\"}], \"surface\": [{\"colorbar\": {\"outlinewidth\": 0, \"ticks\": \"\"}, \"colorscale\": [[0.0, \"#0d0887\"], [0.1111111111111111, \"#46039f\"], [0.2222222222222222, \"#7201a8\"], [0.3333333333333333, \"#9c179e\"], [0.4444444444444444, \"#bd3786\"], [0.5555555555555556, \"#d8576b\"], [0.6666666666666666, \"#ed7953\"], [0.7777777777777778, \"#fb9f3a\"], [0.8888888888888888, \"#fdca26\"], [1.0, \"#f0f921\"]], \"type\": \"surface\"}], \"table\": [{\"cells\": {\"fill\": {\"color\": \"#EBF0F8\"}, \"line\": {\"color\": \"white\"}}, \"header\": {\"fill\": {\"color\": \"#C8D4E3\"}, \"line\": {\"color\": \"white\"}}, \"type\": \"table\"}]}, \"layout\": {\"annotationdefaults\": {\"arrowcolor\": \"#2a3f5f\", \"arrowhead\": 0, \"arrowwidth\": 1}, \"colorscale\": {\"diverging\": [[0, \"#8e0152\"], [0.1, \"#c51b7d\"], [0.2, \"#de77ae\"], [0.3, \"#f1b6da\"], [0.4, \"#fde0ef\"], [0.5, \"#f7f7f7\"], [0.6, \"#e6f5d0\"], [0.7, \"#b8e186\"], [0.8, \"#7fbc41\"], [0.9, \"#4d9221\"], [1, \"#276419\"]], \"sequential\": [[0.0, \"#0d0887\"], [0.1111111111111111, \"#46039f\"], [0.2222222222222222, \"#7201a8\"], [0.3333333333333333, \"#9c179e\"], [0.4444444444444444, \"#bd3786\"], [0.5555555555555556, \"#d8576b\"], [0.6666666666666666, \"#ed7953\"], [0.7777777777777778, \"#fb9f3a\"], [0.8888888888888888, \"#fdca26\"], [1.0, \"#f0f921\"]], \"sequentialminus\": [[0.0, \"#0d0887\"], [0.1111111111111111, \"#46039f\"], [0.2222222222222222, \"#7201a8\"], [0.3333333333333333, \"#9c179e\"], [0.4444444444444444, \"#bd3786\"], [0.5555555555555556, \"#d8576b\"], [0.6666666666666666, \"#ed7953\"], [0.7777777777777778, \"#fb9f3a\"], [0.8888888888888888, \"#fdca26\"], [1.0, \"#f0f921\"]]}, \"colorway\": [\"#636efa\", \"#EF553B\", \"#00cc96\", \"#ab63fa\", \"#FFA15A\", \"#19d3f3\", \"#FF6692\", \"#B6E880\", \"#FF97FF\", \"#FECB52\"], \"font\": {\"color\": \"#2a3f5f\"}, \"geo\": {\"bgcolor\": \"white\", \"lakecolor\": \"white\", \"landcolor\": \"#E5ECF6\", \"showlakes\": true, \"showland\": true, \"subunitcolor\": \"white\"}, \"hoverlabel\": {\"align\": \"left\"}, \"hovermode\": \"closest\", \"mapbox\": {\"style\": \"light\"}, \"paper_bgcolor\": \"white\", \"plot_bgcolor\": \"#E5ECF6\", \"polar\": {\"angularaxis\": {\"gridcolor\": \"white\", \"linecolor\": \"white\", \"ticks\": \"\"}, \"bgcolor\": \"#E5ECF6\", \"radialaxis\": {\"gridcolor\": \"white\", \"linecolor\": \"white\", \"ticks\": \"\"}}, \"scene\": {\"xaxis\": {\"backgroundcolor\": \"#E5ECF6\", \"gridcolor\": \"white\", \"gridwidth\": 2, \"linecolor\": \"white\", \"showbackground\": true, \"ticks\": \"\", \"zerolinecolor\": \"white\"}, \"yaxis\": {\"backgroundcolor\": \"#E5ECF6\", \"gridcolor\": \"white\", \"gridwidth\": 2, \"linecolor\": \"white\", \"showbackground\": true, \"ticks\": \"\", \"zerolinecolor\": \"white\"}, \"zaxis\": {\"backgroundcolor\": \"#E5ECF6\", \"gridcolor\": \"white\", \"gridwidth\": 2, \"linecolor\": \"white\", \"showbackground\": true, \"ticks\": \"\", \"zerolinecolor\": \"white\"}}, \"shapedefaults\": {\"line\": {\"color\": \"#2a3f5f\"}}, \"ternary\": {\"aaxis\": {\"gridcolor\": \"white\", \"linecolor\": \"white\", \"ticks\": \"\"}, \"baxis\": {\"gridcolor\": \"white\", \"linecolor\": \"white\", \"ticks\": \"\"}, \"bgcolor\": \"#E5ECF6\", \"caxis\": {\"gridcolor\": \"white\", \"linecolor\": \"white\", \"ticks\": \"\"}}, \"title\": {\"x\": 0.05}, \"xaxis\": {\"automargin\": true, \"gridcolor\": \"white\", \"linecolor\": \"white\", \"ticks\": \"\", \"zerolinecolor\": \"white\", \"zerolinewidth\": 2}, \"yaxis\": {\"automargin\": true, \"gridcolor\": \"white\", \"linecolor\": \"white\", \"ticks\": \"\", \"zerolinecolor\": \"white\", \"zerolinewidth\": 2}}}, \"title\": {\"text\": \"SIR Model\"}, \"updatemenus\": [{\"buttons\": [{\"args\": [null, {\"frame\": {\"duration\": 500, \"redraw\": true}, \"fromcurrent\": true, \"mode\": \"immediate\", \"transition\": {\"duration\": 500, \"easing\": \"linear\"}}], \"label\": \"&#9654;\", \"method\": \"animate\"}, {\"args\": [[null], {\"frame\": {\"duration\": 0, \"redraw\": false}, \"fromcurrent\": true, \"mode\": \"immediate\", \"transition\": {\"duration\": 0, \"easing\": \"linear\"}}], \"label\": \"&#9724;\", \"method\": \"animate\"}], \"direction\": \"left\", \"pad\": {\"r\": 10, \"t\": 70}, \"showactive\": false, \"type\": \"buttons\", \"x\": 0.1, \"xanchor\": \"right\", \"y\": 0, \"yanchor\": \"top\"}], \"xaxis\": {\"anchor\": \"y\", \"domain\": [0.0, 0.98], \"range\": [-65, 65], \"title\": {\"text\": \"x\"}}, \"yaxis\": {\"anchor\": \"x\", \"domain\": [0.0, 1.0], \"range\": [-65, 65], \"title\": {\"text\": \"y\"}}},\n",
       "                        {\"responsive\": true}\n",
       "                    ).then(function(){\n",
       "                            Plotly.addFrames('9d7d5b3b-fb46-48aa-a65e-a7b6b64a47a3', [{\"data\": [{\"hoverlabel\": {\"namelength\": 0}, \"hovertemplate\": \"status=2<br>step=0<br>x=%{x}<br>y=%{y}\", \"legendgroup\": \"status=2\", \"marker\": {\"color\": \"#636efa\", \"symbol\": \"circle\"}, \"mode\": \"markers\", \"name\": \"status=2\", \"showlegend\": true, \"x\": [-2.680310742571571, 11.850359535521008, -25.190670703046802], \"xaxis\": \"x\", \"y\": [-28.343658511041546, 2.166686309338793, -17.835922180279795], \"yaxis\": \"y\", \"type\": \"scatter\"}, {\"hoverlabel\": {\"namelength\": 0}, \"hovertemplate\": \"status=1<br>step=0<br>x=%{x}<br>y=%{y}\", \"legendgroup\": \"status=1\", \"marker\": {\"color\": \"#EF553B\", \"symbol\": \"circle\"}, \"mode\": \"markers\", \"name\": \"status=1\", \"showlegend\": true, \"x\": [-48.40147294962102, 19.849295899693814, -38.0974817376684, -23.783913354572217, -15.851623466706542, 45.91660011039144, -8.636939490433846, 21.376387557490546, -21.85342750189656, 18.934736072175824, 8.093544010000272, 27.700136072850583, -22.090029878221205, 48.821441199150655, 46.41486534419738, 29.306533942039707, -17.73836722718893, 30.946354757035365, -1.6936835615581813, -18.370614940152596, 18.547278932419104, -45.16040822054153, -6.384030133914678, -41.82767947656559, 37.863980138536206, -38.19289958131188, 29.99159964635335, -23.00392454676663, 47.586829942388746, -39.74288773290826, -18.902965888004974, -48.63589274315929, 39.31605950662809, 16.78906246569673, -18.985119596666788, 42.25911723382772, 2.28815367447919, 12.599458283468756, -4.160245736164157, 29.82081230013104, -20.76392586118271, 38.01943983129334, -39.741098997878964, -8.968863466255797, -30.143399999684362, 38.87690216825442, 14.849975638718803, -49.484750249948405, 44.66800484150491, 15.750769757624383, -28.31589365414797, 42.12719045655902, 43.19011702680942, 37.65062385793291, -31.190499287287633, 42.75017799214906, -43.35287316439735], \"xaxis\": \"x\", \"y\": [-27.558263856618915, 42.54952396112202, -4.599226683617552, 5.642635203718484, -5.994538930917706, 12.28367643195164, -33.28676565360931, -25.1211038570741, -6.270153355176809, 37.37654665759702, -18.323786155601105, 25.43699014282575, 23.086488184599602, -23.09463361182319, -21.412760522157992, 37.23606176249528, 2.419677809683826, 7.5815127002671545, 13.010674556439817, 40.9123156844237, 36.357745323025384, -0.8570570807453919, -33.54208759506601, -15.163499486910858, 35.702311021301824, 12.196932234308413, -30.5952053165773, 40.22363346635588, 1.9954757081652872, -17.872820126041454, 24.975441932417496, 4.9992861370025565, -42.89552609990408, -25.34081811858424, -13.062723317555381, -5.566834739773654, 8.425466585746733, 37.67572038469174, -42.81573775078803, 0.8280179305889845, 30.00143988791902, -41.82317839012507, 36.73289541624193, -39.89594040164123, 34.78704652362798, -16.7000179310429, 8.699351789488766, -15.800477189723281, 20.561019973115506, 47.06370023160058, -38.865044143823766, 4.94409195107707, -13.510505209297143, -19.497073236285566, -18.989073253081035, -31.905258238540025, 5.797396881525543], \"yaxis\": \"y\", \"type\": \"scatter\"}], \"name\": \"0\"}, {\"data\": [{\"hoverlabel\": {\"namelength\": 0}, \"hovertemplate\": \"status=2<br>step=1<br>x=%{x}<br>y=%{y}\", \"legendgroup\": \"status=2\", \"marker\": {\"color\": \"#636efa\", \"symbol\": \"circle\"}, \"mode\": \"markers\", \"name\": \"status=2\", \"showlegend\": true, \"x\": [-2.680310742571571, 11.850359535521008, -25.190670703046802], \"xaxis\": \"x\", \"y\": [-28.343658511041546, 2.166686309338793, -17.835922180279795], \"yaxis\": \"y\", \"type\": \"scatter\"}, {\"hoverlabel\": {\"namelength\": 0}, \"hovertemplate\": \"status=1<br>step=1<br>x=%{x}<br>y=%{y}\", \"legendgroup\": \"status=1\", \"marker\": {\"color\": \"#EF553B\", \"symbol\": \"circle\"}, \"mode\": \"markers\", \"name\": \"status=1\", \"showlegend\": true, \"x\": [-48.40147294962102, 19.849295899693814, -38.0974817376684, -23.783913354572217, -15.851623466706542, 45.91660011039144, -8.636939490433846, 21.376387557490546, -21.85342750189656, 18.934736072175824, 8.093544010000272, 27.700136072850583, -22.090029878221205, 48.821441199150655, 46.41486534419738, 29.306533942039707, -17.73836722718893, 30.946354757035365, -1.6936835615581813, -18.370614940152596, 18.547278932419104, -45.16040822054153, -6.384030133914678, -41.82767947656559, 37.863980138536206, -38.19289958131188, 29.99159964635335, -23.00392454676663, 47.586829942388746, -39.74288773290826, -18.902965888004974, -48.63589274315929, 39.31605950662809, 16.78906246569673, -18.985119596666788, 42.25911723382772, 2.28815367447919, 12.599458283468756, -4.160245736164157, 29.82081230013104, -20.76392586118271, 38.01943983129334, -39.741098997878964, -8.968863466255797, -30.143399999684362, 38.87690216825442, 14.849975638718803, -49.484750249948405, 44.66800484150491, 15.750769757624383, -28.31589365414797, 42.12719045655902, 43.19011702680942, 37.65062385793291, -31.190499287287633, 42.75017799214906, -43.35287316439735], \"xaxis\": \"x\", \"y\": [-27.558263856618915, 42.54952396112202, -4.599226683617552, 5.642635203718484, -5.994538930917706, 12.28367643195164, -33.28676565360931, -25.1211038570741, -6.270153355176809, 37.37654665759702, -18.323786155601105, 25.43699014282575, 23.086488184599602, -23.09463361182319, -21.412760522157992, 37.23606176249528, 2.419677809683826, 7.5815127002671545, 13.010674556439817, 40.9123156844237, 36.357745323025384, -0.8570570807453919, -33.54208759506601, -15.163499486910858, 35.702311021301824, 12.196932234308413, -30.5952053165773, 40.22363346635588, 1.9954757081652872, -17.872820126041454, 24.975441932417496, 4.9992861370025565, -42.89552609990408, -25.34081811858424, -13.062723317555381, -5.566834739773654, 8.425466585746733, 37.67572038469174, -42.81573775078803, 0.8280179305889845, 30.00143988791902, -41.82317839012507, 36.73289541624193, -39.89594040164123, 34.78704652362798, -16.7000179310429, 8.699351789488766, -15.800477189723281, 20.561019973115506, 47.06370023160058, -38.865044143823766, 4.94409195107707, -13.510505209297143, -19.497073236285566, -18.989073253081035, -31.905258238540025, 5.797396881525543], \"yaxis\": \"y\", \"type\": \"scatter\"}], \"name\": \"1\"}, {\"data\": [{\"hoverlabel\": {\"namelength\": 0}, \"hovertemplate\": \"status=2<br>step=2<br>x=%{x}<br>y=%{y}\", \"legendgroup\": \"status=2\", \"marker\": {\"color\": \"#636efa\", \"symbol\": \"circle\"}, \"mode\": \"markers\", \"name\": \"status=2\", \"showlegend\": true, \"x\": [-2.8031643441896836, 8.4604739317956, -24.552601325249203, -4.490398071742904], \"xaxis\": \"x\", \"y\": [-27.689429021754304, -1.0953296940200365, -22.79178461234076, -32.17623342246925], \"yaxis\": \"y\", \"type\": \"scatter\"}, {\"hoverlabel\": {\"namelength\": 0}, \"hovertemplate\": \"status=1<br>step=2<br>x=%{x}<br>y=%{y}\", \"legendgroup\": \"status=1\", \"marker\": {\"color\": \"#EF553B\", \"symbol\": \"circle\"}, \"mode\": \"markers\", \"name\": \"status=1\", \"showlegend\": true, \"x\": [-47.171527192206625, 23.053989845853756, -37.731333028844304, -24.388323860392624, -11.992485529256697, 43.63329933275552, -5.227829060128354, 20.597519536149598, -25.334795181789477, 14.565942736414314, 12.207553174959733, 29.84009770785102, -22.189204737646406, 45.53137394994912, 41.4202532813425, 26.9729128034199, -15.175597592323765, 29.276547390608165, -3.352690491522423, -14.116644446641748, 13.719560729497651, -44.563335967050676, -42.28015811725767, 37.4210545309038, -42.504555009361695, 27.7299657754076, -21.536505685097683, 50.508711088273046, -40.3481211031895, -22.83645754849654, -53.22788863766863, 37.867105523668535, 15.561860299851258, -16.502037125217708, 46.70871128134686, 1.6927444779570262, 10.879037812462013, -3.0159030975340047, 29.35593980497458, -17.998546170770968, 34.8552285028048, -42.15571801654586, -9.02738080954592, -34.44398562260086, 38.826306168337396, 9.95575825160243, -48.04187687904003, 48.08156849143954, 13.025959896318977, -33.22965582663269, 40.15337580107298, 42.50070946941271, 37.72348562723189, -32.52676682327499, 44.21075024026287, -42.41387451596983], \"xaxis\": \"x\", \"y\": [-31.385946157161975, 43.742652203757764, -8.686042653854091, 5.735155748348143, -8.070434240145685, 11.90036646986245, -37.74974683994949, -22.829889908448088, -1.553921808862265, 39.57922195072606, -18.100427878760144, 23.96720150051907, 18.775432026234547, -20.575719569968875, -16.482581433543654, 33.14861506825082, 5.2061120435302515, 4.209134648446562, 11.294642451015033, 40.65541383612865, 34.00560740029032, -4.122054456214547, -15.584366128480795, 35.32433501373746, 15.352504074183136, -32.8862468426893, 43.45307159689694, -2.3158552525186504, -20.33144131396646, 23.33254939047195, 1.041257987489741, -43.878214951414165, -20.620342591302382, -16.870406955070997, -3.390586378739348, 8.232932382388825, 37.18654286930756, -43.54931264302176, -0.2239350019930928, 28.560776139789827, -40.00606361232245, 37.86218788410051, -36.03759014589029, 37.014364754430844, -13.319148021289653, 8.480320559069563, -16.485402844381092, 18.13213674579434, 48.34289065123678, -43.4298080057447, 5.733060704116006, -12.841448752556131, -21.121852529509386, -14.449059725410432, -31.52970842730649, 6.432307403410326], \"yaxis\": \"y\", \"type\": \"scatter\"}], \"name\": \"2\"}, {\"data\": [{\"hoverlabel\": {\"namelength\": 0}, \"hovertemplate\": \"status=2<br>step=3<br>x=%{x}<br>y=%{y}\", \"legendgroup\": \"status=2\", \"marker\": {\"color\": \"#636efa\", \"symbol\": \"circle\"}, \"mode\": \"markers\", \"name\": \"status=2\", \"showlegend\": true, \"x\": [-0.2474958477359115, 6.38364204834878, -24.35719274870985, -5.954667699634152, -3.5771850464379575], \"xaxis\": \"x\", \"y\": [-25.78141645686299, -2.3794208099673444, -26.084827689731075, -39.98135779350987, -35.86163117117463], \"yaxis\": \"y\", \"type\": \"scatter\"}, {\"hoverlabel\": {\"namelength\": 0}, \"hovertemplate\": \"status=1<br>step=3<br>x=%{x}<br>y=%{y}\", \"legendgroup\": \"status=1\", \"marker\": {\"color\": \"#EF553B\", \"symbol\": \"circle\"}, \"mode\": \"markers\", \"name\": \"status=1\", \"showlegend\": true, \"x\": [-49.54227117135001, 19.62295736378777, -34.13493941481916, -26.9769950949615, -14.70932410484669, 39.20221986978832, 19.605675333466813, -27.51394799099777, 19.38178213566223, 8.00447166368339, 28.832291449613493, -21.422084229315207, 46.266707234192424, 40.00404737637485, 28.026212115760565, -15.359067971559035, 31.20116848174488, -3.052253074215555, -15.65518201943791, 9.55154357364994, -40.34078566986281, -40.20902950909051, 34.60771783156119, -38.83045197093493, 23.450063437383527, -23.207010245656242, 47.46832274123564, -42.600770824573644, -21.99011277623986, -58.198251262351214, 36.608316086690905, 12.039799548853448, -21.046227334279067, 45.43061173717875, 3.730380853148656, 7.738134474866896, -5.317555013246815, 24.827944436449258, -17.703204192046897, 38.34302154274792, -45.70171078204965, -12.01482210449346, -38.939920926806025, 34.314396024967174, 9.367888505340588, -46.78112826951563, 49.3092619290366, 17.05950380670132, -37.06459943677682, 43.51512915722667, 42.21660071740335, 34.94609589503231, -28.81785043974646, 48.6933308720537, -39.03880110092513], \"xaxis\": \"x\", \"y\": [-29.139052240882386, 46.35014402689777, -5.5138706737800405, 2.236656422423982, -8.708158380813092, 10.995728469361076, -20.11904552297737, -6.549661539122625, 43.29712086619476, -22.80532376143454, 25.19365573020433, 23.718414955775998, -24.533442416892562, -15.67129697082039, 32.59240633558328, 6.466820902452793, 3.318414966326382, 11.057991406923472, 45.647614598977725, 33.62309197877842, -2.8265216121432157, -12.883076531873932, 33.70112582069096, 18.520358182996425, -31.100891003247526, 44.74444148712535, -0.40557159953545074, -18.92765058660014, 19.89251547162522, -0.14398613742900412, -39.92702479821669, -19.905318087032967, -18.622829946018534, -2.966708509630803, 10.943366373561332, 37.24847312687386, -45.862325595358875, 4.074249501135212, 26.802008883187845, -43.91091682443985, 42.11234137422436, -35.29483359606445, 38.49133224912815, -17.469216352933593, 11.493355207958365, -21.385691757260858, 19.136368452905515, 50.908494548250744, -41.66851555308217, 8.765589419149194, -11.586822978427422, -25.44958702757226, -10.842749599207922, -28.75470450708121, 5.375846952572189], \"yaxis\": \"y\", \"type\": \"scatter\"}], \"name\": \"3\"}, {\"data\": [{\"hoverlabel\": {\"namelength\": 0}, \"hovertemplate\": \"status=2<br>step=4<br>x=%{x}<br>y=%{y}\", \"legendgroup\": \"status=2\", \"marker\": {\"color\": \"#636efa\", \"symbol\": \"circle\"}, \"mode\": \"markers\", \"name\": \"status=2\", \"showlegend\": true, \"x\": [-2.2410888631093497, 6.7305094072742255, -20.32254962338793, -8.684363854390106, -6.1332229138843966, -25.34236442273422, -13.756606407431498], \"xaxis\": \"x\", \"y\": [-25.59759967878077, 0.6125004094594981, -23.196356843318956, -37.07943410204093, -32.73174058881834, -22.358975700021517, -36.12096081812159], \"yaxis\": \"y\", \"type\": \"scatter\"}, {\"hoverlabel\": {\"namelength\": 0}, \"hovertemplate\": \"status=1<br>step=4<br>x=%{x}<br>y=%{y}\", \"legendgroup\": \"status=1\", \"marker\": {\"color\": \"#EF553B\", \"symbol\": \"circle\"}, \"mode\": \"markers\", \"name\": \"status=1\", \"showlegend\": true, \"x\": [-54.12946717200551, 17.45367731467586, -37.69941220224299, -31.086702681014348, -10.049591432100431, 40.911523338525434, 18.189238661978585, -28.88164613962136, 16.158401377072458, 6.349746531023631, 32.309538666941755, -19.6944809717274, 49.112744016658766, 40.14862990059768, 31.22437307373049, -13.339461481602335, 29.46155664364248, -3.1808697625729287, -10.784309900050795, 8.86099545184721, -43.06802851531239, -36.4485476230881, 35.06183669734401, -36.150147572829056, 24.788229829805303, -23.101697524039388, 51.16751064859751, -39.57886030782322, -22.300676608285553, -62.70232409114331, 38.077621278633956, 7.708279195176622, 41.33136500130035, 1.050812092503648, 8.983366944274879, -6.915891917477672, 19.834101311075102, -21.240927381700587, 37.63864065511719, -45.54274692691697, -40.468968606088055, 30.006683448553694, 11.74474107116836, -50.38259759065046, 53.545453386055755, 15.361747096568928, -35.34050705356981, 42.8210350983024, 43.8774924129292, 37.57111832215844, -27.687253199487678, 52.748353047740764, -39.38033262533079], \"xaxis\": \"x\", \"y\": [-28.22791417374341, 47.55499029833758, -8.390548340363347, -0.21650597660385174, -3.8441187505108747, 15.079766113835307, -19.290066893551135, -3.3710647105841147, 43.17970272202706, -20.731601530416675, 26.04887646451865, 19.655598136053243, -22.20527722039783, -15.98514874214235, 32.70969486670532, 3.2692749732421693, 7.210523388036218, 14.215574182293592, 41.546326989440445, 38.46865213739133, -7.544886978662464, -12.68962331624191, 32.161439196735344, 23.343599558174937, -26.31010789694851, 40.16080943028423, 1.5599675395616313, -16.43568017025187, 18.075846961118486, -0.041199635525104306, -37.48446994707922, -24.470703960161075, -1.0039368138753932, 11.447116743343127, 41.94060883344939, -48.38176570450159, -0.49998706708907314, 30.403587260207832, -42.74996745900428, 44.61641171380163, 34.014921299753276, -13.463361590875754, 9.82454864302704, -24.416099353082544, 17.80808565140834, 52.66270314131572, -42.06054850756694, 7.076336747149846, -13.753723160677408, -28.99518025323978, -7.834158080649116, -24.17285681924666, 0.9392705851901302], \"yaxis\": \"y\", \"type\": \"scatter\"}], \"name\": \"4\"}, {\"data\": [{\"hoverlabel\": {\"namelength\": 0}, \"hovertemplate\": \"status=2<br>step=5<br>x=%{x}<br>y=%{y}\", \"legendgroup\": \"status=2\", \"marker\": {\"color\": \"#636efa\", \"symbol\": \"circle\"}, \"mode\": \"markers\", \"name\": \"status=2\", \"showlegend\": true, \"x\": [-0.12438405784104045, 7.142986432111875, -19.543721128581137, -8.751835732768383, -9.085071094270731, -24.0452675505519, -11.408470876173263, -15.714887436752662], \"xaxis\": \"x\", \"y\": [-27.738055678177354, -2.602425587423263, -24.185264379497102, -41.02441270762883, -29.71562012261846, -23.796253050307303, -45.0831065023618, -32.99552081217445], \"yaxis\": \"y\", \"type\": \"scatter\"}, {\"hoverlabel\": {\"namelength\": 0}, \"hovertemplate\": \"status=1<br>step=5<br>x=%{x}<br>y=%{y}\", \"legendgroup\": \"status=1\", \"marker\": {\"color\": \"#EF553B\", \"symbol\": \"circle\"}, \"mode\": \"markers\", \"name\": \"status=1\", \"showlegend\": true, \"x\": [-53.4164144640733, 13.630644535638217, -42.376739756901976, -26.51566804571135, -9.85988747332027, 39.37347948935547, 22.78025966358293, -30.749571268937107, 17.535510997691176, 2.8765945343024724, 34.916716907784426, -17.899364635935306, 49.23441534507992, 41.353476693172986, 26.728784186878897, -13.282275741732409, 25.251021276406444, -3.638137860753244, -11.06540472690605, 6.786715859626849, -39.200320535146155, -36.263495521535575, 36.01370088306596, -36.47633887104126, 20.620956120314034, -21.99318392142185, 51.553689890372894, -42.12516031149694, -21.273437639989115, -65.41343157958126, 40.87826959096361, 6.487951580500083, 39.67658005458838, -3.2673198590596995, 6.001151015029205, 18.979325515135127, -21.265462630873166, 38.408823601728564, -46.057047821075415, -43.29233496301713, 28.6189802796685, 7.261369098969596, -45.8306775617778, 56.32775069778883, 14.362111406140535, -30.92431935437648, 45.94695159853976, 46.10283929892992, 36.52045910933071, -32.01985348321105, 55.67558017312371, -37.76858441153688], \"xaxis\": \"x\", \"y\": [-31.09815293633617, 46.442280138966424, -10.248905756667998, 4.477634408678677, -5.738718236203353, 13.571260006001552, -21.969072810896254, -0.9810085779461595, 39.56463207305741, -17.999086806740156, 30.256904711747726, 22.178205988797217, -24.996952234733612, -17.378737000587723, 34.96919711659034, -0.6069172253904971, 8.060804364306165, 17.702354876206677, 45.47781698377189, 33.693328703218135, -11.240104184533289, -16.64143105166389, 36.07770458428109, 21.544105636225947, -24.41371287648925, 37.43708219049746, 0.44962004654280063, -13.95967685909163, 15.413727580581835, 0.3119264355389424, -34.79921604300895, -24.16460517110194, -4.236819883345804, 10.2777635995872, 44.32147421113115, -2.7848815986369457, 34.05186097473149, -45.61478889263776, 48.577778316902574, 37.03423788555801, -14.92127610776531, 8.917920808843409, -19.47643414041127, 17.681642578043455, 54.59352523733613, -41.46067500320762, 4.635617231058653, -15.385882045326191, -29.464989084875967, -4.573375240853297, -22.19482284654638, 3.8602640726640702], \"yaxis\": \"y\", \"type\": \"scatter\"}], \"name\": \"5\"}, {\"data\": [{\"hoverlabel\": {\"namelength\": 0}, \"hovertemplate\": \"status=2<br>step=6<br>x=%{x}<br>y=%{y}\", \"legendgroup\": \"status=2\", \"marker\": {\"color\": \"#636efa\", \"symbol\": \"circle\"}, \"mode\": \"markers\", \"name\": \"status=2\", \"showlegend\": true, \"x\": [1.2266864419332473, 9.994520979241504, -21.966053495927707, -8.743762399434896, -4.173251685485374, -27.481033054687146, -12.602846970724054, -20.134530209442396], \"xaxis\": \"x\", \"y\": [-27.546161594984053, -5.496901711906356, -22.21672345582664, -36.09011104890514, -33.12344502378467, -24.190433874372612, -42.2153737502141, -33.843774238277184], \"yaxis\": \"y\", \"type\": \"scatter\"}, {\"hoverlabel\": {\"namelength\": 0}, \"hovertemplate\": \"status=1<br>step=6<br>x=%{x}<br>y=%{y}\", \"legendgroup\": \"status=1\", \"marker\": {\"color\": \"#EF553B\", \"symbol\": \"circle\"}, \"mode\": \"markers\", \"name\": \"status=1\", \"showlegend\": true, \"x\": [-54.07927089346171, 13.300921932833752, -45.45631173868133, -26.536247040804493, -14.578252736254766, 42.02864160528417, 23.31050337918474, -34.85102566727115, 21.64234945518841, 3.4309377670430043, 35.76184324420859, -13.712258492281126, 46.57321795455665, 43.195177995974426, 28.545698643363856, -9.923417424521707, 20.885912645773917, -4.8604479847644475, -14.81099718948579, 7.651900412142358, -36.7110987756656, -35.73170491159026, 31.983669564781724, -34.5604473270128, 16.591437813562514, -25.907879182766223, 51.594213001265366, -41.85827234876827, -19.089889104826508, -61.20522827480288, 43.90578067884634, 9.646846914696468, 36.791590052703775, -3.232604444766441, 3.50813196832667, 18.246146170923836, -20.10340122922214, 40.90739417912275, -50.12127792211256, -41.86920880362744, 33.07672943672564, 3.2146227122089703, -49.33562000597554, 60.53987761853323, 13.824607863231414, -35.611664847973444, 45.36192734839153, 50.264458965687616, 38.62945108315923, -27.441195886408643, 57.90976613405719, -36.876616478215915], \"xaxis\": \"x\", \"y\": [-30.92591415836764, 42.095610300666856, -14.593565621404151, 4.023202591009563, -7.52433769346398, 8.626503714419387, -18.214674272643606, 3.6430497359534826, 41.02691453322707, -20.715419268938543, 27.15987077162706, 23.402923686239507, -23.57057003799143, -21.29756526353293, 31.87099594117412, -1.2022676990045094, 7.720775044726865, 21.72364663974408, 48.09372421451499, 33.51153892823844, -14.075761873210528, -17.519611034631822, 31.81765754334754, 22.482145549915582, -23.928350507400822, 37.433316619549856, 0.9455038922100556, -13.307675100656182, 14.708361276320069, -3.2830043917440968, -38.385452729773206, -26.395644044721095, -2.3747393682087647, 6.140098328704735, 47.27321203890331, 0.715066724622214, 33.90257320055374, -41.545717929608685, 47.337146146438315, 36.04295002309675, -13.483980974484314, 11.234103419436224, -16.432913015341107, 15.469121217432058, 57.453026705201694, -41.27546112704685, 5.0729672001311075, -10.525532309455466, -25.823489153221395, -9.51478987150319, -20.099348836023324, 0.7342605426495374], \"yaxis\": \"y\", \"type\": \"scatter\"}], \"name\": \"6\"}, {\"data\": [{\"hoverlabel\": {\"namelength\": 0}, \"hovertemplate\": \"status=2<br>step=7<br>x=%{x}<br>y=%{y}\", \"legendgroup\": \"status=2\", \"marker\": {\"color\": \"#636efa\", \"symbol\": \"circle\"}, \"mode\": \"markers\", \"name\": \"status=2\", \"showlegend\": true, \"x\": [1.9573317794834564, 10.309409169373087, -17.15951636041866, -8.476053611596337, -5.204397479941884, -32.06891601578842, -30.427895922408407, -9.087864108155216, 14.69696536066567, -18.792977627060306], \"xaxis\": \"x\", \"y\": [-31.76526905680328, -4.555542023430047, -26.043622650084984, -33.88326703208589, -32.87852129077186, -22.45407866053281, -25.728340665135462, -44.36877114840908, -0.47227014887775365, -29.595712318188447], \"yaxis\": \"y\", \"type\": \"scatter\"}, {\"hoverlabel\": {\"namelength\": 0}, \"hovertemplate\": \"status=1<br>step=7<br>x=%{x}<br>y=%{y}\", \"legendgroup\": \"status=1\", \"marker\": {\"color\": \"#EF553B\", \"symbol\": \"circle\"}, \"mode\": \"markers\", \"name\": \"status=1\", \"showlegend\": true, \"x\": [-49.6509144474824, 14.750451410315735, -44.29118671946217, -24.1409260453859, -18.27921600597321, 45.19550097891016, 19.673619650865287, -32.94631421198101, 23.182792207022935, 1.6805081278273706, 31.98585395012103, -15.551258288873477, 43.347710676405356, 40.08771635124034, 27.613615317364143, -12.906967274095782, 22.110975058005394, -6.9769413028297045, -11.71831213642468, 10.914030434709986, -33.39703922970291, 29.00934565513996, -30.17602208377931, 15.480632016486435, -24.432319944991725, 51.35539308620794, -40.30784243173592, -18.325328645785547, -60.78648436055095, 40.39808268684009, 4.771958457788122, 32.76756997007214, -7.194219610077056, 7.848474731362725, -16.65739170824986, 44.47057818214223, -51.60301294160686, -41.75897421243024, 35.93807060629913, 2.0496387111764687, -48.82857992467229, 63.58121260102276, 10.879444660408735, -30.70240580715263, 49.68909723837666, 50.35817484252803, 39.741908227310226, -24.993109189438695, 61.76942382484508, -33.25477012612606], \"xaxis\": \"x\", \"y\": [-33.17138140220218, 40.51569850419856, -16.35186755131952, 6.812098459142032, -4.270803843364849, 3.7764918050563483, -21.30537118140686, 5.750478927022241, 43.38764706862501, -19.831630725964487, 26.531560693504645, 25.44127777966046, -22.684402431307763, -24.68411526294429, 29.99681674864053, -4.819450763871315, 6.699362185717556, 22.226613093761177, 44.326120538312146, 31.70199157935915, -12.395566092706272, 33.213285421405075, 23.31230672114271, -21.922972898650247, 38.632131712025995, -1.5236438120310147, -10.591136248623737, 18.263421753076464, -3.725446442794559, -37.008471305340464, -26.09398110825905, -0.7056119362467461, 1.1959611947392075, 50.65519659751961, 37.676054934673516, -41.690153020211824, 51.52406294223462, 31.793434679240196, -8.708027925957197, 14.797087356265287, -20.14338206414361, 16.970171774459416, 57.122437547805596, -43.928171906554326, 8.645154817660881, -14.297293284807001, -21.224452451591343, -10.277262942853188, -22.948175274665356, -2.049067529685816], \"yaxis\": \"y\", \"type\": \"scatter\"}], \"name\": \"7\"}, {\"data\": [{\"hoverlabel\": {\"namelength\": 0}, \"hovertemplate\": \"status=2<br>step=8<br>x=%{x}<br>y=%{y}\", \"legendgroup\": \"status=2\", \"marker\": {\"color\": \"#636efa\", \"symbol\": \"circle\"}, \"mode\": \"markers\", \"name\": \"status=2\", \"showlegend\": true, \"x\": [0.9140961459260533, 6.5169107949100695, -12.330202534161247, -8.46882807715771, -4.530472191790093, -32.46384076440606, -26.73092636644488, -9.587658322241387, 13.873557710584146, -18.228146241144458], \"xaxis\": \"x\", \"y\": [-34.22345473110884, -4.649094591945942, -21.858591462104357, -32.30230739014491, -35.15354174892942, -20.11705752313764, -28.29639985430238, -42.21335510160309, -3.9641999620448196, -26.97598001617616], \"yaxis\": \"y\", \"type\": \"scatter\"}, {\"hoverlabel\": {\"namelength\": 0}, \"hovertemplate\": \"status=1<br>step=8<br>x=%{x}<br>y=%{y}\", \"legendgroup\": \"status=1\", \"marker\": {\"color\": \"#EF553B\", \"symbol\": \"circle\"}, \"mode\": \"markers\", \"name\": \"status=1\", \"showlegend\": true, \"x\": [-47.82889507316867, 17.333991041044378, -45.58074883451873, -25.044332305838708, -20.971447226730568, 46.75642559931524, 24.425572552221148, -32.28500306934846, 23.57159429382502, 0.04439957409180462, 35.204550078517315, -18.518887689868276, 43.587605870307335, 38.15855677883154, 29.860237189734157, -17.179438539724988, 23.218463472652214, -4.681061793790645, -13.294266963453417, 14.33341229679933, -29.73944253866275, 28.10544569376247, -34.29487416959683, 15.756700879753742, -19.5481339400408, 54.320758572859866, -37.32819930801555, -21.374751868402125, -59.39491682613401, 41.4035578338565, 4.515189720602656, 29.356541504299926, -7.881446843545526, 3.2972630175476634, -18.32239460474268, 40.55764871560907, -55.836848797335826, -45.709409681373025, 34.06211738924881, 1.4626360872249347, -46.80063186440982, 68.1752352831663, 8.362688641537593, -35.31893401969255, 53.48803388340366, 47.354971105074085, 39.528399071500345, -20.58947968013956, 58.65902401302293, -33.13586771403222], \"xaxis\": \"x\", \"y\": [-35.888605246943385, 39.89840723166737, -13.934539294802203, 9.288625189687046, -4.7440590632381525, 8.658671212155006, -20.01867605937209, 8.256378641599731, 42.46439553186425, -15.648862100744864, 28.2347439374829, 26.454502709404057, -20.693637282305595, -20.845615082646493, 30.92973689495129, -9.325152224934117, 2.891788944783599, 24.863178890066838, 47.447550559444, 27.32596779519979, -10.826830849743326, 36.42370247866266, 25.585677553533685, -24.85269309674844, 36.98593011275009, -3.033808582332264, -9.569494393655564, 20.944548860432704, 0.5999979595074976, -34.674301435157176, -26.148236537190545, -3.4529117326682623, 1.9974232248558055, 49.00344340350493, 42.632076153712, -39.589147701755465, 55.358537183909434, 34.496179936933636, -10.78002397071774, 14.306217505088775, -23.29368484384518, 16.353973991048505, 59.29638287333376, -45.742380677089415, 4.287258779767089, -10.357491009032731, -25.373007161550547, -9.110284591122717, -18.126875814454266, -4.923344818762686], \"yaxis\": \"y\", \"type\": \"scatter\"}], \"name\": \"8\"}, {\"data\": [{\"hoverlabel\": {\"namelength\": 0}, \"hovertemplate\": \"status=2<br>step=9<br>x=%{x}<br>y=%{y}\", \"legendgroup\": \"status=2\", \"marker\": {\"color\": \"#636efa\", \"symbol\": \"circle\"}, \"mode\": \"markers\", \"name\": \"status=2\", \"showlegend\": true, \"x\": [2.079777059097382, 8.49258660214537, -7.476002199356843, -5.2423577687776355, -3.8535464711856813, -27.275115895934256, -5.589605680236608, -32.18908479926131, -0.09363275821376615, -26.992004829499347, -4.588147932085752, 11.611079980969686, -22.307579997256877], \"xaxis\": \"x\", \"y\": [-31.81048942186058, -6.660165368043305, -19.585636340719066, -29.866374829591713, -16.298443126121487, -15.53990343604888, -38.678128181063386, -15.416208267064848, -27.877610395827258, -28.093798406179587, -46.825049671818164, -8.830306795282198, -30.16293888540042], \"yaxis\": \"y\", \"type\": \"scatter\"}, {\"hoverlabel\": {\"namelength\": 0}, \"hovertemplate\": \"status=1<br>step=9<br>x=%{x}<br>y=%{y}\", \"legendgroup\": \"status=1\", \"marker\": {\"color\": \"#EF553B\", \"symbol\": \"circle\"}, \"mode\": \"markers\", \"name\": \"status=1\", \"showlegend\": true, \"x\": [-44.15159899013099, 12.353137520843957, -49.6157554752146, -20.062513149511446, -20.64002049828132, 43.847189853660566, 22.53290072429652, -28.898290142289138, 24.92399778692733, 33.7222341177027, -19.32621899999309, 45.64917182034435, 38.93437378786232, 29.915682797211723, -14.937069175906654, 28.109127371355385, 0.10419418230581279, -9.009460712467193, 17.83457451530753, 29.434900141965564, -36.52273504045743, 15.889774789933359, -14.742825591714293, 53.82941928465947, -41.71605495283215, -16.441149948872244, -63.869426006158164, 41.854123839843, 25.30877259946768, -6.675319066730592, 3.943712800521506, -23.1567215701807, 43.133623825194, -56.33958913177053, -43.22389400830191, 35.27310917523837, 1.0347382095661146, -47.40178328794118, 64.79696864926233, 11.588144339175644, -33.682406375542755, 54.357394912727656, 42.78818235978401, 44.48571920596241, -24.490122171210878, 62.39225697264623, -29.095680529033352], \"xaxis\": \"x\", \"y\": [-35.58007412797561, 40.790708077953745, -17.029917034821846, 5.63831707930456, -6.9202467590867, 4.836496563384474, -24.124661648922753, 10.189927876957945, 39.181906950623734, 24.946992339125877, 23.7113105569825, -25.078616688858133, -21.837837180197823, 28.6554999368981, -5.203368587318394, -1.8257302064912926, 28.284754083090704, 49.69336057810512, 26.13456737611209, 40.217854965064056, 29.329451403626365, -23.194914673477246, 36.54915373111042, -1.287634224667399, -14.166494771849404, 25.456285268506214, 5.01590834579167, -30.88277782735934, 0.5232613960308434, 2.3625179438593493, 46.87130648044929, 46.47495945422493, -36.65905814203599, 52.418750646764636, 32.223853648387895, -7.463039090356396, 13.424969080134272, -25.733053866409083, 12.768121031421249, 54.99787407131628, -49.79832096049043, 4.096888943542306, -6.245972636350283, -28.491605002886445, -10.645490552008166, -20.07492306261327, 0.07473770388308232], \"yaxis\": \"y\", \"type\": \"scatter\"}], \"name\": \"9\"}, {\"data\": [{\"hoverlabel\": {\"namelength\": 0}, \"hovertemplate\": \"status=2<br>step=10<br>x=%{x}<br>y=%{y}\", \"legendgroup\": \"status=2\", \"marker\": {\"color\": \"#636efa\", \"symbol\": \"circle\"}, \"mode\": \"markers\", \"name\": \"status=2\", \"showlegend\": true, \"x\": [0.20826174727763958, 8.022881652747715, -3.448011798123513, -23.832904789271012, -8.713434293911284, -2.26415320475018, -23.157893807321507, -3.2752513134059384, -28.82580588293804, -5.0083833107745175, -29.710923462996206, -1.5758767386056416, 9.295080537639706, -26.796254829723722, -26.01975690103314], \"xaxis\": \"x\", \"y\": [-35.51276011144132, -1.8901209159236725, -20.527050586029173, -11.65316259045056, -26.09341407309181, -15.135645779320784, -16.28992288670692, -37.91243355929057, -11.55070081393069, -26.30628520353294, -30.360165103031996, -46.6714135482225, -7.280890603955822, -32.48172316825215, -7.803426443655029], \"yaxis\": \"y\", \"type\": \"scatter\"}, {\"hoverlabel\": {\"namelength\": 0}, \"hovertemplate\": \"status=1<br>step=10<br>x=%{x}<br>y=%{y}\", \"legendgroup\": \"status=1\", \"marker\": {\"color\": \"#EF553B\", \"symbol\": \"circle\"}, \"mode\": \"markers\", \"name\": \"status=1\", \"showlegend\": true, \"x\": [-43.41569767678614, 12.607285736929725, -47.64143767323707, -18.683196326415704, 40.94524379231493, 27.49088039992218, -32.56094378581936, 28.709652464115944, 36.589040496199274, -23.582390737714114, 46.91561365925192, 38.33734369690782, 30.657925915759225, -18.0961444062809, 29.40070107973588, -1.6749898950624607, -5.050666670829671, 20.623567559790228, 27.533956748075944, -36.01147407459762, 14.024394252068543, -10.544842493289702, 56.717601822179006, -41.7870747116768, -13.47954689870801, -64.65971626475113, 41.86470211567568, 25.261555576712716, -9.49320372262418, 5.5674502541518205, -18.351016340783733, 47.93260310042797, -59.39086636661725, -44.74211425566013, 30.685329246866743, -2.874618041945132, -48.21990326175625, 65.1682357719469, 6.9825437849908445, -33.2432323056891, 56.801480042064256, 42.64493307795352, 42.80407392150559, 65.95085919936449, -28.15465693901988], \"xaxis\": \"x\", \"y\": [-33.08231389380401, 43.759034624437035, -20.75617845501764, 7.767495475961434, 1.0785222340694345, -19.91111606979949, 11.460765988178146, 40.57510797961437, 28.992794715896245, 26.01774369994776, -23.095461368690124, -17.46375029806399, 32.047518452972, -8.795877138202808, 0.4396130859702376, 30.62266086397383, 54.53463405727709, 25.623131901827783, 44.74945996477947, 30.775129359684485, -18.580286288908976, 40.79877836774355, -1.9894954477004871, -10.4633380787733, 27.346609508390635, 4.201259882860195, -29.51114438444379, 0.46373442906219164, 5.722454062627899, 49.07190325070303, 45.18679268622808, -41.016333339796546, 49.35708263010561, 27.484359815778816, -11.130715175378016, 18.18158625348354, -29.316339470370917, 11.869495800010807, 57.97610635463665, -54.09024741859936, 8.16190704829738, -10.009383421274972, -33.457378704198355, -15.17422776636189, -0.26246408745330196], \"yaxis\": \"y\", \"type\": \"scatter\"}], \"name\": \"10\"}, {\"data\": [{\"hoverlabel\": {\"namelength\": 0}, \"hovertemplate\": \"status=2<br>step=11<br>x=%{x}<br>y=%{y}\", \"legendgroup\": \"status=2\", \"marker\": {\"color\": \"#636efa\", \"symbol\": \"circle\"}, \"mode\": \"markers\", \"name\": \"status=2\", \"showlegend\": true, \"x\": [-3.9265671668688578, 12.0127785463941, -8.150882808455615, -25.623209887361604, -6.469923252183745, -3.976126206272969, -18.36601633399531, -21.615405618087586, -6.838852390854248, -33.70403646498837, 14.3180120614883, -9.282229442029736, -32.146471256127825, -4.316601947197832, 13.890459084031816, -26.502818717699405, -26.97662458222903, -26.94114826865092], \"xaxis\": \"x\", \"y\": [-36.3540986563864, 1.592074559484887, -20.416857803869064, -11.37462637399021, -24.00325715339641, -20.039838623289597, -13.79546693693305, -18.511639632719582, -39.005764026978376, -6.711890736358097, -17.74544017160734, -27.001469667200634, -30.77597117444089, -46.0679646796713, -11.837030290377836, -29.804892218405683, -6.463077333780738, -0.8784060319357199], \"yaxis\": \"y\", \"type\": \"scatter\"}, {\"hoverlabel\": {\"namelength\": 0}, \"hovertemplate\": \"status=1<br>step=11<br>x=%{x}<br>y=%{y}\", \"legendgroup\": \"status=1\", \"marker\": {\"color\": \"#EF553B\", \"symbol\": \"circle\"}, \"mode\": \"markers\", \"name\": \"status=1\", \"showlegend\": true, \"x\": [-47.7660736265181, 7.992827455544145, -45.33226703042754, -17.68591388491214, 36.26194935429546, 31.546260162955896, -29.809873838203487, 27.409781653014647, 36.34112362753271, -23.279232969254, 42.953429434962985, 36.8185472260954, 35.01829532875254, 32.8542833788693, -5.042810752254554, -3.877321903837621, 20.79890697677202, 23.912797906808812, -33.13096050581795, -7.367846300567955, 57.75580431518428, -44.46215478249928, -12.646059491331435, -64.68939487146474, 43.9017795535317, 29.58036841684196, -6.465733415743204, 0.695148372844016, -21.861290670305472, 50.26403882008483, -58.85288992147182, -44.76934380954141, 26.176939657621315, 1.1204760797777809, -49.764642445377966, 62.928172511924885, 4.623422549874618, -28.6898398885726, 57.312571324578926, 44.35461174358773, 38.089241141824516, 64.41725694920707], \"xaxis\": \"x\", \"y\": [-34.29979288473097, 39.10580546328561, -22.02239345016854, 6.024663449937499, 5.382408809329987, -21.01095550258618, 15.53239281891425, 44.69114702580828, 31.168140303390373, 28.833499560977145, -23.46575583987998, -18.645853261407495, 36.332746742106835, 1.8627138786263453, 29.600371789064553, 58.612518543175995, 27.43138958701124, 44.20617324818023, 31.793049554363215, 36.87251787834567, 0.002874767918151555, -8.006144547643043, 28.405923472111667, 2.320162913689628, -28.730073181539897, -3.2598757809182364, 7.052317161824069, 48.86086737635289, 47.026733682339085, -45.48918455955147, 49.79466940459625, 24.402544634605384, -10.790259941416789, 19.253737916640773, -29.406264202846234, 13.346029246963491, 54.122581306980756, -51.01345862931207, 9.973008619248704, -6.67686053504155, -33.68809924155822, -19.80961827899599], \"yaxis\": \"y\", \"type\": \"scatter\"}], \"name\": \"11\"}, {\"data\": [{\"hoverlabel\": {\"namelength\": 0}, \"hovertemplate\": \"status=2<br>step=12<br>x=%{x}<br>y=%{y}\", \"legendgroup\": \"status=2\", \"marker\": {\"color\": \"#636efa\", \"symbol\": \"circle\"}, \"mode\": \"markers\", \"name\": \"status=2\", \"showlegend\": true, \"x\": [-6.238300918238343, 13.220770941149102, -3.3866719913560495, -25.654567599977504, -8.143235784083988, -0.33584293858781145, -17.942097454280606, -19.584318963243536, -5.657660657708224, -30.25005600469941, 9.79595228709884, -11.650331890850126, -29.657996701681036, -1.1379659088878178, 11.556022499548973, -23.598753258498427, -23.17548339839253, -29.6594774460859], \"xaxis\": \"x\", \"y\": [-40.48629336890834, 2.936886327206974, -19.958225889344714, -7.106956630513695, -25.82666763276931, -22.77667505651913, -13.371275218563504, -18.420925748077927, -36.496571440674956, -11.570736232057284, -17.631376787942372, -27.959429052232252, -27.51261000781911, -41.2462643912549, -8.911087873095985, -27.746656467672498, -9.610708633603624, 3.2700049530931423], \"yaxis\": \"y\", \"type\": \"scatter\"}, {\"hoverlabel\": {\"namelength\": 0}, \"hovertemplate\": \"status=1<br>step=12<br>x=%{x}<br>y=%{y}\", \"legendgroup\": \"status=1\", \"marker\": {\"color\": \"#EF553B\", \"symbol\": \"circle\"}, \"mode\": \"markers\", \"name\": \"status=1\", \"showlegend\": true, \"x\": [-51.969976297895535, 5.6785035759597315, -45.29965001479382, -16.071402545914086, 39.35687294207693, 34.13682701579182, -27.727365132829426, 28.12224521316298, 40.84847258178713, -24.703616770661785, 43.95117958569451, 37.45738325259407, 30.50089108062054, 30.699757120928403, -4.331934503011963, -3.3917949159290917, 16.416960401346994, 19.44984527295184, -33.17451175935909, -7.760166639911736, 52.79248029026914, -41.35832944596601, -15.76315533293062, -61.9286531579099, 48.07032291133685, 32.59768924749386, -5.030569955109119, 3.145835043889007, -19.277890717201636, 49.33616145939721, -57.805696445866076, -43.717884097018484, 29.489779682239533, 4.941330016569543, -50.02684340319453, 63.257211823232815, 9.58177354404882, -27.983156457606178, 58.083946144234716, 47.38699108701287, 42.463483796047825, 59.76087836046102], \"xaxis\": \"x\", \"y\": [-36.6703613239114, 37.87035494314911, -20.966220495601803, 3.165699265346164, 1.1859684592166195, -20.18999437137495, 14.753862439403921, 45.208473452969365, 35.95438250872603, 25.13795268342418, -20.81341460897558, -21.51340896377141, 38.2527398218011, -3.0999443463041154, 33.02086689251539, 58.93457016695915, 29.70016609484385, 41.221197637959044, 30.92343239042578, 41.45242870447859, -1.9954891268317279, -10.40943414932786, 24.140019745521577, 4.654798414113167, -29.50141782038002, 0.6024043938078538, 10.519676935544384, 44.045497729071144, 51.09720542435292, -49.701812476905815, 49.917245564246485, 24.600264265147352, -15.75129634341817, 23.681124310973075, -30.888717416191888, 9.555012862587308, 49.18955387340246, -55.08045511457665, 12.016046246192108, -3.7434561231632912, -38.529798739378776, -16.66254206907061], \"yaxis\": \"y\", \"type\": \"scatter\"}], \"name\": \"12\"}, {\"data\": [{\"hoverlabel\": {\"namelength\": 0}, \"hovertemplate\": \"status=2<br>step=13<br>x=%{x}<br>y=%{y}\", \"legendgroup\": \"status=2\", \"marker\": {\"color\": \"#636efa\", \"symbol\": \"circle\"}, \"mode\": \"markers\", \"name\": \"status=2\", \"showlegend\": true, \"x\": [-7.058499628085932, 11.533389444806733, -0.6804812601200023, -21.017712152649395, -8.30010831308336, 3.9984471621275226, -19.305279081730173, -22.894053602350233, -3.1378808144688595, -34.972561814007776, 7.352962384774194, -7.428635090384775, -27.32931149866691, -3.04039006659798, 15.826196319837884, -26.541201068424343, -19.132603383443602, -26.59690162966613], \"xaxis\": \"x\", \"y\": [-42.475368168406, 4.719812090284989, -17.02990573565654, -3.0406529003178626, -23.57161867472865, -19.863631070565077, -18.112076557200417, -16.8917925608025, -38.55917932967851, -10.868328481532812, -15.096585562187567, -30.54231949227501, -24.10324701346392, -45.81421907996722, -13.162543076774263, -27.393097996086595, -5.922441978288013, 2.5069400035351466], \"yaxis\": \"y\", \"type\": \"scatter\"}, {\"hoverlabel\": {\"namelength\": 0}, \"hovertemplate\": \"status=1<br>step=13<br>x=%{x}<br>y=%{y}\", \"legendgroup\": \"status=1\", \"marker\": {\"color\": \"#EF553B\", \"symbol\": \"circle\"}, \"mode\": \"markers\", \"name\": \"status=1\", \"showlegend\": true, \"x\": [-52.48819345999923, 6.59951610520642, -44.5294419313595, -19.026200448088424, 37.581488505680404, 37.858583423247055, -29.24524772515143, 28.45040844417539, 37.1645458636941, -24.651330716840427, 46.03370491082593, 41.96720459297049, 32.93140824742412, 29.809879115429233, -3.8648305646316308, -2.8585952160016523, 12.479655855171504, 24.304630252149245, -37.5944417206415, -3.8017957255252206, 57.697524883707025, -46.30987943592427, -14.701497736619714, -59.73475063422906, 49.05949278840418, 34.879903318973575, -2.719671206450249, 1.6383987568846003, -15.453535728666305, 49.21589078547858, -60.676164106507464, -45.22654683654301, 32.62564599655738, 8.314729772079444, -54.058136292471296, 60.570397139020386, 7.619164146390988, -32.60361602810485, 58.90498675191918, 48.56710551810001, 40.9477710370247, 59.37224673992812], \"xaxis\": \"x\", \"y\": [-40.879774627262314, 40.09143842343414, -24.177001515552096, 6.904886119026182, -0.9668182392092097, -18.390857313457715, 10.507757975379775, 40.213608291184165, 37.1920796274523, 22.757489760383187, -25.52781522472163, -24.23871718851478, 34.34986160295114, -5.052811663599314, 31.796787941632868, 61.81045256539707, 28.14851577422613, 39.81958588769585, 27.920218574994678, 39.00622768414992, -5.621334093565642, -5.52654381800701, 22.78528142906467, 6.608175399908268, -34.2923382622457, 3.415647828838, 10.016915598152279, 39.202140277863236, 55.5013091518408, -47.2765451377088, 49.63232446622704, 24.65094378826361, -11.77795504033767, 19.446808848951964, -32.29206071272331, 9.149635618686212, 51.97653159048487, -54.341498103854725, 11.939259432730832, 0.1738213390589607, -40.44659029050966, -16.20838877234857], \"yaxis\": \"y\", \"type\": \"scatter\"}], \"name\": \"13\"}, {\"data\": [{\"hoverlabel\": {\"namelength\": 0}, \"hovertemplate\": \"status=2<br>step=14<br>x=%{x}<br>y=%{y}\", \"legendgroup\": \"status=2\", \"marker\": {\"color\": \"#636efa\", \"symbol\": \"circle\"}, \"mode\": \"markers\", \"name\": \"status=2\", \"showlegend\": true, \"x\": [-10.53940211096332, 11.089244598769614, 0.7665417330868003, -23.195308819297683, -12.65565321936966, -0.5315242934913582, -19.712089837808257, -21.27533897873483, 1.6175744621086885, -39.95013319304126, 3.354690444273886, -11.610981595521046, -30.680225280206663, -0.9693605490220243, 12.382262819617841, -26.199534067185457, -23.101825241402597, -27.67411492064344], \"xaxis\": \"x\", \"y\": [-45.84062716350478, 0.8632884478503233, -12.708725549100128, -1.7751388395822438, -19.24055234447222, -20.02325243908753, -19.63389604880899, -14.047273560617889, -38.045785009698136, -12.288196012411872, -19.678348629335527, -25.854232574882516, -23.84512163665874, -41.24950585345603, -18.131760190796868, -30.202235025754984, -5.761943055243632, 6.575135781898591], \"yaxis\": \"y\", \"type\": \"scatter\"}, {\"hoverlabel\": {\"namelength\": 0}, \"hovertemplate\": \"status=1<br>step=14<br>x=%{x}<br>y=%{y}\", \"legendgroup\": \"status=1\", \"marker\": {\"color\": \"#EF553B\", \"symbol\": \"circle\"}, \"mode\": \"markers\", \"name\": \"status=1\", \"showlegend\": true, \"x\": [-47.91146581529493, 8.090993251213122, -42.98292151544326, -14.699604656767079, 40.621005581424306, 40.44690476918637, -33.23445092494121, 25.38178984214874, 35.54404978883763, -24.520981257136285, 49.23868789308729, 41.652411643827996, 28.167811943297657, 27.31161432112931, -2.889693898662631, -2.3440668708475707, 8.710319450130514, 26.469993545825282, -37.11803479572764, -3.538116830034437, 58.62076858764855, -51.172280915523956, -15.914704916864645, -59.76138635231902, 44.504618456670435, 35.847785703418474, -1.5976263227419363, 0.09201397544273826, -17.225067932708303, 47.92834980459001, -55.86657250132864, -44.220382970143106, 32.34299368647331, 6.934173854123496, -54.89869060350567, 56.929041217703315, 12.449316518831033, -28.786754884425015, 56.476212618828306, 48.3219901167946, 45.70658433464829, 58.88988854762865], \"xaxis\": \"x\", \"y\": [-41.080959830935406, 41.66472819941655, -24.23903737497595, 3.4053289105283455, -3.871700571168989, -13.440755763759057, 14.0422019690472, 39.74116455531636, 39.6705305325944, 27.145345192717443, -25.654272708714032, -20.11714972728312, 38.619131502041114, -4.7065798412411315, 32.03104413703401, 62.61386053954806, 23.1821697881003, 43.041073061538235, 25.402691466604256, 38.09966420978008, -1.2126097216590352, -5.546946622941329, 26.45548140153718, 7.430958625131753, -37.04892833196341, 6.491428970279665, 7.741891541913697, 37.36153540549546, 53.306207467959844, -46.98671141912656, 46.10253908930362, 22.923242878314657, -16.078584093147807, 16.737394834737056, -32.680942679891004, 13.02590214313118, 52.92045913307041, -52.34278963829678, 9.345411514631442, -3.8494807227362315, -40.45295898782486, -16.193882524127986], \"yaxis\": \"y\", \"type\": \"scatter\"}], \"name\": \"14\"}, {\"data\": [{\"hoverlabel\": {\"namelength\": 0}, \"hovertemplate\": \"status=2<br>step=15<br>x=%{x}<br>y=%{y}\", \"legendgroup\": \"status=2\", \"marker\": {\"color\": \"#636efa\", \"symbol\": \"circle\"}, \"mode\": \"markers\", \"name\": \"status=2\", \"showlegend\": true, \"x\": [-13.80599011719144, 7.020373895361516, -2.4087443271342894, -28.140748962755918, -14.63285403428509, -3.7884284972605027, -21.00886535260352, -21.967374117621667, 5.336087173227558, -41.139994710860435, 6.235285147546458, -12.034704002967402, -31.176126370521487, -2.8725045302466463, 13.081721182302818, -21.466563332455657, -24.22168042650891, -26.269371090443705], \"xaxis\": \"x\", \"y\": [-48.92713120095712, -3.3031653203027327, -12.276095684517905, -5.136093981691416, -15.147126994295853, -16.195879882151687, -23.05282957921991, -17.503865998115778, -42.93660770952131, -7.8279223051115725, -18.374215306909925, -21.18898808770315, -19.996424604323963, -40.07808151670233, -14.13242738610788, -26.5610455595462, -4.583518604976121, 3.5381142671841355], \"yaxis\": \"y\", \"type\": \"scatter\"}, {\"hoverlabel\": {\"namelength\": 0}, \"hovertemplate\": \"status=1<br>step=15<br>x=%{x}<br>y=%{y}\", \"legendgroup\": \"status=1\", \"marker\": {\"color\": \"#EF553B\", \"symbol\": \"circle\"}, \"mode\": \"markers\", \"name\": \"status=1\", \"showlegend\": true, \"x\": [-50.10782786475325, 5.445116392686569, -39.532205287914515, -16.34756259510577, 40.70357741700342, 44.153358868487956, -32.99634119915593, 21.674500614808903, 38.297909150066324, -27.38818667545078, 52.82225204855178, 41.97250472686091, 27.300645414855303, 27.21752649474865, 0.6730661697732883, -4.887318526771837, 6.792862086572239, 28.582246743196237, -37.877132697455735, -5.833474977589885, 63.54547963481728, -53.123840324220055, -18.256398560479543, -58.72921248548549, 42.28390259207152, 39.32081004782291, 3.2894279366836923, -2.384552942899853, -15.961546587039368, 44.05624489980595, -54.6495457398603, -46.71644620436905, 35.621100506229034, 11.456702289037196, -56.86877115993455, 61.48575038889403, 7.6776092444943655, -27.35913599516165, 57.95330999870448, 48.70772563919354, 49.785722529791975, 59.52767019663583], \"xaxis\": \"x\", \"y\": [-45.61260204950352, 38.68932562525606, -28.59317207135887, 0.759813446391584, -1.6354616844186909, -11.086881701812551, 17.355061701002942, 44.41950394478547, 39.83598530348121, 25.31387207308033, -21.602309889549588, -18.561978831059704, 35.10476088083195, -1.5249306127172115, 36.832340789098325, 63.25974558636096, 24.516285043418833, 38.74180095071287, 22.39138010280778, 34.16145139478599, -5.966058015964279, -8.613184762109888, 30.59382990538111, 3.2109544721707364, -32.52949872069146, 8.418465510324836, 9.105129199201425, 34.98327973472994, 54.188715703100755, -48.44172975794496, 47.050252307561294, 24.32009699260823, -20.7496313049882, 21.543253178488985, -36.690763995749776, 15.735271062721747, 50.7201261708084, -51.65955002111919, 8.569391843499528, -3.3001398005838913, -37.72075398222377, -20.344341218593325], \"yaxis\": \"y\", \"type\": \"scatter\"}], \"name\": \"15\"}]);\n",
       "                        }).then(function(){\n",
       "                            \n",
       "var gd = document.getElementById('9d7d5b3b-fb46-48aa-a65e-a7b6b64a47a3');\n",
       "var x = new MutationObserver(function (mutations, observer) {{\n",
       "        var display = window.getComputedStyle(gd).display;\n",
       "        if (!display || display === 'none') {{\n",
       "            console.log([gd, 'removed!']);\n",
       "            Plotly.purge(gd);\n",
       "            observer.disconnect();\n",
       "        }}\n",
       "}});\n",
       "\n",
       "// Listen for the removal of the full notebook cells\n",
       "var notebookContainer = gd.closest('#notebook-container');\n",
       "if (notebookContainer) {{\n",
       "    x.observe(notebookContainer, {childList: true});\n",
       "}}\n",
       "\n",
       "// Listen for the clearing of the current output cell\n",
       "var outputEl = gd.closest('.output');\n",
       "if (outputEl) {{\n",
       "    x.observe(outputEl, {childList: true});\n",
       "}}\n",
       "\n",
       "                        })\n",
       "                };\n",
       "                });\n",
       "            </script>\n",
       "        </div>"
      ]
     },
     "metadata": {},
     "output_type": "display_data"
    }
   ],
   "source": [
    "fig2.layout.updatemenus[0].buttons[0].args[1][\"frame\"][\"duration\"] = 500\n",
    "fig2.layout.updatemenus[0].buttons[0].args[1][\"frame\"][\"redraw\"] = True\n",
    "fig2.layout.sliders[0]['currentvalue']['prefix'] = \"Day=\"\n",
    "fig2.update_layout(coloraxis_showscale=False, title = \"SIR Model\")\n",
    "#for i in range(0,60):\n",
    "#    fig2.layout.sliders[0]['steps'][i].args[1][\"frame\"][\"redraw\"] = True \n",
    "fig2.show()"
   ]
  },
  {
   "cell_type": "code",
   "execution_count": null,
   "metadata": {
    "scrolled": true
   },
   "outputs": [],
   "source": [
    "# Total population, N.\n",
    "N = 250\n",
    "# Initial number of infected and recovered individuals, I0 and R0.\n",
    "I0, R0 = 1, 0\n",
    "# Everyone else, S0, is susceptible to infection initially.\n",
    "S0 = N - I0 - R0\n",
    "# Contact rate, beta, and mean recovery rate, gamma, (in 1/days).\n",
    "beta, gamma = 0.2, 1/10 \n",
    "# A grid of time points (in days)\n",
    "t = np.linspace(0, 160, 160)\n",
    "\n",
    "# The SIR model differential equations.\n",
    "def deriv(y, t, N, beta, gamma):\n",
    "    S, I, R = y\n",
    "    dSdt = -beta * S * I / N\n",
    "    dIdt = beta * S * I / N - gamma * I\n",
    "    dRdt = gamma * I\n",
    "    return dSdt, dIdt, dRdt\n",
    "\n",
    "# Initial conditions vector\n",
    "y0 = S0, I0, R0\n",
    "# Integrate the SIR equations over the time grid, t.\n",
    "ret = odeint(deriv, y0, t, args=(N, beta, gamma))\n",
    "S, I, R = ret.T\n",
    "\n",
    "# Plot the data on three separate curves for S(t), I(t) and R(t)\n",
    "fig = plt.figure(facecolor='w')\n",
    "ax = fig.add_subplot(111, axisbelow=True)\n",
    "ax.plot(t, S/N, 'b', alpha=0.5, lw=2, label='Susceptible')\n",
    "ax.plot(t, I/N, 'r', alpha=0.5, lw=2, label='Infected')\n",
    "ax.plot(t, R/N, 'g', alpha=0.5, lw=2, label='Recovered with immunity')\n",
    "ax.set_xlabel('Time /days')\n",
    "ax.set_ylabel('Number (1000s)')\n",
    "ax.set_ylim(0,1.2)\n",
    "ax.yaxis.set_tick_params(length=0)\n",
    "ax.xaxis.set_tick_params(length=0)\n",
    "ax.grid(b=True, which='major', c='w', lw=2, ls='-')\n",
    "legend = ax.legend()\n",
    "legend.get_frame().set_alpha(0.5)\n",
    "for spine in ('top', 'right', 'bottom', 'left'):\n",
    "    ax.spines[spine].set_visible(False)\n",
    "plt.show()"
   ]
  },
  {
   "cell_type": "markdown",
   "metadata": {},
   "source": []
  }
 ],
 "metadata": {
  "kernelspec": {
   "display_name": "Python 3",
   "language": "python",
   "name": "python3"
  },
  "language_info": {
   "codemirror_mode": {
    "name": "ipython",
    "version": 3
   },
   "file_extension": ".py",
   "mimetype": "text/x-python",
   "name": "python",
   "nbconvert_exporter": "python",
   "pygments_lexer": "ipython3",
   "version": "3.6.6"
  }
 },
 "nbformat": 4,
 "nbformat_minor": 2
}
